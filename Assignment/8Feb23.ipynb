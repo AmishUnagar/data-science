{
 "cells": [
  {
   "cell_type": "markdown",
   "id": "8d92f601-3cbc-41c8-90bc-d53d66850825",
   "metadata": {},
   "source": [
    "Q1. What is Abstraction in OOps? Explain with an example."
   ]
  },
  {
   "cell_type": "markdown",
   "id": "43997a75-697c-4653-a48f-54fbfa1b9037",
   "metadata": {},
   "source": [
    "Abstraction is one of the fundamental concepts of object-oriented programming (OOPs) that focuses on the essential features of an object and hides the implementation details from the user. In simpler terms, abstraction helps to create a simplified view of an object or system that only reveals the necessary information and hides the unnecessary complexities.\n",
    "\n",
    "In OOPs, abstraction is implemented using abstract classes and interfaces. An abstract class is a class that contains one or more abstract methods that are declared but not implemented. An abstract class cannot be instantiated, but it can be subclassed. A subclass of an abstract class must implement all the abstract methods in the superclass. On the other hand, an interface is a collection of abstract methods that defines a set of behaviors. A class that implements an interface must implement all the methods declared in the interface."
   ]
  },
  {
   "cell_type": "code",
   "execution_count": 1,
   "id": "00a1c25b-3c38-47c3-af85-b7440ded086f",
   "metadata": {},
   "outputs": [],
   "source": [
    "import abc\n",
    "class car:\n",
    "    \n",
    "    @abc.abstractmethod\n",
    "    def car_color(self):\n",
    "        pass\n",
    "    \n",
    "    @abc.abstractmethod\n",
    "    def car_brand(self):\n",
    "        pass\n",
    "    \n",
    "    @abc.abstractmethod\n",
    "    def car_modal(self):\n",
    "        pass\n",
    "    "
   ]
  },
  {
   "cell_type": "code",
   "execution_count": 2,
   "id": "bee0fb11-bfc0-41bf-9ead-5df69386353b",
   "metadata": {},
   "outputs": [],
   "source": [
    "class tata(car):\n",
    "    \n",
    "    def car_color(self):\n",
    "        return \"this is represent Color of tata car\"\n",
    "    \n",
    "    def car_brand(self):\n",
    "        return \"this is represent brand of tata car\""
   ]
  },
  {
   "cell_type": "code",
   "execution_count": 3,
   "id": "a6429124-b7b1-430a-8f74-1a23086b93bd",
   "metadata": {},
   "outputs": [],
   "source": [
    "obj = tata()"
   ]
  },
  {
   "cell_type": "code",
   "execution_count": 4,
   "id": "ac091a8e-0f06-4779-b135-26f9ff60ee79",
   "metadata": {},
   "outputs": [
    {
     "data": {
      "text/plain": [
       "'this is represent Color of tata car'"
      ]
     },
     "execution_count": 4,
     "metadata": {},
     "output_type": "execute_result"
    }
   ],
   "source": [
    "obj.car_color()"
   ]
  },
  {
   "cell_type": "markdown",
   "id": "bb09e2a8-27b1-4128-9ab6-3acda778e0fb",
   "metadata": {},
   "source": [
    "Q2. Differentiate between Abstraction and Encapsulation. Explain with an example."
   ]
  },
  {
   "cell_type": "markdown",
   "id": "350922c5-530f-4bec-aab1-de99e82cee38",
   "metadata": {},
   "source": [
    "Abstraction and Encapsulation are two important concepts in object-oriented programming. Abstraction refers to the process of focusing on essential features of an object while ignoring the irrelevant details, whereas Encapsulation is the technique of wrapping data and code that manipulate data into a single unit, and keeping it hidden from the outside world.\n",
    "\n",
    "Abstraction helps in reducing the complexity of the system by hiding the unnecessary details, whereas encapsulation helps in making the code more maintainable, reusable, and robust.\n",
    "\n",
    "For example, let's consider a car as an object. The driver of the car only needs to know how to operate the car, such as how to accelerate, brake, and steer the car. The driver does not need to know the intricate details of how the car's engine, transmission, or suspension work. This is an example of abstraction, where the essential features of the car are focused on while ignoring the irrelevant details.\n",
    "\n",
    "Encapsulation, on the other hand, refers to the technique of hiding the internal details of the car, such as the engine, transmission, or suspension, from the outside world. The driver only interacts with the car through a set of public methods, such as the gas pedal, brake pedal, and steering wheel, which are responsible for encapsulating the internal workings of the car. By doing so, any changes made to the internal workings of the car will not affect the driver's ability to operate the car."
   ]
  },
  {
   "cell_type": "markdown",
   "id": "723a895b-a1fe-4cda-a5ab-d07df0a8c720",
   "metadata": {},
   "source": [
    "Q3. What is abc module in python? Why is it used?"
   ]
  },
  {
   "cell_type": "markdown",
   "id": "9123a5f9-085f-4863-a300-5b414a7eba05",
   "metadata": {},
   "source": [
    "The abc module in Python stands for \"Abstract Base Classes\". It provides a way to define abstract classes and interfaces in Python, which allows developers to write code that is more modular, extensible, and maintainable.\n",
    "\n",
    "An abstract base class (ABC) is a special kind of class that cannot be instantiated. Instead, it is meant to serve as a template or a blueprint for other classes that inherit from it. Abstract classes define a set of methods or properties that subclasses must implement. This helps ensure that classes that inherit from an ABC conform to a specific interface or API.\n",
    "\n",
    "The abc module provides a way to define abstract base classes in Python. It includes a few key functions and classes, such as ABC, abstractmethod, and register.\n",
    "\n",
    "Here's a brief overview of what each of these does:\n",
    "\n",
    "ABC: A base class that can be used to define abstract base classes. It is typically used as a parent class for other ABCs.\n",
    "\n",
    "abstractmethod: A decorator that is used to define abstract methods in an abstract base class. Abstract methods are methods that do not have an implementation and must be overridden by subclasses.\n",
    "\n",
    "register: A method that is used to register a class as a subclass of an ABC. This is typically used by framework or library developers to ensure that users of their code implement the necessary interfaces or APIs.\n",
    "\n",
    "The abc module is used in Python for several purposes, including:\n",
    "\n",
    "Creating interfaces and APIs that are enforced by subclasses\n",
    "Providing a common set of functionality that can be used by multiple classes\n",
    "Ensuring that subclasses implement certain methods or properties\n",
    "Improving code organization and maintainability by making it more modular and extensible\n",
    "Overall, the abc module is a powerful tool for developers who want to write modular, extensible, and maintainable code in Python."
   ]
  },
  {
   "cell_type": "markdown",
   "id": "f048946d-b74b-4e56-aba4-5c44a9391c56",
   "metadata": {},
   "source": [
    "4. How can we achieve data abstraction?"
   ]
  },
  {
   "cell_type": "markdown",
   "id": "ff539b8a-e482-4884-8a13-696e7cec7740",
   "metadata": {},
   "source": [
    "Data abstraction is the process of simplifying complex data structures by providing a high-level interface to access them. It helps to manage complexity, reduce code duplication, and improve maintainability of software systems.\n",
    "\n",
    "Here are some ways to achieve data abstraction:\n",
    "\n",
    "Encapsulation: Encapsulation is the process of hiding the implementation details of a class and exposing only the relevant information through methods. By encapsulating data, we can ensure that data is only accessible through a specific interface, which makes it easier to maintain and modify the code.\n",
    "\n",
    "Data structures: Use data structures like arrays, lists, and dictionaries to abstract data. Data structures provide a simplified interface to access data by grouping related data elements into a single data type.\n",
    "\n",
    "Classes: Use classes to abstract data and behavior. Classes provide a blueprint for creating objects that have properties and methods. By using classes, we can create an abstraction layer between the application and the data storage, which makes it easier to modify the data storage implementation without affecting the application.\n",
    "\n",
    "Interfaces: Use interfaces to provide a contract for accessing data. An interface defines a set of methods that a class must implement. By using interfaces, we can ensure that the application can interact with different data sources using the same interface, which improves the flexibility and extensibility of the system.\n",
    "\n",
    "Overall, achieving data abstraction requires careful design and implementation of software components. By using encapsulation, data structures, classes, and interfaces, we can create a simplified and flexible interface for accessing complex data structures."
   ]
  },
  {
   "cell_type": "markdown",
   "id": "d494b146-8231-4a4f-8e59-09243adfc0c0",
   "metadata": {},
   "source": [
    "Q5. Can we create an instance of an abstract class? Explain your answer."
   ]
  },
  {
   "cell_type": "markdown",
   "id": "0087e265-93be-4abc-9325-57dbfa0fdbcf",
   "metadata": {},
   "source": [
    "No, we cannot create an instance of an abstract class directly. An abstract class is a class that contains one or more abstract methods, which are declared but not implemented. An abstract class is meant to be subclassed and its abstract methods are meant to be implemented by its subclasses.\n",
    "\n",
    "Because an abstract class contains at least one abstract method, it is considered incomplete and cannot be instantiated directly. Attempting to create an instance of an abstract class will result in a compile-time error.\n",
    "\n",
    "To use an abstract class, we must create a subclass that extends the abstract class and provides implementations for all of its abstract methods. The subclass can then be instantiated and used just like any other class."
   ]
  },
  {
   "cell_type": "code",
   "execution_count": null,
   "id": "1a4dad87-d740-4710-90ce-74c04b6e8afc",
   "metadata": {},
   "outputs": [],
   "source": []
  }
 ],
 "metadata": {
  "kernelspec": {
   "display_name": "Python 3 (ipykernel)",
   "language": "python",
   "name": "python3"
  },
  "language_info": {
   "codemirror_mode": {
    "name": "ipython",
    "version": 3
   },
   "file_extension": ".py",
   "mimetype": "text/x-python",
   "name": "python",
   "nbconvert_exporter": "python",
   "pygments_lexer": "ipython3",
   "version": "3.10.8"
  }
 },
 "nbformat": 4,
 "nbformat_minor": 5
}
