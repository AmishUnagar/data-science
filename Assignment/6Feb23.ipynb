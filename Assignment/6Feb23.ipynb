{
 "cells": [
  {
   "cell_type": "markdown",
   "id": "4a8871d1-0fe4-440d-a1fa-50796f63e1fc",
   "metadata": {},
   "source": [
    "Q1. Create a function which will take a list as an argument and return the product of all the numbers after creating a flat list"
   ]
  },
  {
   "cell_type": "code",
   "execution_count": 1,
   "id": "a6f100ac-6c03-45e6-b39b-37a2a90759b2",
   "metadata": {},
   "outputs": [],
   "source": [
    "list1 = [1,2,3,4, [44,55,66, True], False, (34,56,78,89,34), {1,2,3,3,2,1}, {1:34, \"key2\": [55, 67, 78, 89], 4: (45,\n",
    "22, 61, 34)}, [56, 'data science'], 'Machine Learning']"
   ]
  },
  {
   "cell_type": "code",
   "execution_count": 2,
   "id": "621e10d7-afd2-43a4-a285-5c0026450806",
   "metadata": {},
   "outputs": [
    {
     "data": {
      "text/plain": [
       "[1,\n",
       " 2,\n",
       " 3,\n",
       " 4,\n",
       " [44, 55, 66, True],\n",
       " False,\n",
       " (34, 56, 78, 89, 34),\n",
       " {1, 2, 3},\n",
       " {1: 34, 'key2': [55, 67, 78, 89], 4: (45, 22, 61, 34)},\n",
       " [56, 'data science'],\n",
       " 'Machine Learning']"
      ]
     },
     "execution_count": 2,
     "metadata": {},
     "output_type": "execute_result"
    }
   ],
   "source": [
    "list1"
   ]
  },
  {
   "cell_type": "code",
   "execution_count": 5,
   "id": "7012544f-5519-4fce-8ab5-e103ac405e64",
   "metadata": {},
   "outputs": [
    {
     "name": "stdout",
     "output_type": "stream",
     "text": [
      "4134711838987085478833841242112000\n"
     ]
    }
   ],
   "source": [
    "from functools import reduce \n",
    "\n",
    "def fnum(l):\n",
    "    \n",
    "    def fil(x,y):\n",
    "        if type(x) == int or type(x) == float:\n",
    "            y.append(x)\n",
    "        if type(x) == list or type(x) == tuple or type(x) == set:\n",
    "            for b in x:\n",
    "                y.append(b)\n",
    "                \n",
    "    fl = []\n",
    "    for a in l:\n",
    "        fil(a,fl)\n",
    "        if type(a) == dict:\n",
    "            for c in list(a.keys()):\n",
    "                fil(c,fl)\n",
    "            for e in list(a.values()):\n",
    "                fil(e,fl)\n",
    "            \n",
    "    o = list(filter(lambda x:type(x) == int,fl))\n",
    "    return o\n",
    "\n",
    "final = fnum(list1)\n",
    "print(reduce(lambda x,y:x*y,final))"
   ]
  },
  {
   "cell_type": "markdown",
   "id": "f393998d-4e6a-446e-9b08-2e8e02d456cd",
   "metadata": {},
   "source": [
    "2. Write a python program for encrypting a message sent to you by your friend. The logic of encryption\n",
    "should be such that, for a the output should be z. For b, the output should be y. For c, the output should\n",
    "be x respectively. Also, the whitespace should be replaced with a dollar sign. Keep the punctuation\n",
    "marks unchanged."
   ]
  },
  {
   "cell_type": "code",
   "execution_count": 41,
   "id": "a64b25d2-7793-4c0e-8c67-4e49bf69643a",
   "metadata": {},
   "outputs": [],
   "source": [
    "str1= \"I want to become a Data Scientist\".lower()\n",
    "d=str1\n",
    "alpha=\" abcdefghijklmnopqrstvuwsyz$\""
   ]
  },
  {
   "cell_type": "code",
   "execution_count": 42,
   "id": "a95d824a-70f4-445d-9f3a-525971c6c20b",
   "metadata": {},
   "outputs": [
    {
     "name": "stdout",
     "output_type": "stream",
     "text": [
      "r$wzmg$gl$yuhlmu$z$wzgz$hhrumgrhg\n"
     ]
    }
   ],
   "source": [
    "for i in str1:\n",
    "    a= alpha.find(i)\n",
    "    if a== -1 and i!=alpha[-1]:\n",
    "        pass\n",
    "    else:\n",
    "        d = d.replace(i,alpha[-(a+1)]) \n",
    "\n",
    "print(d)"
   ]
  },
  {
   "cell_type": "code",
   "execution_count": null,
   "id": "f11f9e9a-1f04-4bd0-aab6-a2cec1ead5c9",
   "metadata": {},
   "outputs": [],
   "source": [
    " "
   ]
  }
 ],
 "metadata": {
  "kernelspec": {
   "display_name": "Python 3 (ipykernel)",
   "language": "python",
   "name": "python3"
  },
  "language_info": {
   "codemirror_mode": {
    "name": "ipython",
    "version": 3
   },
   "file_extension": ".py",
   "mimetype": "text/x-python",
   "name": "python",
   "nbconvert_exporter": "python",
   "pygments_lexer": "ipython3",
   "version": "3.10.8"
  }
 },
 "nbformat": 4,
 "nbformat_minor": 5
}
