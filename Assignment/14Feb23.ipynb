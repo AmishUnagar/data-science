{
 "cells": [
  {
   "cell_type": "markdown",
   "id": "8b9a1828-f289-4ba7-a5d1-778c92158215",
   "metadata": {},
   "source": [
    "(1). hat is multithreading in python? hy is it used? Name the module used to handle threads in python"
   ]
  },
  {
   "cell_type": "markdown",
   "id": "49969a9c-9eb8-431b-989a-17dcdcdd1149",
   "metadata": {},
   "source": [
    "Multithreading is a programming technique in which a program is broken down into two or more parallel threads of execution that can run simultaneously. In Python, multithreading can be achieved by using the threading module.\n",
    "\n",
    "Multithreading is used to improve the performance and efficiency of a program by allowing it to perform multiple tasks at the same time. For example, if you have a program that needs to download data from multiple sources, you can create multiple threads to download data from each source simultaneously. This can significantly reduce the time it takes to download all the data.\n",
    "\n",
    "The threading module provides a simple way to create and manage threads in Python. It allows you to create new threads, start and stop them, and communicate between threads using shared variables. The threading module also provides a number of synchronization primitives such as locks, events, and conditions that can be used to coordinate the actions of multiple threads.\n",
    "\n",
    "Here's an example of how to use the threading module to create a simple multithreaded program:"
   ]
  },
  {
   "cell_type": "code",
   "execution_count": 1,
   "id": "c97062ad-7809-4de1-b174-696f85f296e1",
   "metadata": {},
   "outputs": [
    {
     "name": "stdout",
     "output_type": "stream",
     "text": [
      "0\n",
      "1\n",
      "2\n",
      "3\n",
      "4\n",
      "5\n",
      "6\n",
      "7\n",
      "8\n",
      "9\n",
      "a\n",
      "b\n",
      "c\n",
      "d\n",
      "e\n",
      "Done!\n"
     ]
    }
   ],
   "source": [
    " import threading\n",
    "\n",
    "def print_numbers():\n",
    "    for i in range(10):\n",
    "        print(i)\n",
    "\n",
    "def print_letters():\n",
    "    for letter in ['a', 'b', 'c', 'd', 'e']:\n",
    "        print(letter)\n",
    "\n",
    "# create two threads\n",
    "t1 = threading.Thread(target=print_numbers)\n",
    "t2 = threading.Thread(target=print_letters)\n",
    "\n",
    "# start the threads\n",
    "t1.start()\n",
    "t2.start()\n",
    "\n",
    "# wait for the threads to finish\n",
    "t1.join()\n",
    "t2.join()\n",
    "\n",
    "print(\"Done!\")\n"
   ]
  },
  {
   "cell_type": "markdown",
   "id": "9607eca8-76a8-4678-81ab-ff073a494937",
   "metadata": {},
   "source": [
    " (2) Why threading module used? rite the use of the following functions\n",
    " activeCount()\n",
    " currentThread()\n",
    " enumerate()"
   ]
  },
  {
   "cell_type": "markdown",
   "id": "74a23af1-444f-4427-889e-3586dd331bae",
   "metadata": {},
   "source": [
    "The threading module in Python is used for creating and managing threads within a program. Threads are used to execute multiple tasks simultaneously, allowing programs to make better use of available resources.\n",
    "\n",
    "Here are the uses of the following functions in the threading module:\n",
    "\n",
    "activeCount(): This function returns the number of active threads in the current thread's thread control block. This can be useful for debugging or monitoring purposes, as it allows you to see how many threads are currently running in your program.\n",
    "\n",
    "currentThread(): This function returns a reference to the current thread object. You can use this function to get information about the current thread, such as its name or ID.\n",
    "\n",
    "enumerate(): This function returns a list of all thread objects that are currently alive. You can use this function to get information about all the threads in your program, such as their names, IDs, and statuses.\n",
    "\n",
    "In general, these functions can be used to gain insight into the behavior of threads within a Python program. For example, you could use activeCount() to determine if your program is creating too many threads and causing performance issues. You could use currentThread() to add additional information to log messages, or to create more meaningful error messages. And you could use enumerate() to build a dashboard or monitoring tool that shows the status of all the threads in your program."
   ]
  },
  {
   "cell_type": "markdown",
   "id": "4027ff50-eb3f-45ac-aea9-789ce1ffcecd",
   "metadata": {},
   "source": [
    "3. Explain the following functions\n",
    " run()\n",
    " start()\n",
    " join()\n",
    " isAlive()"
   ]
  },
  {
   "cell_type": "markdown",
   "id": "04164410-cf9d-41c4-ac9f-f4c12d0ab058",
   "metadata": {},
   "source": [
    "These functions are related to the management and control of threads in multithreaded programming. Here's a brief explanation of each:\n",
    "\n",
    "run(): This function is called on a thread object to start its execution. The code inside the run() method of the thread is executed in a separate thread of execution.\n",
    "\n",
    "start(): This function is used to create a new thread of execution and start its execution. It is called on a thread object and it creates a new thread and then calls the run() method of the thread to start its execution.\n",
    "\n",
    "join(): This function is used to wait for a thread to finish its execution. When a thread calls the join() method on another thread object, it blocks the current thread of execution until the other thread completes its execution.\n",
    "\n",
    "isAlive(): This function is used to check whether a thread is still executing or not. When called on a thread object, it returns a boolean value indicating whether the thread is still alive (i.e., executing) or has completed its execution."
   ]
  },
  {
   "cell_type": "markdown",
   "id": "3546f144-bab8-462b-8c83-5cc4077f2c3d",
   "metadata": {},
   "source": [
    "4. rite a python program to create two threads. Thread one must print the list of squares and thread\n",
    "two must print the list of cubes"
   ]
  },
  {
   "cell_type": "code",
   "execution_count": 2,
   "id": "ed3d2975-4a74-4807-80d2-ff1053e5a9ba",
   "metadata": {},
   "outputs": [
    {
     "name": "stdout",
     "output_type": "stream",
     "text": [
      "List of squares: [1, 4, 9, 16, 25, 36, 49, 64, 81, 100]\n",
      "List of cubes: [1, 8, 27, 64, 125, 216, 343, 512, 729, 1000]\n",
      "Done!\n"
     ]
    }
   ],
   "source": [
    "import threading\n",
    "\n",
    "# Define a function to print the list of squares\n",
    "def print_squares():\n",
    "    squares = [i**2 for i in range(1, 11)]\n",
    "    print(\"List of squares:\", squares)\n",
    "\n",
    "# Define a function to print the list of cubes\n",
    "def print_cubes():\n",
    "    cubes = [i**3 for i in range(1, 11)]\n",
    "    print(\"List of cubes:\", cubes)\n",
    "\n",
    "# Create two threads to run the functions in parallel\n",
    "t1 = threading.Thread(target=print_squares)\n",
    "t2 = threading.Thread(target=print_cubes)\n",
    "\n",
    "# Start the threads\n",
    "t1.start()\n",
    "t2.start()\n",
    "\n",
    "# Wait for the threads to complete\n",
    "t1.join()\n",
    "t2.join()\n",
    "\n",
    "print(\"Done!\")\n"
   ]
  },
  {
   "cell_type": "markdown",
   "id": "48811f6a-0371-4dfb-b940-5b76e5813e52",
   "metadata": {},
   "source": [
    "5. State advantages and disadvantages of multithreading"
   ]
  },
  {
   "cell_type": "markdown",
   "id": "ee04b9b5-a3bd-4872-836d-f4c4a440e034",
   "metadata": {},
   "source": [
    "1. Advantages of Multithreading:\n",
    "\n",
    "Increased Performance: Multithreading can help to improve the performance of a program by utilizing the available resources of a system efficiently. With multiple threads running in parallel, a program can execute several tasks simultaneously, leading to faster execution times.\n",
    "\n",
    "Better Resource Utilization: With multithreading, multiple threads can run on a single CPU, which can lead to better utilization of system resources. This can help to improve overall system efficiency and reduce hardware costs.\n",
    "\n",
    "Enhanced Responsiveness: Multithreading can help to improve the responsiveness of a program, as it allows for concurrent execution of multiple tasks. This can be particularly useful in applications that require real-time processing, such as video or audio streaming.\n",
    "\n",
    "Improved Modularity: Multithreading can help to improve the modularity of a program by separating different tasks into different threads. This can make it easier to maintain and modify the program, as each thread can be developed and tested independently.\n",
    "\n",
    "2. Disadvantages of Multithreading:\n",
    "\n",
    "Complexity: Multithreading can introduce complexity to a program, as it requires careful management of shared resources and synchronization between threads. This can lead to issues such as deadlocks and race conditions, which can be difficult to debug.\n",
    "\n",
    "Overhead: Multithreading can introduce overhead in the form of thread creation and context switching, which can reduce the overall performance of a program. In some cases, the overhead of multithreading can outweigh the benefits.\n",
    "\n",
    "Debugging Difficulties: Multithreaded programs can be more difficult to debug than single-threaded programs, as issues such as deadlocks and race conditions can be difficult to reproduce and diagnose.\n",
    "\n",
    "Portability: Multithreading can be less portable than single-threaded programs, as different operating systems and hardware platforms may have different threading models and APIs. This can make it difficult to write multithreaded programs that are portable across different platforms."
   ]
  },
  {
   "cell_type": "markdown",
   "id": "ce87855f-8bec-4d85-a12f-8dd5e48f8cc6",
   "metadata": {},
   "source": [
    "6. Explain deadlocks and race conditions."
   ]
  },
  {
   "cell_type": "code",
   "execution_count": null,
   "id": "b9aa3adc-0f28-43c7-aafe-0c5e5c444b20",
   "metadata": {},
   "outputs": [],
   "source": []
  }
 ],
 "metadata": {
  "kernelspec": {
   "display_name": "Python 3 (ipykernel)",
   "language": "python",
   "name": "python3"
  },
  "language_info": {
   "codemirror_mode": {
    "name": "ipython",
    "version": 3
   },
   "file_extension": ".py",
   "mimetype": "text/x-python",
   "name": "python",
   "nbconvert_exporter": "python",
   "pygments_lexer": "ipython3",
   "version": "3.10.8"
  }
 },
 "nbformat": 4,
 "nbformat_minor": 5
}
