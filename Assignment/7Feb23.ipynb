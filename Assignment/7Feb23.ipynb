{
 "cells": [
  {
   "cell_type": "markdown",
   "id": "3f1c6a1d-d40b-42e0-8664-d412069d584e",
   "metadata": {},
   "source": [
    "Q1. You are writing code for a company. The requirement of the company is that you create a python\n",
    "function that will check whether the password entered by the user is correct or not. The function should\n",
    "take the password as input and return the string “Valid Password” if the entered password follows the\n",
    "below-given password guidelines else it should return “Invalid Password”.\n",
    "\n",
    "\n",
    "Note: 1. The Password should contain at least two uppercase letters and at least two lowercase letters.\n",
    "2. The Password should contain at least a number and three special characters.\n",
    "3. The length of the password should be 10 characters long."
   ]
  },
  {
   "cell_type": "code",
   "execution_count": 6,
   "id": "96f47154-84c2-4d57-8323-d5c29b033c2c",
   "metadata": {},
   "outputs": [
    {
     "name": "stdin",
     "output_type": "stream",
     "text": [
      "Enter The password AMish@$#12\n"
     ]
    },
    {
     "name": "stdout",
     "output_type": "stream",
     "text": [
      "Valid Password\n"
     ]
    }
   ],
   "source": [
    "\n",
    "def check_pwd():\n",
    "    pwd = input(\"Enter The password\")\n",
    "    u,l,n,s=0,0,0,0\n",
    "    for i in pwd:\n",
    "        if i.isupper() == True:\n",
    "            u+=1\n",
    "        elif i.islower() == True:\n",
    "            l+=1\n",
    "        \n",
    "        if i.isnumeric() == True:\n",
    "            n+=1\n",
    "        elif i.isalnum() == False:\n",
    "            s+=1\n",
    "    \n",
    "    if (u>=2 and l>=2 and n>=1 and s>=3 and len(pwd)==10  ):\n",
    "        print(\"Valid Password\")\n",
    "    else:\n",
    "        print(\"Invalid Password\")\n",
    "        \n",
    "check_pwd()"
   ]
  },
  {
   "cell_type": "markdown",
   "id": "588e7cfd-310e-428d-b85e-86e0778870c4",
   "metadata": {},
   "source": [
    "Q2. Solve the below-given questions using at least one of the following:\n",
    "1. Lambda function\n",
    "2. Filter function\n",
    "3. Map function\n",
    "4. List ComprehensioI"
   ]
  },
  {
   "cell_type": "code",
   "execution_count": 12,
   "id": "6d008f4a-a030-4615-ab6d-65191ad2e177",
   "metadata": {},
   "outputs": [
    {
     "data": {
      "text/plain": [
       "True"
      ]
     },
     "execution_count": 12,
     "metadata": {},
     "output_type": "execute_result"
    }
   ],
   "source": [
    "# Check if the string starts with a particular letter\n",
    "s=\"amish\"\n",
    "check = lambda s : s[0]=='a'\n",
    "check(s)"
   ]
  },
  {
   "cell_type": "code",
   "execution_count": 15,
   "id": "fcad87c6-d4af-4c80-bb27-195b3bac9ab1",
   "metadata": {},
   "outputs": [
    {
     "data": {
      "text/plain": [
       "True"
      ]
     },
     "execution_count": 15,
     "metadata": {},
     "output_type": "execute_result"
    }
   ],
   "source": [
    "# Check if the string is numeric\n",
    "s=\"123\"\n",
    "check = lambda s : s.isnumeric()\n",
    "check(s)"
   ]
  },
  {
   "cell_type": "code",
   "execution_count": 16,
   "id": "b2616548-6545-49ee-a965-5cbcd728f684",
   "metadata": {},
   "outputs": [
    {
     "data": {
      "text/plain": [
       "[('orange', 80), ('mango', 99), ('grapes', 1000)]"
      ]
     },
     "execution_count": 16,
     "metadata": {},
     "output_type": "execute_result"
    }
   ],
   "source": [
    "#Sort a list of tuples having fruit names and their quantity. [(\"mango\",99),(\"orange\",80), (\"grapes\", 1000)]\n",
    "t=[(\"mango\",99),(\"orange\",80), (\"grapes\", 1000)]\n",
    "sort = lambda t:sorted(t,key = lambda x:x[1])\n",
    "sort(t)"
   ]
  },
  {
   "cell_type": "code",
   "execution_count": 18,
   "id": "acf25182-bbad-49c2-b0a3-199f8265ab25",
   "metadata": {},
   "outputs": [
    {
     "data": {
      "text/plain": [
       "[1, 4, 9, 16, 25, 36, 49, 64, 81, 100]"
      ]
     },
     "execution_count": 18,
     "metadata": {},
     "output_type": "execute_result"
    }
   ],
   "source": [
    "# Find the squares of numbers from 1 to 10\n",
    "sqr=[i**2 for i in range(1,11) ]\n",
    "sqr"
   ]
  },
  {
   "cell_type": "code",
   "execution_count": 22,
   "id": "78851323-649d-42df-aa22-42c1316694d0",
   "metadata": {},
   "outputs": [
    {
     "name": "stdout",
     "output_type": "stream",
     "text": [
      "[1, 8, 27, 64, 125, 216, 343, 512, 729, 1000]\n"
     ]
    }
   ],
   "source": [
    "# Find the cube root of numbers from 1 to 10\n",
    "l=list(range(1,11))\n",
    "cube=list(map(lambda a: a**3,l))\n",
    "print(cube)"
   ]
  },
  {
   "cell_type": "code",
   "execution_count": 25,
   "id": "5dfa7929-3bf8-44e4-bd6d-723701675224",
   "metadata": {},
   "outputs": [
    {
     "data": {
      "text/plain": [
       "False"
      ]
     },
     "execution_count": 25,
     "metadata": {},
     "output_type": "execute_result"
    }
   ],
   "source": [
    "# Check if a given number is even\n",
    "\n",
    "iseven = lambda x: x%2==0 \n",
    "iseven(3)"
   ]
  },
  {
   "cell_type": "code",
   "execution_count": 27,
   "id": "161aa694-e7f0-471b-89f2-4be0fc72249a",
   "metadata": {},
   "outputs": [
    {
     "data": {
      "text/plain": [
       "[1, 3, 5, 7, 9]"
      ]
     },
     "execution_count": 27,
     "metadata": {},
     "output_type": "execute_result"
    }
   ],
   "source": [
    "#  Filter odd numbers from the given list.\n",
    "l= [1,2,3,4,5,6,7,8,9,10]\n",
    "\n",
    "odd = list(filter(lambda a: a%2!=0,l))\n",
    "odd"
   ]
  },
  {
   "cell_type": "code",
   "execution_count": 31,
   "id": "1dd6ef36-0719-451d-8e9c-01043a64556d",
   "metadata": {},
   "outputs": [
    {
     "name": "stdout",
     "output_type": "stream",
     "text": [
      "positive [1, 2, 3, 4, 5, 6]\n",
      "nagitive [-1, -2, -3, -4, -5]\n"
     ]
    }
   ],
   "source": [
    "# Sort a list of integers into positive and negative integers lists.\n",
    "\n",
    "l=[1,2,3,4,5,6,-1,-2,-3,-4,-5,0]\n",
    "p = [i for i in l if i>0]\n",
    "n = [i for i in l if i<0]\n",
    "\n",
    "print(\"positive\",p)\n",
    "print(\"nagitive\",n)"
   ]
  },
  {
   "cell_type": "code",
   "execution_count": null,
   "id": "d80ddf17-0957-44fe-9543-c2b4f8cdd17b",
   "metadata": {},
   "outputs": [],
   "source": []
  }
 ],
 "metadata": {
  "kernelspec": {
   "display_name": "Python 3 (ipykernel)",
   "language": "python",
   "name": "python3"
  },
  "language_info": {
   "codemirror_mode": {
    "name": "ipython",
    "version": 3
   },
   "file_extension": ".py",
   "mimetype": "text/x-python",
   "name": "python",
   "nbconvert_exporter": "python",
   "pygments_lexer": "ipython3",
   "version": "3.10.8"
  }
 },
 "nbformat": 4,
 "nbformat_minor": 5
}
