{
 "cells": [
  {
   "cell_type": "markdown",
   "id": "bd0d8fb5-f675-439d-9361-31156016d0dd",
   "metadata": {},
   "source": [
    "Q1, Create a vehicle class with an init method having instance variables as name_of_vehicle, max_speed\n",
    "and average_of_vehicle."
   ]
  },
  {
   "cell_type": "code",
   "execution_count": 1,
   "id": "121ebe52-77f3-4d7a-96e7-c5e11bf55e97",
   "metadata": {},
   "outputs": [],
   "source": [
    "class vehicle:\n",
    "    \n",
    "    def __init__(self,name,max_speed,avg_vehicle):\n",
    "        self.name=name\n",
    "        self.max_speed = max_speed\n",
    "        self.avg_vehicle = avg_vehicle"
   ]
  },
  {
   "cell_type": "code",
   "execution_count": 5,
   "id": "8a503c5e-f7bb-405e-a107-8e84c6e96a04",
   "metadata": {},
   "outputs": [],
   "source": [
    "bike = vehicle(\"ktm\",180,20)"
   ]
  },
  {
   "cell_type": "markdown",
   "id": "301f6632-2e35-46eb-82f1-e28813eddb35",
   "metadata": {},
   "source": [
    "Q2. Create a child class car from the vehicle class created in Que 1, which will inherit the vehicle class.\n",
    "Create a method named seating_capacity which takes capacity as an argument and returns the name of\n",
    "the vehicle and its seating capacity."
   ]
  },
  {
   "cell_type": "code",
   "execution_count": 9,
   "id": "f7c3b66a-4a7d-4d71-9904-03be27f96eaf",
   "metadata": {},
   "outputs": [],
   "source": [
    "class car(vehicle):\n",
    "    \n",
    "    def seating_capacity(self,capacity):\n",
    "        self.capacity=capacity\n",
    "        return self.name,self.capacity\n",
    "        "
   ]
  },
  {
   "cell_type": "code",
   "execution_count": 10,
   "id": "1477404a-b23c-4988-be66-e752429baa1b",
   "metadata": {},
   "outputs": [],
   "source": [
    "c1 = car(\"tata\",180,50)"
   ]
  },
  {
   "cell_type": "code",
   "execution_count": 11,
   "id": "ceb30103-91e4-4cfb-8d98-69cdf8172e09",
   "metadata": {},
   "outputs": [
    {
     "data": {
      "text/plain": [
       "('tata', 5)"
      ]
     },
     "execution_count": 11,
     "metadata": {},
     "output_type": "execute_result"
    }
   ],
   "source": [
    "c1.seating_capacity(5)"
   ]
  },
  {
   "cell_type": "markdown",
   "id": "8d24e79d-20b9-4a35-84e8-9d73289295c0",
   "metadata": {},
   "source": [
    "Q3. What is multiple inheritance? Write a python code to demonstrate multiple inheritance."
   ]
  },
  {
   "cell_type": "markdown",
   "id": "8037b9aa-b058-4ed6-98bf-08e81f16d6a3",
   "metadata": {},
   "source": [
    "Multiple inheritance is a feature of object-oriented programming languages that allows a class to inherit properties and methods from more than one parent class. In Python, a class can inherit from multiple parent classes by listing them in a comma-separated list inside the parentheses following the class name"
   ]
  },
  {
   "cell_type": "code",
   "execution_count": 12,
   "id": "21da8639-5f35-4d4c-9aec-5148a9fa55d0",
   "metadata": {},
   "outputs": [],
   "source": [
    "class Parent1:\n",
    "    def method1(self):\n",
    "        print(\"This is method 1 of Parent 1.\")\n",
    "\n",
    "class Parent2:\n",
    "    def method2(self):\n",
    "        print(\"This is method 2 of Parent 2.\")\n",
    "\n",
    "class Child(Parent1, Parent2):\n",
    "    def method3(self):\n",
    "        print(\"This is method 3 of Child.\")"
   ]
  },
  {
   "cell_type": "code",
   "execution_count": 13,
   "id": "b9c4a7fd-bab8-4381-bc56-006991829350",
   "metadata": {},
   "outputs": [
    {
     "name": "stdout",
     "output_type": "stream",
     "text": [
      "This is method 1 of Parent 1.\n",
      "This is method 2 of Parent 2.\n",
      "This is method 3 of Child.\n"
     ]
    }
   ],
   "source": [
    "c = Child()\n",
    "c.method1()\n",
    "c.method2()\n",
    "c.method3()"
   ]
  },
  {
   "cell_type": "markdown",
   "id": "735a9c08-01c1-4b3a-8cf3-e68442d54d97",
   "metadata": {},
   "source": [
    "Q4. What are getter and setter in python? Create a class and create a getter and a setter method in this\n",
    "class"
   ]
  },
  {
   "cell_type": "markdown",
   "id": "f52f21c8-6dc4-42bf-9943-db29aa917ab1",
   "metadata": {},
   "source": [
    "In Python, getter and setter methods are used to access and modify the private attributes of a class respectively.\n",
    "\n",
    "A getter method is used to retrieve the value of a private attribute and a setter method is used to modify the value of a private attribute."
   ]
  },
  {
   "cell_type": "code",
   "execution_count": 14,
   "id": "336d197e-8c88-40d9-90dc-5d51b715a712",
   "metadata": {},
   "outputs": [],
   "source": [
    "class Person:\n",
    "    def __init__(self, name, age):\n",
    "        self.name = name\n",
    "        self.__age = age   # double underscore (__) is used to make the attribute private\n",
    "\n",
    "    def get_age(self):\n",
    "        return self.__age\n",
    "\n",
    "    def set_age(self, age):\n",
    "        if age < 0:\n",
    "            raise ValueError(\"Age cannot be negative\")\n",
    "        self.__age = age\n"
   ]
  },
  {
   "cell_type": "code",
   "execution_count": 17,
   "id": "1a397885-ae7c-4c86-98d2-e28c79c46d93",
   "metadata": {},
   "outputs": [
    {
     "name": "stdout",
     "output_type": "stream",
     "text": [
      "30\n"
     ]
    },
    {
     "data": {
      "text/plain": [
       "40"
      ]
     },
     "execution_count": 17,
     "metadata": {},
     "output_type": "execute_result"
    }
   ],
   "source": [
    "person = Person(\"John\", 30)\n",
    "print(person.get_age())   \n",
    "\n",
    "person.set_age(40)\n",
    "person.get_age()\n"
   ]
  },
  {
   "cell_type": "markdown",
   "id": "e02fa1e3-a320-4bf1-be50-67f2e5b107fd",
   "metadata": {},
   "source": [
    "Q5.What is method overriding in python? Write a python code to demonstrate method overriding"
   ]
  },
  {
   "cell_type": "markdown",
   "id": "fc12101c-5480-462e-a72e-6e27ef12c64a",
   "metadata": {},
   "source": [
    "Method overriding is a feature of object-oriented programming that allows a subclass to provide its own implementation of a method that is already defined in its superclass. When a method in the subclass has the same name, same parameters or arguments, and the same return type as a method in the superclass, then the method in the subclass is said to override the method in the superclass."
   ]
  },
  {
   "cell_type": "code",
   "execution_count": 18,
   "id": "5bf3dd34-410f-41a7-ac0a-bc1bda1a67ed",
   "metadata": {},
   "outputs": [
    {
     "name": "stdout",
     "output_type": "stream",
     "text": [
      "The dog barks.\n",
      "The cat meows.\n"
     ]
    }
   ],
   "source": [
    "class Animal:\n",
    "    def make_sound(self):\n",
    "        print(\"The animal makes a sound.\")\n",
    "\n",
    "class Dog(Animal):\n",
    "    def make_sound(self):\n",
    "        print(\"The dog barks.\")\n",
    "\n",
    "class Cat(Animal):\n",
    "    def make_sound(self):\n",
    "        print(\"The cat meows.\")\n",
    "\n",
    "dog = Dog()\n",
    "cat = Cat()\n",
    "dog.make_sound()\n",
    "cat.make_sound()"
   ]
  },
  {
   "cell_type": "code",
   "execution_count": null,
   "id": "5dcb860d-431b-4898-b3ce-28612914182b",
   "metadata": {},
   "outputs": [],
   "source": []
  }
 ],
 "metadata": {
  "kernelspec": {
   "display_name": "Python 3 (ipykernel)",
   "language": "python",
   "name": "python3"
  },
  "language_info": {
   "codemirror_mode": {
    "name": "ipython",
    "version": 3
   },
   "file_extension": ".py",
   "mimetype": "text/x-python",
   "name": "python",
   "nbconvert_exporter": "python",
   "pygments_lexer": "ipython3",
   "version": "3.10.8"
  }
 },
 "nbformat": 4,
 "nbformat_minor": 5
}
