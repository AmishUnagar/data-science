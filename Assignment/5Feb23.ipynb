{
 "cells": [
  {
   "cell_type": "markdown",
   "id": "6e5f7594-b358-4ebe-ad60-ec4fa8ca5ccb",
   "metadata": {},
   "source": [
    "Q1. Explain Class and Object with respect to Object-Oriented Programming. Give a suitable example"
   ]
  },
  {
   "cell_type": "markdown",
   "id": "1168741c-e975-4f5a-b708-9f8ed9d844e8",
   "metadata": {},
   "source": [
    "In object-oriented programming, a class is a blueprint or template that describes the attributes and behaviors of a set of objects. It defines the characteristics that the objects of the class will have, such as their properties and methods.\n",
    "\n",
    "On the other hand, an object is an instance of a class, which is created based on the blueprint defined by the class. It is a specific entity that has its own set of properties and methods, which are defined by the class.\n",
    "\n",
    "For example, let's say we have a class called \"Car.\" This class could have properties such as the make, model, year, and color of the car, as well as methods such as \"start,\" \"stop,\" and \"accelerate.\"\n",
    "\n",
    "We can create objects of the Car class, such as a red 2021 Toyota Corolla, a blue 2018 Honda Civic, and a black 2022 Tesla Model S. Each of these objects will have their own set of properties, such as their make, model, year, and color, and can perform the methods defined by the Car class, such as starting and stopping the engine, and accelerating or braking."
   ]
  },
  {
   "cell_type": "markdown",
   "id": "d433ed17-603f-4c93-ae9c-6b64f6f88805",
   "metadata": {},
   "source": [
    "Q2. Name the four pillars of OOPs."
   ]
  },
  {
   "cell_type": "markdown",
   "id": "36fb7dab-2298-4c91-b7ab-95a2374df7b1",
   "metadata": {},
   "source": [
    "The four pillars of Object-Oriented Programming (OOP) are:\n",
    "\n",
    "Encapsulation: Encapsulation is the process of hiding the implementation details of an object and providing access to its functionality through well-defined interfaces. Encapsulation helps to keep the complexity of a program under control by keeping the implementation details of an object hidden from the user.\n",
    "\n",
    "Inheritance: Inheritance is a mechanism that allows a class to inherit properties and behaviors from a parent class. It enables code reusability and helps to create a hierarchy of classes.\n",
    "\n",
    "Polymorphism: Polymorphism is the ability of objects to take on many forms. It allows objects of different types to be treated as if they are the same type. Polymorphism is achieved through method overloading and method overriding.\n",
    "\n",
    "Abstraction: Abstraction is the process of hiding unnecessary implementation details and focusing on the essential features of an object. It is achieved through the use of abstract classes and interfaces, which provide a way to define the essential features of an object without specifying its implementation details."
   ]
  },
  {
   "cell_type": "markdown",
   "id": "b536a118-4b85-437a-8802-0b61653dcae6",
   "metadata": {},
   "source": [
    "Q3. Explain why the __init__() function is used. Give a suitable example."
   ]
  },
  {
   "cell_type": "markdown",
   "id": "5a4705a4-35f3-4de4-8d37-778d1a97770a",
   "metadata": {},
   "source": [
    "The __init__() function is a special method in Python classes that is called when an object of the class is created. It is used to initialize the object's attributes with values provided as arguments during the object's creation. The purpose of the __init__() method is to set up the initial state of the object.\n",
    "\n",
    "Here's an example that demonstrates the use of the __init__() method:"
   ]
  },
  {
   "cell_type": "code",
   "execution_count": 1,
   "id": "571c7653-2ef1-4529-9925-247e5dfe550f",
   "metadata": {},
   "outputs": [
    {
     "name": "stdout",
     "output_type": "stream",
     "text": [
      "2022 Honda Civic\n"
     ]
    }
   ],
   "source": [
    "class Car:\n",
    "    def __init__(self, make, model, year):\n",
    "        self.make = make\n",
    "        self.model = model\n",
    "        self.year = year\n",
    "\n",
    "    def get_description(self):\n",
    "        return f\"{self.year} {self.make} {self.model}\"\n",
    "\n",
    "my_car = Car(\"Honda\", \"Civic\", 2022)\n",
    "print(my_car.get_description())"
   ]
  },
  {
   "cell_type": "markdown",
   "id": "c7be7733-2610-446d-b38d-4a4be9e66dac",
   "metadata": {},
   "source": [
    "In this example, the Car class has three attributes: make, model, and year. The __init__() method takes three parameters: make, model, and year. When an object of the Car class is created, the __init__() method is automatically called with the values provided as arguments. The method initializes the object's attributes with these values.\n",
    "\n",
    "The get_description() method is defined to return a formatted string that describes the car's make, model, and year. This method can be called on any object of the Car class to get a description of the car."
   ]
  },
  {
   "cell_type": "markdown",
   "id": "8ebd4060-550c-4b19-9f81-213184678efc",
   "metadata": {},
   "source": [
    "Q4. Why self is used in OOPs?"
   ]
  },
  {
   "cell_type": "markdown",
   "id": "7f8905af-8c24-48ca-835e-c939eb2a2724",
   "metadata": {},
   "source": [
    "In object-oriented programming (OOP), the term \"self\" is used to refer to the current instance of a class. It is a special variable that is used to access the attributes and methods of an object within its own class definition.\n",
    "\n",
    "The \"self\" parameter is the first parameter of a method in a Python class, and it refers to the instance of the class that the method is being called on. When you call a method on an object, the self parameter is automatically passed to the method, and it allows you to access the instance variables and methods of that object.\n",
    "\n",
    "Using \"self\" is important in OOP because it allows you to create objects that have their own unique attributes and behaviors, while also allowing you to reuse code across multiple instances of the same class. By using \"self\" to access instance variables and methods, you can create more modular and flexible code that is easier to maintain and extend."
   ]
  },
  {
   "cell_type": "markdown",
   "id": "82e9a01d-1c09-4392-951b-0ca4cd9524eb",
   "metadata": {},
   "source": [
    "Q5. What is inheritance? Give an example for each type of inheritance."
   ]
  },
  {
   "cell_type": "markdown",
   "id": "197eb164-88ba-48a4-84b0-7f47fbb75676",
   "metadata": {},
   "source": [
    "Inheritance is a fundamental feature of object-oriented programming (OOP) that allows new classes to be based on existing classes. Inheritance allows a class to inherit the properties (methods and variables) of another class, and to add new properties or override the existing ones. There are several types of inheritance:\n",
    "\n",
    "1) Single inheritance: Single inheritance is a type of inheritance in which a class is derived from only one base class. For example, a class \"Animal\" can be a base class for a class \"Dog\"."
   ]
  },
  {
   "cell_type": "code",
   "execution_count": 2,
   "id": "97b76293-e5ed-4e63-9413-a764730a900c",
   "metadata": {},
   "outputs": [],
   "source": [
    "class Animal:\n",
    "    def __init__(self):\n",
    "        self.species = \"unknown\"\n",
    "        \n",
    "    def set_species(self, species):\n",
    "        self.species = species\n",
    "        \n",
    "    def get_species(self):\n",
    "        return self.species\n",
    "\n",
    "class Dog(Animal):\n",
    "    def __init__(self):\n",
    "        Animal.__init__(self)\n",
    "        self.breed = \"unknown\"\n",
    "        \n",
    "    def set_breed(self, breed):\n",
    "        self.breed = breed\n",
    "        \n",
    "    def get_breed(self):\n",
    "        return self.breed\n"
   ]
  },
  {
   "cell_type": "markdown",
   "id": "8c11c854-0cf5-4603-bbf6-b96f104731ac",
   "metadata": {},
   "source": [
    "2.Multiple inheritance: Multiple inheritance is a type of inheritance in which a class is derived from two or more base classes. For example, a class \"FlyingAnimal\" can be a base class for a class \"Bat\", and a class \"SwimmingAnimal\" can be a base class for a class \"Dolphin\"."
   ]
  },
  {
   "cell_type": "code",
   "execution_count": 3,
   "id": "9a162a19-c095-415d-ad3f-16e9c55b3145",
   "metadata": {},
   "outputs": [],
   "source": [
    "class FlyingAnimal:\n",
    "    def fly(self):\n",
    "        print(\"I can fly.\")\n",
    "\n",
    "class SwimmingAnimal:\n",
    "    def swim(self):\n",
    "        print(\"I can swim.\")\n",
    "\n",
    "class Bat(FlyingAnimal, Animal):\n",
    "    pass\n",
    "\n",
    "class Dolphin(SwimmingAnimal, Animal):\n",
    "    pass\n"
   ]
  },
  {
   "cell_type": "markdown",
   "id": "bae20ca3-7fdf-4df5-9c32-56d7496b7a8c",
   "metadata": {},
   "source": [
    "3.Hierarchical inheritance: Hierarchical inheritance is a type of inheritance in which one base class is inherited by multiple derived classes. For example, a class \"Vehicle\" can be a base class for classes \"Car\" and \"Motorcycle\"."
   ]
  },
  {
   "cell_type": "code",
   "execution_count": 4,
   "id": "2b7977b4-e9e0-4d13-9400-334479064515",
   "metadata": {},
   "outputs": [],
   "source": [
    "class Vehicle:\n",
    "    def __init__(self):\n",
    "        self.brand = \"unknown\"\n",
    "        \n",
    "    def set_brand(self, brand):\n",
    "        self.brand = brand\n",
    "        \n",
    "    def get_brand(self):\n",
    "        return self.brand\n",
    "\n",
    "class Car(Vehicle):\n",
    "    pass\n",
    "\n",
    "class Motorcycle(Vehicle):\n",
    "    pass\n"
   ]
  },
  {
   "cell_type": "markdown",
   "id": "3bdc8205-6a6a-49ac-b0a2-f34ec82ba354",
   "metadata": {},
   "source": [
    "4.Multilevel inheritance: Multilevel inheritance is a type of inheritance in which a derived class is inherited by another derived class. For example, a class \"Animal\" can be a base class for a class \"Mammal\", and a class \"Mammal\" can be a base class for a class \"Dog\"."
   ]
  },
  {
   "cell_type": "code",
   "execution_count": 5,
   "id": "101fa735-11be-4320-907b-e4c81ba319a4",
   "metadata": {},
   "outputs": [],
   "source": [
    "class Mammal(Animal):\n",
    "    def __init__(self):\n",
    "        Animal.__init__(self)\n",
    "        self.hair_color = \"unknown\"\n",
    "        \n",
    "    def set_hair_color(self, hair_color):\n",
    "        self.hair_color = hair_color\n",
    "        \n",
    "    def get_hair_color(self):\n",
    "        return self.hair_color\n",
    "\n",
    "class Dog(Mammal):\n",
    "    def __init__(self):\n",
    "        Mammal.__init__(self)\n",
    "        self\n"
   ]
  },
  {
   "cell_type": "markdown",
   "id": "e5957ca2-b9b6-4de6-8231-6060ed4b4061",
   "metadata": {},
   "source": [
    "5. hybrid inheritance: In Python, hybrid inheritance is a type of inheritance that combines two or more types of inheritance, such as multiple inheritance and hierarchical inheritance. It allows you to create a more complex class hierarchy that has the benefits of both types of inheritance."
   ]
  },
  {
   "cell_type": "code",
   "execution_count": 6,
   "id": "3f8a808e-8263-4f8c-a899-8d0881bf6cde",
   "metadata": {},
   "outputs": [
    {
     "name": "stdout",
     "output_type": "stream",
     "text": [
      "Method D\n",
      "Method C\n",
      "Method B\n",
      "Method A\n"
     ]
    }
   ],
   "source": [
    "class A:\n",
    "    def method_a(self):\n",
    "        print(\"Method A\")\n",
    "\n",
    "class B(A):\n",
    "    def method_b(self):\n",
    "        print(\"Method B\")\n",
    "\n",
    "class C(A):\n",
    "    def method_c(self):\n",
    "        print(\"Method C\")\n",
    "\n",
    "class D(B, C):\n",
    "    def method_d(self):\n",
    "        print(\"Method D\")\n",
    "\n",
    "d = D()\n",
    "d.method_d() # Output: Method D\n",
    "d.method_c() # Output: Method C\n",
    "d.method_b() # Output: Method B\n",
    "d.method_a() # Output: Method A\n"
   ]
  },
  {
   "cell_type": "code",
   "execution_count": null,
   "id": "3c25930f-91c2-40a6-8b8c-e6e57352476f",
   "metadata": {},
   "outputs": [],
   "source": []
  }
 ],
 "metadata": {
  "kernelspec": {
   "display_name": "Python 3 (ipykernel)",
   "language": "python",
   "name": "python3"
  },
  "language_info": {
   "codemirror_mode": {
    "name": "ipython",
    "version": 3
   },
   "file_extension": ".py",
   "mimetype": "text/x-python",
   "name": "python",
   "nbconvert_exporter": "python",
   "pygments_lexer": "ipython3",
   "version": "3.10.8"
  }
 },
 "nbformat": 4,
 "nbformat_minor": 5
}
