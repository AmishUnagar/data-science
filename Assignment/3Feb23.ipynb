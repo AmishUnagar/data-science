{
 "cells": [
  {
   "cell_type": "markdown",
   "id": "e9ee5811-331f-4d03-9be1-3812a4d32d4b",
   "metadata": {},
   "source": [
    "Q1. Which keyword is used to create a function? Create a function to return a list of odd numbers in the range of 1 to 25."
   ]
  },
  {
   "cell_type": "markdown",
   "id": "c692c943-a637-4227-8ca2-1b2110537a02",
   "metadata": {},
   "source": [
    "Def keyword is used to create a function. "
   ]
  },
  {
   "cell_type": "code",
   "execution_count": 2,
   "id": "1a69d20b-8b43-46a2-8b4e-894bae71656f",
   "metadata": {},
   "outputs": [
    {
     "data": {
      "text/plain": [
       "[1, 3, 5, 7, 9, 11, 13, 15, 17, 19, 21, 23]"
      ]
     },
     "execution_count": 2,
     "metadata": {},
     "output_type": "execute_result"
    }
   ],
   "source": [
    "def odd_num():\n",
    "     lst = [a for a in range(1,25) if a%2 != 0]\n",
    "     return lst\n",
    "odd_num()"
   ]
  },
  {
   "cell_type": "markdown",
   "id": "c93a62d5-ea6b-46e1-bfe6-185ca288aef3",
   "metadata": {},
   "source": [
    "Q2. Why *args and **kwargs is used in some functions? Create a function each for *args and **kwargs to demonstrate their use."
   ]
  },
  {
   "cell_type": "markdown",
   "id": "2aa979d3-6c69-44dd-b994-8a9a4ce40c35",
   "metadata": {},
   "source": [
    "*args is used as a parameter in a function , with this We can call the function \n",
    "     with any number of arguments. Internally the value are passed in the form of tuple.\n",
    "     example demonstrated below "
   ]
  },
  {
   "cell_type": "code",
   "execution_count": 4,
   "id": "8d783941-bfb7-45b6-bca7-452148dd7249",
   "metadata": {},
   "outputs": [
    {
     "name": "stdout",
     "output_type": "stream",
     "text": [
      "1\n",
      "2\n",
      "3\n"
     ]
    }
   ],
   "source": [
    "def print_num(*args):\n",
    "    for i in args:\n",
    "        print(i)\n",
    "print_num(1,2,3)"
   ]
  },
  {
   "cell_type": "markdown",
   "id": "3683b715-844c-4fa2-adda-72256282098e",
   "metadata": {},
   "source": [
    "**kwargs is used as a parameter in a function like *args , but internally values here are \n",
    "      passed in the form of a dictionary so, we have to give the arguments as a key-value pair\n",
    "      and it accepts any number of key-value pairs\n",
    "      example demonstrated below"
   ]
  },
  {
   "cell_type": "code",
   "execution_count": 5,
   "id": "c51b6397-ae18-4faf-b567-b6bbab4514f9",
   "metadata": {},
   "outputs": [
    {
     "name": "stdout",
     "output_type": "stream",
     "text": [
      "a 1\n",
      "b 2\n"
     ]
    }
   ],
   "source": [
    "def print_num(**kwargs):\n",
    "    for k,v in kwargs.items():\n",
    "        print(k,v)\n",
    "print_num(a=1,b=2)"
   ]
  },
  {
   "cell_type": "markdown",
   "id": "e1207581-1f87-470f-b11c-e729dd7fedc8",
   "metadata": {},
   "source": [
    "Q3.What is an iterator in python? Name the method used to initialise the iterator object and the method used for iteration. Use these methods to print the first five elements of the given list [2, 4, 6, 8, 10, 12, 14,16, 18, 20]"
   ]
  },
  {
   "cell_type": "markdown",
   "id": "0ff014da-8439-48c2-bfea-eeaab3a36de4",
   "metadata": {},
   "source": [
    "- An iterator is an object that contains a countable number of values or we can say it is object \n",
    "than can be iterated upon.\n",
    "- An Iterator object can be initialised using iter() method . \n",
    "- note:- only an iterable object can be initialised as an Iterator object \n",
    "- next() method is used for iteration \n"
   ]
  },
  {
   "cell_type": "code",
   "execution_count": 8,
   "id": "04011474-8c19-4741-a1c7-5cf29a57772e",
   "metadata": {},
   "outputs": [
    {
     "name": "stdout",
     "output_type": "stream",
     "text": [
      "2\n",
      "4\n",
      "6\n",
      "8\n",
      "10\n"
     ]
    }
   ],
   "source": [
    "l1 =[2, 4, 6, 8, 10, 12, 14,16, 18, 20]\n",
    "lst = iter(l1)\n",
    "\n",
    "for i in range(5):\n",
    "    print(next(lst))"
   ]
  },
  {
   "cell_type": "markdown",
   "id": "84ad5720-266b-4500-a190-4b3a90bb000f",
   "metadata": {},
   "source": [
    "Q4. What is a generator function in python? Why yield keyword is used? Give an example of generator function."
   ]
  },
  {
   "cell_type": "markdown",
   "id": "85f10890-012b-48ae-b73c-154b8abab4be",
   "metadata": {},
   "source": [
    "-a generator is a function that returns an iterator that produces a sequence of values when iterated over. \n",
    "-it is useful for saving memory when using a large dataset.\n",
    "-yield keyword is used to create a generator function and return a generator object.\n",
    "function in example below for creating a generator object of  fibonacci numbers."
   ]
  },
  {
   "cell_type": "code",
   "execution_count": 9,
   "id": "c6f67d05-1e8f-40db-a5e3-b34408f9c67a",
   "metadata": {},
   "outputs": [
    {
     "name": "stdout",
     "output_type": "stream",
     "text": [
      "0\n",
      "1\n",
      "1\n",
      "2\n",
      "3\n",
      "5\n",
      "8\n",
      "13\n",
      "21\n",
      "34\n"
     ]
    }
   ],
   "source": [
    "def fib():\n",
    "    a,b = 0,1\n",
    "    while True:\n",
    "        yield a\n",
    "        a,b = b,a+b \n",
    "\n",
    "f=fib()\n",
    "\n",
    "for i in range(10):\n",
    "    print(next(f))\n",
    "    "
   ]
  },
  {
   "cell_type": "markdown",
   "id": "c9bcefdb-93ef-433f-a576-7f8ba64dae88",
   "metadata": {},
   "source": [
    "Q5. Create a generator function for prime numbers less than 1000. Use the next() method to print the first 20 prime numbers."
   ]
  },
  {
   "cell_type": "code",
   "execution_count": 10,
   "id": "24d37363-484e-4368-b2bd-4bf1a4d736d3",
   "metadata": {},
   "outputs": [
    {
     "name": "stdout",
     "output_type": "stream",
     "text": [
      "2\n",
      "3\n",
      "5\n",
      "7\n",
      "11\n",
      "13\n",
      "17\n",
      "19\n",
      "23\n",
      "29\n",
      "31\n",
      "37\n",
      "41\n",
      "43\n",
      "47\n",
      "53\n",
      "59\n",
      "61\n",
      "67\n",
      "71\n"
     ]
    }
   ],
   "source": [
    "def prime():\n",
    "    for n in range(1,1000):\n",
    "        a = 0\n",
    "        for d in range(1,n):\n",
    "            if n%d == 0:\n",
    "                a+=1\n",
    "        if a == 1:\n",
    "            yield n\n",
    "\n",
    "#prinitng first 20 prime numbers in the generator object using while loop\n",
    "i , o = 0,prime()        \n",
    "while i<20:\n",
    "    print(next(o))\n",
    "    i+=1   "
   ]
  },
  {
   "cell_type": "markdown",
   "id": "23f0b829-618b-41fe-ad1b-dd2f2d8bf37f",
   "metadata": {},
   "source": [
    "Q6. Write a python program to print the first 10 Fibonacci numbers using a while loop"
   ]
  },
  {
   "cell_type": "code",
   "execution_count": 11,
   "id": "35b24337-be3a-491c-a732-39217ff97323",
   "metadata": {},
   "outputs": [
    {
     "name": "stdout",
     "output_type": "stream",
     "text": [
      "0\n",
      "1\n",
      "1\n",
      "2\n",
      "3\n",
      "5\n",
      "8\n",
      "13\n",
      "21\n",
      "34\n"
     ]
    }
   ],
   "source": [
    "def fib():\n",
    "    a,b= 0,1\n",
    "    while True:\n",
    "        yield a\n",
    "        a,b = b,a+b\n",
    "i,o = 0,fib()\n",
    "while i<10:\n",
    "    print(next(o))\n",
    "    i+=1  "
   ]
  },
  {
   "cell_type": "markdown",
   "id": "f6c9a498-6dda-40ab-b43d-13d16ecb8b9f",
   "metadata": {},
   "source": [
    "Q7. Write a List Comprehension to iterate through the given string: ‘pwskills’.\n",
    "Expected output: ['p', 'w', 's', 'k', 'i', 'l', 'l', 's']"
   ]
  },
  {
   "cell_type": "code",
   "execution_count": 12,
   "id": "8212cec2-3401-408f-8fd9-7bc0fefefaa5",
   "metadata": {},
   "outputs": [
    {
     "data": {
      "text/plain": [
       "['p', 'w', 's', 'k', 'i', 'l', 'l']"
      ]
     },
     "execution_count": 12,
     "metadata": {},
     "output_type": "execute_result"
    }
   ],
   "source": [
    "l=[i for i in \"pwskill\"]\n",
    "l"
   ]
  },
  {
   "cell_type": "markdown",
   "id": "6b6fb5b3-a634-4611-a9d1-575f1307896a",
   "metadata": {},
   "source": [
    "Q8. Write a python program to check whether a given number is Palindrome or not using a while loop."
   ]
  },
  {
   "cell_type": "code",
   "execution_count": null,
   "id": "57647580-8ce8-44fb-8f82-a8ae2a393c13",
   "metadata": {},
   "outputs": [],
   "source": [
    "s = input('Enter the number :- ').strip()\n",
    "if s == s[::-1]:\n",
    "    print('Number is Palindrome')\n",
    "else:\n",
    "    print('Number not Palindrome')"
   ]
  },
  {
   "cell_type": "markdown",
   "id": "27c83fb4-3934-4ae4-a2a9-f5c827928773",
   "metadata": {},
   "source": [
    "Q9. Write a code to print odd numbers from 1 to 100 using list comprehension."
   ]
  },
  {
   "cell_type": "code",
   "execution_count": null,
   "id": "2c5c92f8-2694-4a0f-965f-080651b52350",
   "metadata": {},
   "outputs": [],
   "source": [
    "l1 = [a for a in range(1,101)]\n",
    "l2 = [b for b in l1 if b%2 != 0]\n",
    "print(l2)"
   ]
  },
  {
   "cell_type": "code",
   "execution_count": null,
   "id": "01d7a21a-6ab9-475b-a44e-bcf66be0d2ef",
   "metadata": {},
   "outputs": [],
   "source": []
  }
 ],
 "metadata": {
  "kernelspec": {
   "display_name": "Python 3 (ipykernel)",
   "language": "python",
   "name": "python3"
  },
  "language_info": {
   "codemirror_mode": {
    "name": "ipython",
    "version": 3
   },
   "file_extension": ".py",
   "mimetype": "text/x-python",
   "name": "python",
   "nbconvert_exporter": "python",
   "pygments_lexer": "ipython3",
   "version": "3.10.8"
  }
 },
 "nbformat": 4,
 "nbformat_minor": 5
}
