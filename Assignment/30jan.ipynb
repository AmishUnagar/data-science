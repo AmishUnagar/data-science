{
 "cells": [
  {
   "cell_type": "markdown",
   "id": "3ded7405-1ff9-4fa3-adb9-0b99d70da463",
   "metadata": {},
   "source": [
    "(1) Write a program to accept percentage from the user and display the grade according to the following criteria:\n",
    "    >90 then A\n",
    "    >80 and <=90 then B\n",
    "    >60 and <=80 then C\n",
    "    below 60 then D"
   ]
  },
  {
   "cell_type": "code",
   "execution_count": 1,
   "id": "58cb6d4d-6ff6-4918-999c-73aa7ce679bf",
   "metadata": {},
   "outputs": [
    {
     "name": "stdin",
     "output_type": "stream",
     "text": [
      "Enter Your Percentage 60\n"
     ]
    },
    {
     "name": "stdout",
     "output_type": "stream",
     "text": [
      "Your Percentage is 60 And Grade is D\n"
     ]
    }
   ],
   "source": [
    "percentage = int(input(\"Enter Your Percentage\"))\n",
    "if percentage > 90:\n",
    "    print(f\"Your Percentage is {percentage} And Grade is A\")\n",
    "elif percentage >80 and percentage <=90:\n",
    "    print(f\"Your Percentage is {percentage} And Grade is B\")\n",
    "elif percentage >60 and percentage <=80:\n",
    "    print(f\"Your Percentage is {percentage} And Grade is C\")\n",
    "elif percentage <=60:\n",
    "    print(f\"Your Percentage is {percentage} And Grade is D\")"
   ]
  },
  {
   "cell_type": "code",
   "execution_count": null,
   "id": "b7e0d63a-d4f2-4430-9691-c1713d221e30",
   "metadata": {},
   "outputs": [],
   "source": []
  },
  {
   "cell_type": "markdown",
   "id": "547c04af-43cf-43f4-b0b5-b7eb3e119751",
   "metadata": {},
   "source": [
    "(2) Write a program to accept the cost price of a bike and display the road tax to be paid according to the following criteria:\n",
    "    15% then cost > 100000\n",
    "    10% then cost >50000 and <=100000\n",
    "    5% then cost <=50000"
   ]
  },
  {
   "cell_type": "code",
   "execution_count": 3,
   "id": "83e9aaf4-f3ba-4fcd-b413-01f745c848bf",
   "metadata": {},
   "outputs": [
    {
     "name": "stdin",
     "output_type": "stream",
     "text": [
      "Enter Your Percentage 70000\n"
     ]
    },
    {
     "name": "stdout",
     "output_type": "stream",
     "text": [
      "When Your Cost prise is 70000 then your road tax is 7000.0 \n"
     ]
    }
   ],
   "source": [
    "cost = int(input(\"Enter Your Percentage\"))\n",
    "\n",
    "if cost > 100000:\n",
    "    tax = 0.15\n",
    "elif cost>50000 and cost <=100000:\n",
    "    tax = 0.10\n",
    "elif cost <=50000:\n",
    "    tax = 0.05\n",
    "\n",
    "road_tax = cost * tax\n",
    "print(f\"When Your Cost prise is {cost} then your road tax is {road_tax} \")\n"
   ]
  },
  {
   "cell_type": "code",
   "execution_count": null,
   "id": "65f6e6d6-9556-4688-a143-a5b5a1f5d04d",
   "metadata": {},
   "outputs": [],
   "source": []
  },
  {
   "cell_type": "markdown",
   "id": "9b393054-64c1-4718-9778-c3120a2a7ebe",
   "metadata": {},
   "source": [
    "(3) Accept any City from the user and Display monuments of  that city:\n",
    "    delhi : Red Fort\n",
    "    Agra :  taj Mahal\n",
    "    jaipur : jal Mahal"
   ]
  },
  {
   "cell_type": "code",
   "execution_count": 8,
   "id": "eb0c00ed-3d69-4c47-af8b-db91e51f6c26",
   "metadata": {},
   "outputs": [
    {
     "name": "stdin",
     "output_type": "stream",
     "text": [
      "Enter Your City: surat\n"
     ]
    },
    {
     "name": "stdout",
     "output_type": "stream",
     "text": [
      "Invalid Choise\n"
     ]
    }
   ],
   "source": [
    "city = input(\"Enter Your City:\")\n",
    "\n",
    "if city == \"Delhi\":\n",
    "    print(\"Red Fort\")\n",
    "elif city ==\"Agra\":\n",
    "    print(\"Taj Mahal\")\n",
    "elif city ==\"Jaipur\":\n",
    "    print(\"jal mahal\")\n",
    "else:\n",
    "    print(\"Invalid Choise\")"
   ]
  },
  {
   "cell_type": "markdown",
   "id": "8d8a0967-d14c-49cb-8059-6e9359149914",
   "metadata": {},
   "source": [
    "(4) Check How Many times a given number can be divided by 3 beforit is less then equal to 10."
   ]
  },
  {
   "cell_type": "code",
   "execution_count": 13,
   "id": "868e8685-27bc-4d0d-b9b3-54688d6b86f3",
   "metadata": {},
   "outputs": [
    {
     "name": "stdout",
     "output_type": "stream",
     "text": [
      "Total iteration required 4\n"
     ]
    }
   ],
   "source": [
    "count = 0\n",
    "number = int(input(\"Enter a number: \"))\n",
    "while number > 10:\n",
    "    # divide number by 3\n",
    "    number = number / 3\n",
    "    # increase count\n",
    "    count = count + 1\n",
    "print('Total iteration required', count)"
   ]
  },
  {
   "cell_type": "code",
   "execution_count": null,
   "id": "ab31197b-4068-4e8f-84a7-be7a620cb626",
   "metadata": {},
   "outputs": [],
   "source": []
  },
  {
   "cell_type": "code",
   "execution_count": null,
   "id": "02d22157-8fdc-46dd-87b3-9b3b1b97ae52",
   "metadata": {},
   "outputs": [],
   "source": [
    "(5) why and wahen to use while loop in python give a detailed description with example"
   ]
  },
  {
   "cell_type": "markdown",
   "id": "cef96e5e-8d70-4bc0-8de1-dcaa5c18dafc",
   "metadata": {},
   "source": [
    "A while loop in Python is used to repeatedly execute a block of code as long as a particular condition is true. The loop will continue to execute until the condition becomes false. It is generally used when the number of iterations is unknown, and the loop needs to continue until a specific condition is met.\n",
    "\n",
    " example:-\n",
    "i = 1\n",
    "while i <= 5:\n",
    "    print(i)\n",
    "    i += 1\n",
    "    \n",
    " In this example, the condition is count <= 5. The loop will continue to execute as long as count is less than or equal to 5. The count variable is initialized to 1, and the loop prints the value of count and increments it by 1 at each iteration. The loop will exit when count becomes 6.\n",
    " \n"
   ]
  },
  {
   "cell_type": "code",
   "execution_count": null,
   "id": "2f4941f9-f075-4c99-b665-1b12b70fb164",
   "metadata": {},
   "outputs": [],
   "source": []
  },
  {
   "cell_type": "markdown",
   "id": "0b9565e2-57a0-4a2e-91f0-6caff018ac4c",
   "metadata": {},
   "source": [
    "(6) Use Nested While loop to print diffrent 3 pattern"
   ]
  },
  {
   "cell_type": "code",
   "execution_count": 31,
   "id": "4b9efde0-3dc6-48fc-9be2-67be9b8f3f40",
   "metadata": {},
   "outputs": [
    {
     "name": "stdout",
     "output_type": "stream",
     "text": [
      "*****\n",
      "*****\n",
      "*****\n",
      "*****\n",
      "*****\n",
      "*****\n"
     ]
    }
   ],
   "source": [
    "i=0\n",
    "\n",
    "while i<=5:\n",
    "    j=1\n",
    "    while j<=5:\n",
    "        print('*', end=\"\")\n",
    "        j+=1\n",
    "    print()\n",
    "    i+=1"
   ]
  },
  {
   "cell_type": "code",
   "execution_count": 29,
   "id": "a702c051-a11b-43ee-8444-702c9c35bf1f",
   "metadata": {},
   "outputs": [
    {
     "name": "stdout",
     "output_type": "stream",
     "text": [
      "\n",
      "*\n",
      "**\n",
      "***\n",
      "****\n",
      "*****\n"
     ]
    }
   ],
   "source": [
    "i=0\n",
    "\n",
    "while i<=5:\n",
    "    j=1\n",
    "    while j<=i:\n",
    "        print('*', end=\"\")\n",
    "        j+=1\n",
    "    print()\n",
    "    i+=1\n",
    "    "
   ]
  },
  {
   "cell_type": "code",
   "execution_count": 30,
   "id": "91924b9d-c990-4822-a3af-41bf6afbcb7d",
   "metadata": {},
   "outputs": [
    {
     "name": "stdout",
     "output_type": "stream",
     "text": [
      "*****\n",
      "****\n",
      "***\n",
      "**\n",
      "*\n"
     ]
    }
   ],
   "source": [
    "i=5\n",
    "\n",
    "while i>0:\n",
    "    j=1\n",
    "    while j<=i:\n",
    "        print('*', end=\"\")\n",
    "        j+=1\n",
    "    print()\n",
    "    i-=1"
   ]
  },
  {
   "cell_type": "code",
   "execution_count": null,
   "id": "2e26e033-e599-4ad6-a60b-99f54db950c7",
   "metadata": {},
   "outputs": [],
   "source": []
  },
  {
   "cell_type": "markdown",
   "id": "de315504-ec99-484c-ae6f-d39e21f02474",
   "metadata": {},
   "source": [
    "(7) Reverse a while loop to display numbers from 10 to 1."
   ]
  },
  {
   "cell_type": "code",
   "execution_count": 1,
   "id": "599b0b61-d3a8-42be-a5b8-75eb46790b31",
   "metadata": {},
   "outputs": [
    {
     "name": "stdout",
     "output_type": "stream",
     "text": [
      "10\n",
      "9\n",
      "8\n",
      "7\n",
      "6\n",
      "5\n",
      "4\n",
      "3\n",
      "2\n",
      "1\n"
     ]
    }
   ],
   "source": [
    "i=10\n",
    "\n",
    "while i > 0:\n",
    "    print(i)\n",
    "    i-=1"
   ]
  },
  {
   "cell_type": "code",
   "execution_count": null,
   "id": "36521065-5423-43d1-8293-e061e77bdb69",
   "metadata": {},
   "outputs": [],
   "source": []
  },
  {
   "cell_type": "markdown",
   "id": "946eb60d-1de8-48b0-85ae-0bcfc530af71",
   "metadata": {},
   "source": [
    "(8) Reverse a while loop to display numbers from 10 to 1."
   ]
  },
  {
   "cell_type": "code",
   "execution_count": 2,
   "id": "186a1e8b-eb03-4979-8886-1d4ecc6c8025",
   "metadata": {},
   "outputs": [
    {
     "name": "stdout",
     "output_type": "stream",
     "text": [
      "10\n",
      "9\n",
      "8\n",
      "7\n",
      "6\n",
      "5\n",
      "4\n",
      "3\n",
      "2\n",
      "1\n"
     ]
    }
   ],
   "source": [
    "i=10\n",
    "\n",
    "while i > 0:\n",
    "    print(i)\n",
    "    i-=1"
   ]
  },
  {
   "cell_type": "code",
   "execution_count": null,
   "id": "bcaa52de-f07a-45ac-b0bd-ad0d4f15cc6e",
   "metadata": {},
   "outputs": [],
   "source": []
  }
 ],
 "metadata": {
  "kernelspec": {
   "display_name": "Python 3 (ipykernel)",
   "language": "python",
   "name": "python3"
  },
  "language_info": {
   "codemirror_mode": {
    "name": "ipython",
    "version": 3
   },
   "file_extension": ".py",
   "mimetype": "text/x-python",
   "name": "python",
   "nbconvert_exporter": "python",
   "pygments_lexer": "ipython3",
   "version": "3.10.8"
  }
 },
 "nbformat": 4,
 "nbformat_minor": 5
}
