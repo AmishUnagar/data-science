{
 "cells": [
  {
   "cell_type": "markdown",
   "id": "2e2d23e4-8520-4312-a2a3-fc344039ec47",
   "metadata": {},
   "source": [
    "Q1. Which function is used to open a file? What are the different modes of opening a file? Explain each mode\n",
    "of file opening."
   ]
  },
  {
   "cell_type": "markdown",
   "id": "41137443-eccd-44e2-ad83-0fbc0918f85d",
   "metadata": {},
   "source": [
    "The open() function is used to open a file in Python. It takes two parameters - the file name (including the path) and the mode in which the file should be opened.\n",
    "\n",
    "The different modes of opening a file are:\n",
    "\n",
    "\"r\" - read mode: This mode is used to open a file for reading. The file pointer is placed at the beginning of the file. If the file does not exist, it will result in a FileNotFoundError exception.\n",
    "\n",
    "\"w\" - write mode: This mode is used to open a file for writing. If the file exists, its contents will be truncated (deleted) and the file pointer will be placed at the beginning of the file. If the file does not exist, a new file will be created.\n",
    "\n",
    "\"a\" - append mode: This mode is used to open a file for writing. If the file exists, the file pointer is placed at the end of the file, and new data is written at the end of the existing data. If the file does not exist, a new file will be created.\n",
    "\n",
    "\"x\" - exclusive creation mode: This mode is used to create a new file. If the file already exists, a FileExistsError exception will be raised.\n",
    "\n",
    "\"b\" - binary mode: This mode is used to open a file in binary mode. It is used for non-text files, such as image or audio files.\n",
    "\n",
    "\"t\" - text mode: This mode is used to open a file in text mode. It is used for text files, and it is the default mode if no mode is specified.\n",
    "\n",
    "\"+\" - read and write mode: This mode is used to open a file for both reading and writing. This is useful when you want to modify an existing file."
   ]
  },
  {
   "cell_type": "markdown",
   "id": "b17755ec-89ac-4ed3-81ed-5d245ddb892b",
   "metadata": {
    "tags": []
   },
   "source": [
    " open a file in read mod\n",
    "file = open(\"example.txt\", \"r\")\n",
    "\n",
    " open a file in write mode\n",
    "file = open(\"example.txt\", \"w\")\n",
    "\n",
    "open a file in append mode\n",
    "file = open(\"example.txt\", \"a\")\n",
    "\n",
    "open a file in exclusive creation mode\n",
    "file = open(\"example.txt\", \"x\")\n",
    "\n",
    " open a file in binary mode\n",
    "file = open(\"example.txt\", \"rb\")\n",
    "\n",
    " open a file in text mode\n",
    "file = open(\"example.txt\", \"rt\")\n",
    "\n",
    " open a file in read and write mode\n",
    "file = open(\"example.txt\", \"r+\")  # or \"w+\", or \"a+\"\n"
   ]
  },
  {
   "cell_type": "markdown",
   "id": "16238c42-8d6c-42d2-a884-05349249f9cf",
   "metadata": {},
   "source": [
    "Q2. Why close() function is used? Why is it important to close a file?"
   ]
  },
  {
   "cell_type": "markdown",
   "id": "fa46d094-dd53-4310-9d27-bc9789f56f46",
   "metadata": {},
   "source": [
    "In Python, the close() function is used to close an opened file. It is important to close a file after you are done working with it because it releases the resources being held by the file, such as the memory used to buffer data from the file. Not closing the file may lead to data corruption or loss, particularly if you are writing to a file.\n",
    "\n",
    "When you open a file, Python uses system resources to create an object that represents the file in memory. If you don't close the file when you are done with it, the system resources used to create the object will remain allocated, leading to memory leaks over time. Closing the file ensures that the resources allocated to the file are released and made available for other processes.\n",
    "\n",
    "Another important reason to close a file is to ensure that any data you have written to the file is flushed from the buffer and written to disk. If you don't close the file, there is a risk that some of the data you have written to the file may not be saved, particularly if there is a system crash or power failure."
   ]
  },
  {
   "cell_type": "markdown",
   "id": "eb564f41-bfa2-4ad3-99e2-284b28fd9ff7",
   "metadata": {},
   "source": [
    "Q3. Write a python program to create a text file. Write ‘I want to become a Data Scientist’ in that file. Then\n",
    "close the file. Open this file and read the content of the file."
   ]
  },
  {
   "cell_type": "code",
   "execution_count": 2,
   "id": "2630fd8e-0768-4506-9ad8-0c70ce719528",
   "metadata": {},
   "outputs": [
    {
     "name": "stdout",
     "output_type": "stream",
     "text": [
      "I want to become a Data Scientist\n"
     ]
    }
   ],
   "source": [
    "with open('filename.txt', 'w') as f:\n",
    "    f.write('I want to become a Data Scientist')\n",
    "    \n",
    "with open('filename.txt', 'r') as f:\n",
    "    print(f.read())"
   ]
  },
  {
   "cell_type": "markdown",
   "id": "401e03f9-03f5-4971-960c-08159737cfce",
   "metadata": {},
   "source": [
    "Q4. Explain the following with python code: read(), readline() and readlines()."
   ]
  },
  {
   "cell_type": "markdown",
   "id": "c19bb2f8-9acd-43e7-a2ca-9b328e6a74ce",
   "metadata": {},
   "source": [
    "Read ( ): Returns the read bytes in the form of a string. Reads n bytes; if n is not specified, then reads the entire file."
   ]
  },
  {
   "cell_type": "markdown",
   "id": "a73760df-32e8-4735-96cc-540060515d61",
   "metadata": {},
   "source": [
    "Readline ( ): Reads a line of the file and returns in the form of a string. For specified n, reads at most n bytes. readline ( ) function does not read more than one line at a time; even if n exceeds, it reads only one line. Readline ( ) function reads a line of the file and returns it in the string. It takes an integer value n as a parameter to read the number of characters read at a time. Readline ( ) method is very efficient in reading the data from a very large file because it fetches the data line by line and returns and prints on the screen. Readline ( ) returns the next line of the file, which contains a newline character in the end. Also, if the end of the file is reached, it will return an empty string."
   ]
  },
  {
   "cell_type": "markdown",
   "id": "69ac87dd-fee1-4964-8bb9-ec9328c6148d",
   "metadata": {},
   "source": [
    "readlines ( ): Reads all the lines and returns them as a string element in a list. Readlines ( ) is used to read all the lines at a single go and then return them as a string element in a list. This function can be used for small files, as it reads the whole file content to the memory, then splits it into separate lines. Using the strip () function, we can iterate over the list and strip the newline ' \\n ' character using the strip ( ) function."
   ]
  },
  {
   "cell_type": "code",
   "execution_count": 3,
   "id": "4a0199a6-660c-478d-937a-b791ce0bad98",
   "metadata": {},
   "outputs": [
    {
     "name": "stdout",
     "output_type": "stream",
     "text": [
      "Statement1: Apple\n",
      "Statement2: Orange\n",
      "Statement3: Banana\n"
     ]
    }
   ],
   "source": [
    "Fruits = [\"Apple\\n\", \"Orange\\n\", \"Banana\\n\"]  \n",
    "# writing to file  \n",
    "file = open('hello.txt', 'w')  \n",
    "file.writelines(Fruits)                                                                            \n",
    "                                                       \n",
    "file.close()                                          \n",
    "# Using readlines()  \n",
    "file = open('hello.txt', 'r')  \n",
    "Statements = file.readlines()  \n",
    "count = 0  \n",
    "for line in Statements:                                   \n",
    "  count = count + 1  \n",
    "  print(\"Statement{}: {}\".format(count, line.strip()))  "
   ]
  },
  {
   "cell_type": "markdown",
   "id": "77a25e84-6be5-43bb-be8b-2bf7edd3ffcd",
   "metadata": {},
   "source": [
    "Q5. Explain why with statement is used with open(). What is the advantage of using with statement and\n",
    "open() together?"
   ]
  },
  {
   "cell_type": "markdown",
   "id": "b65c9472-525a-4ec6-98c3-dc97cfa425ae",
   "metadata": {},
   "source": [
    "In Python, with statement is used in exception handling to make the code cleaner and much more readable. It simplifies the management of common resources like file streams. Observe the following code example on how the use of with statement makes code cleaner. "
   ]
  },
  {
   "cell_type": "markdown",
   "id": "6f3b4a83-8a9f-4280-9c2f-ce7eb57b8a4a",
   "metadata": {},
   "source": [
    "Notice that unlike the first two implementations, there is no need to call file.close() when using with statement. The with statement itself ensures proper acquisition and release of resources. An exception during the file.write() call in the first implementation can prevent the file from closing properly which may introduce several bugs in the code, i.e. many changes in files do not go into effect until the file is properly closed. The second approach in the above example takes care of all the exceptions but using the with statement makes the code compact and much more readable. Thus, with statement helps avoiding bugs and leaks by ensuring that a resource is properly released when the code using the resource is completely executed. The with statement is popularly used with file streams, as shown above and with Locks, sockets, subprocesses and telnets etc."
   ]
  },
  {
   "cell_type": "code",
   "execution_count": 4,
   "id": "cff40a79-80d7-4b8a-b6ce-cd2d1eb23b05",
   "metadata": {},
   "outputs": [
    {
     "name": "stdout",
     "output_type": "stream",
     "text": [
      "Apple\n",
      "Orange\n",
      "Banana\n",
      "\n"
     ]
    }
   ],
   "source": [
    "with open(\"hello.txt\") as my_file:\n",
    "    print(my_file.read())"
   ]
  },
  {
   "cell_type": "markdown",
   "id": "6bd6f1ae-222d-49aa-9de2-337f50a7fc1b",
   "metadata": {},
   "source": [
    "6. Explain the write() and writelines() functions. Give a suitable example."
   ]
  },
  {
   "cell_type": "markdown",
   "id": "4a624f26-90f5-4ae6-96fd-dac2f227420b",
   "metadata": {},
   "source": [
    "In Python, there are many functions for reading and writing files. Both reading and writing functions work on open files (files opened and linked via a file object). In this section, we are going to discuss the write functions to manipulate our data through files."
   ]
  },
  {
   "cell_type": "markdown",
   "id": "be64ea1e-c247-4481-9dca-08f76d2bf305",
   "metadata": {},
   "source": [
    "# write() function\n",
    "The write() function will write the content in the file without adding any extra characters."
   ]
  },
  {
   "cell_type": "markdown",
   "id": "a0591dd6-618b-4973-824c-2e546108c610",
   "metadata": {},
   "source": [
    "Syntax: \n",
    "file_name.write(content) "
   ]
  },
  {
   "cell_type": "markdown",
   "id": "aa76a235-560e-43ca-97e5-dbe61a2320c3",
   "metadata": {},
   "source": [
    "As per the syntax, the string that is passed to the write() function is written into the opened file. The string may include numbers, special characters, or symbols. While writing data to a file, we must know that the write function does not add a newline character(\\n) to the end of the string. The write() function returns None"
   ]
  },
  {
   "cell_type": "code",
   "execution_count": 7,
   "id": "6ae4270b-9334-4cd5-8496-279a5e478aaf",
   "metadata": {},
   "outputs": [
    {
     "name": "stdin",
     "output_type": "stream",
     "text": [
      "Enter the name of the employee:  hello\n",
      "Enter the name of the employee:  ghh\n",
      "Enter the name of the employee:  gfg\n"
     ]
    },
    {
     "name": "stdout",
     "output_type": "stream",
     "text": [
      "Data is written into the file.\n"
     ]
    }
   ],
   "source": [
    "file = open(\"Employees.txt\", \"w\")\n",
    "  \n",
    "for i in range(3):\n",
    "   name = input(\"Enter the name of the employee: \")\n",
    "   file.write(name)\n",
    "   file.write(\"\\n\")\n",
    "     \n",
    "file.close()\n",
    "  \n",
    "print(\"Data is written into the file.\")"
   ]
  },
  {
   "cell_type": "markdown",
   "id": "430e9a54-e875-408a-8d2e-17cdf66a6849",
   "metadata": {},
   "source": [
    "# writelines() function"
   ]
  },
  {
   "cell_type": "markdown",
   "id": "83264b0e-86fd-4d69-a63e-4a5c35a5b28a",
   "metadata": {},
   "source": [
    "This function writes the content of a list to a file.\n",
    "\n",
    "Syntax:   \n",
    "file_name.writelines(list_of_lines)\n",
    "\n",
    "\n",
    "As per the syntax, the list of strings that is passed to the writelines() function is written into the opened file. Similar to the write() function, the writelines() function does not add a newline character(\\n) to the end of the string."
   ]
  },
  {
   "cell_type": "code",
   "execution_count": 8,
   "id": "35bd8abb-782a-4bae-8a74-2b2845107111",
   "metadata": {},
   "outputs": [
    {
     "name": "stdin",
     "output_type": "stream",
     "text": [
      "Enter the name of the employee:  amish\n",
      "Enter the name of the employee:  raj\n",
      "Enter the name of the employee:  jay\n"
     ]
    },
    {
     "name": "stdout",
     "output_type": "stream",
     "text": [
      "Data is written into the file.\n"
     ]
    }
   ],
   "source": [
    "file1 = open(\"Employees.txt\", \"w\")\n",
    "lst = []\n",
    "for i in range(3):\n",
    "    name = input(\"Enter the name of the employee: \")\n",
    "    lst.append(name + '\\n')\n",
    "      \n",
    "file1.writelines(lst)\n",
    "file1.close()\n",
    "print(\"Data is written into the file.\") "
   ]
  },
  {
   "cell_type": "code",
   "execution_count": null,
   "id": "d126867d-96ed-4f07-be48-9746f2d7725c",
   "metadata": {},
   "outputs": [],
   "source": []
  }
 ],
 "metadata": {
  "kernelspec": {
   "display_name": "Python 3 (ipykernel)",
   "language": "python",
   "name": "python3"
  },
  "language_info": {
   "codemirror_mode": {
    "name": "ipython",
    "version": 3
   },
   "file_extension": ".py",
   "mimetype": "text/x-python",
   "name": "python",
   "nbconvert_exporter": "python",
   "pygments_lexer": "ipython3",
   "version": "3.10.8"
  }
 },
 "nbformat": 4,
 "nbformat_minor": 5
}
