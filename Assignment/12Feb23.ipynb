{
 "cells": [
  {
   "cell_type": "markdown",
   "id": "ff6a5eb6-2a19-4654-a597-7de66b5e92af",
   "metadata": {},
   "source": [
    "Q1. What is an Exception in python? Write the difference between Exceptions and Syntax errors."
   ]
  },
  {
   "cell_type": "markdown",
   "id": "045e41c8-4cd0-4148-9ef9-d26cc1ac3bd4",
   "metadata": {},
   "source": [
    "In Python, an Exception is a runtime error that occurs during the execution of a program. It indicates that something unexpected has occurred that prevents the program from continuing its normal flow of execution.\n",
    "\n",
    "Some examples of common exceptions in Python include:\n",
    "\n",
    "ValueError: Raised when a function receives an argument of the correct type but an inappropriate value.\n",
    "TypeError: Raised when a function receives an argument of the wrong type.\n",
    "NameError: Raised when a variable or function is not defined.\n",
    "FileNotFoundError: Raised when a file cannot be found.\n",
    "On the other hand, a syntax error occurs when the interpreter cannot understand the code because of a mistake in its syntax. Syntax errors prevent the program from running at all, and they are detected by the interpreter before the code is executed.\n",
    "\n",
    "Some examples of common syntax errors in Python include:\n",
    "\n",
    "Forgetting to close parentheses or quotes\n",
    "Using an incorrect operator or punctuation mark\n",
    "Misspelling a keyword or variable name\n",
    "The key difference between exceptions and syntax errors is that syntax errors are caught by the interpreter before the code is executed, whereas exceptions occur during the execution of the code. In other words, syntax errors prevent the program from running at all, while exceptions occur while the program is running and can be caught and handled by the programmer.\n",
    "\n",
    "\n",
    "\n",
    "\n",
    "\n"
   ]
  },
  {
   "cell_type": "code",
   "execution_count": null,
   "id": "ab21902b-a7a6-4131-b78d-8e7ff032519c",
   "metadata": {},
   "outputs": [],
   "source": []
  },
  {
   "cell_type": "markdown",
   "id": "cde8a0d6-8da6-4ee1-861a-1d8be3429ab7",
   "metadata": {},
   "source": [
    "Q2. What happens when an exception is not handled? Explain with an example."
   ]
  },
  {
   "cell_type": "markdown",
   "id": "719905c7-9300-418c-8fd3-ae010f4663d0",
   "metadata": {},
   "source": [
    "When an exception is not handled, it leads to an abnormal termination of the program or application. This means that the program will abruptly stop running, and the user will not receive any meaningful output or response. Instead, an error message or stack trace is usually displayed, indicating the source of the exception and the sequence of function calls that led up to it.\n"
   ]
  },
  {
   "cell_type": "code",
   "execution_count": 2,
   "id": "18b18366-38c1-4320-80c8-2b37958e625c",
   "metadata": {},
   "outputs": [
    {
     "ename": "ZeroDivisionError",
     "evalue": "division by zero",
     "output_type": "error",
     "traceback": [
      "\u001b[0;31m---------------------------------------------------------------------------\u001b[0m",
      "\u001b[0;31mZeroDivisionError\u001b[0m                         Traceback (most recent call last)",
      "Cell \u001b[0;32mIn[2], line 8\u001b[0m\n\u001b[1;32m      5\u001b[0m numerator \u001b[38;5;241m=\u001b[39m \u001b[38;5;241m10\u001b[39m\n\u001b[1;32m      6\u001b[0m denominator \u001b[38;5;241m=\u001b[39m \u001b[38;5;241m0\u001b[39m\n\u001b[0;32m----> 8\u001b[0m result \u001b[38;5;241m=\u001b[39m \u001b[43mdivide\u001b[49m\u001b[43m(\u001b[49m\u001b[43mnumerator\u001b[49m\u001b[43m,\u001b[49m\u001b[43m \u001b[49m\u001b[43mdenominator\u001b[49m\u001b[43m)\u001b[49m\n\u001b[1;32m      9\u001b[0m \u001b[38;5;28mprint\u001b[39m(result)\n",
      "Cell \u001b[0;32mIn[2], line 2\u001b[0m, in \u001b[0;36mdivide\u001b[0;34m(a, b)\u001b[0m\n\u001b[1;32m      1\u001b[0m \u001b[38;5;28;01mdef\u001b[39;00m \u001b[38;5;21mdivide\u001b[39m(a, b):\n\u001b[0;32m----> 2\u001b[0m     result \u001b[38;5;241m=\u001b[39m \u001b[43ma\u001b[49m\u001b[43m \u001b[49m\u001b[38;5;241;43m/\u001b[39;49m\u001b[43m \u001b[49m\u001b[43mb\u001b[49m\n\u001b[1;32m      3\u001b[0m     \u001b[38;5;28;01mreturn\u001b[39;00m result\n",
      "\u001b[0;31mZeroDivisionError\u001b[0m: division by zero"
     ]
    }
   ],
   "source": [
    "def divide(a, b):\n",
    "    result = a / b\n",
    "    return result\n",
    "\n",
    "numerator = 10\n",
    "denominator = 0\n",
    "\n",
    "result = divide(numerator, denominator)\n",
    "print(result)"
   ]
  },
  {
   "cell_type": "markdown",
   "id": "1f4b17e9-eeee-4348-a550-8805fcf7e72e",
   "metadata": {},
   "source": [
    "In this code snippet, we define a function called divide that takes two arguments and returns their quotient. We then attempt to call this function with a numerator of 10 and a denominator of 0. This will result in a ZeroDivisionError exception being raised, because we cannot divide by zero.\n",
    "\n",
    "This error message tells us that the program encountered a ZeroDivisionError exception while executing the divide function, and that this exception was not handled by the code. As a result, the program was terminated abruptly, and no output was produced.\n",
    "\n",
    "To avoid this situation, we should always handle exceptions in our code using try-except blocks, which provide a mechanism for gracefully handling errors and preventing our programs from crashing unexpectedly."
   ]
  },
  {
   "cell_type": "code",
   "execution_count": null,
   "id": "a5945f89-186d-44c4-b74b-fd9b17d0a6b1",
   "metadata": {},
   "outputs": [],
   "source": []
  },
  {
   "cell_type": "markdown",
   "id": "b185c816-9717-497b-833a-e4d1767f1685",
   "metadata": {},
   "source": [
    "Q3. Which Python statements are used to catch and handle exceptions? Explain with an example"
   ]
  },
  {
   "cell_type": "markdown",
   "id": "2d8b9f8e-c407-416f-ae3b-24e842decb34",
   "metadata": {},
   "source": [
    "In Python, you can catch and handle exceptions using try and except statements. The try statement encloses the code that may raise an exception, and the except statement specifies the code to run if an exception is raised."
   ]
  },
  {
   "cell_type": "code",
   "execution_count": 3,
   "id": "644ea013-6b02-4a91-b7bb-b6b6efef04c7",
   "metadata": {},
   "outputs": [
    {
     "name": "stdin",
     "output_type": "stream",
     "text": [
      "Enter a number:  1\n",
      "Enter another number:  0\n"
     ]
    },
    {
     "name": "stdout",
     "output_type": "stream",
     "text": [
      "Cannot divide by zero.\n"
     ]
    }
   ],
   "source": [
    "try:\n",
    "    x = int(input(\"Enter a number: \"))\n",
    "    y = int(input(\"Enter another number: \"))\n",
    "    result = x / y\n",
    "    print(\"The result is:\", result)\n",
    "except ValueError:\n",
    "    print(\"Invalid input. Please enter a number.\")\n",
    "except ZeroDivisionError:\n",
    "    print(\"Cannot divide by zero.\")"
   ]
  },
  {
   "cell_type": "markdown",
   "id": "5381820b-3100-4cef-92bd-6dd9fc817763",
   "metadata": {},
   "source": [
    "In this example, the try block gets two numbers from the user and divides them. If either the input is not a number (which would raise a ValueError) or the second number is zero (which would raise a ZeroDivisionError), the corresponding except block is executed instead of the print statement.\n",
    "\n",
    "For instance, if the user enters \"1\" and \"0\", the except ZeroDivisionError block will be executed, and the output will be Cannot divide by zero.."
   ]
  },
  {
   "cell_type": "code",
   "execution_count": null,
   "id": "221bf9c1-5f05-440d-8b71-c79a24041139",
   "metadata": {},
   "outputs": [],
   "source": []
  },
  {
   "cell_type": "markdown",
   "id": "fa8d3469-64bc-4940-b7b3-7800509c2b40",
   "metadata": {},
   "source": [
    "Q4. Explain with an example:\n",
    " try and else,\n",
    " finall,\n",
    " raise"
   ]
  },
  {
   "cell_type": "markdown",
   "id": "7389fb95-71f0-4ff2-9a86-f771751a8d86",
   "metadata": {},
   "source": [
    "try, else, finally, and raise are all keywords used in Python programming for error handling and exceptions.\n",
    "\n",
    "Here is an example of how these keywords can be used together:"
   ]
  },
  {
   "cell_type": "code",
   "execution_count": 4,
   "id": "51ad0ead-d395-40d3-9fc5-f87a5e55d766",
   "metadata": {},
   "outputs": [
    {
     "name": "stdin",
     "output_type": "stream",
     "text": [
      "Enter a number:  0\n"
     ]
    },
    {
     "name": "stdout",
     "output_type": "stream",
     "text": [
      "Cannot divide by zero.\n",
      "This will always execute, regardless of whether an exception was raised or not.\n"
     ]
    },
    {
     "ename": "ValueError",
     "evalue": "The result is too small.",
     "output_type": "error",
     "traceback": [
      "\u001b[0;31m---------------------------------------------------------------------------\u001b[0m",
      "\u001b[0;31mValueError\u001b[0m                                Traceback (most recent call last)",
      "Cell \u001b[0;32mIn[4], line 13\u001b[0m\n\u001b[1;32m     11\u001b[0m \u001b[38;5;28mprint\u001b[39m(\u001b[38;5;124m\"\u001b[39m\u001b[38;5;124mThis will always execute, regardless of whether an exception was raised or not.\u001b[39m\u001b[38;5;124m\"\u001b[39m)\n\u001b[1;32m     12\u001b[0m \u001b[38;5;28;01mif\u001b[39;00m y \u001b[38;5;241m<\u001b[39m \u001b[38;5;241m2\u001b[39m:\n\u001b[0;32m---> 13\u001b[0m     \u001b[38;5;28;01mraise\u001b[39;00m \u001b[38;5;167;01mValueError\u001b[39;00m(\u001b[38;5;124m\"\u001b[39m\u001b[38;5;124mThe result is too small.\u001b[39m\u001b[38;5;124m\"\u001b[39m)\n",
      "\u001b[0;31mValueError\u001b[0m: The result is too small."
     ]
    }
   ],
   "source": [
    "try:\n",
    "    x = int(input(\"Enter a number: \"))\n",
    "    y = 10 / x\n",
    "except ValueError:\n",
    "    print(\"Invalid input.\")\n",
    "except ZeroDivisionError:\n",
    "    print(\"Cannot divide by zero.\")\n",
    "else:\n",
    "    print(\"The result is:\", y)\n",
    "finally:\n",
    "    print(\"This will always execute, regardless of whether an exception was raised or not.\")\n",
    "    if y < 2:\n",
    "        raise ValueError(\"The result is too small.\")\n"
   ]
  },
  {
   "cell_type": "markdown",
   "id": "bda379fd-058e-49d6-b377-5d1dc7262fef",
   "metadata": {},
   "source": [
    "In this example, we are asking the user to enter a number, which is then used to calculate y. However, there are two types of errors that could occur: a ValueError if the input is not a valid integer, and a ZeroDivisionError if the input is 0.\n",
    "\n",
    "If neither of these errors occur, then the else block will execute and print the result of the calculation.\n",
    "\n",
    "Regardless of whether an exception was raised or not, the finally block will always execute. In this case, we are using it to print a message and raise a ValueError if the result of the calculation is less than 2. This is done using the raise keyword.\n",
    "\n",
    "Overall, this code demonstrates how try, else, finally, and raise can be used together to handle errors and exceptions in Python."
   ]
  },
  {
   "cell_type": "code",
   "execution_count": null,
   "id": "a36434ca-24c7-4471-9904-b1f8dd8791a3",
   "metadata": {},
   "outputs": [],
   "source": []
  },
  {
   "cell_type": "markdown",
   "id": "84315155-ae7c-43b2-b6cd-d88ae2c471be",
   "metadata": {},
   "source": [
    "Q5. What are Custom Exceptions in python? Why do we need Custom Exceptions? Explain with an example."
   ]
  },
  {
   "cell_type": "markdown",
   "id": "072b65c6-d505-46eb-8b65-b476fe02fb3b",
   "metadata": {},
   "source": [
    "In Python, custom exceptions are user-defined exceptions that allow developers to raise exceptions that are not built into the language. Custom exceptions are subclasses of the built-in Exception class, which is the base class for all exceptions in Python.\n",
    "\n",
    "We need custom exceptions in Python to handle specific error scenarios that are not covered by the built-in exceptions. By creating custom exceptions, we can provide more informative error messages and better error handling in our code.\n",
    "\n",
    "Here is an example of how to create a custom exception in Python:"
   ]
  },
  {
   "cell_type": "code",
   "execution_count": 5,
   "id": "17c51300-65dd-495d-81c0-0c174066d4d1",
   "metadata": {},
   "outputs": [],
   "source": [
    "class NegativeNumberError(Exception):\n",
    "    def __init__(self, message):\n",
    "        self.message = message\n",
    "        super().__init__(self.message)\n",
    "\n",
    "def square_root(num):\n",
    "    if num < 0:\n",
    "        raise NegativeNumberError(\"Cannot take the square root of a negative number\")\n",
    "    else:\n",
    "        return math.sqrt(num)\n"
   ]
  },
  {
   "cell_type": "markdown",
   "id": "6868e03b-94a4-4656-acaf-f7359ae2201d",
   "metadata": {},
   "source": [
    "In this example, we have created a custom exception called NegativeNumberError, which is raised when a negative number is passed to the square_root function. The NegativeNumberError class is a subclass of the Exception class and takes a custom error message as an argument in its constructor.\n",
    "\n",
    "The square_root function checks if the number passed to it is negative. If it is, the function raises the NegativeNumberError exception with the custom error message. Otherwise, the function returns the square root of the number.\n",
    "\n",
    "Now, if we call the square_root function with a negative number, it will raise the NegativeNumberError exception with the custom error message:\n",
    ">>> square_root(-1)\n",
    "Traceback (most recent call last):\n",
    "  File \"<stdin>\", line 1, in <module>\n",
    "  File \"<stdin>\", line 3, in square_root\n",
    "__main__.NegativeNumberError: Cannot take the square root of a negative number"
   ]
  },
  {
   "cell_type": "code",
   "execution_count": null,
   "id": "5cc2db27-d15d-4096-9767-615a9698e489",
   "metadata": {},
   "outputs": [],
   "source": []
  },
  {
   "cell_type": "markdown",
   "id": "d0a93b54-7d16-4564-97ae-af25f0080f8c",
   "metadata": {},
   "source": [
    "Q6. Create a custom exception class. Use this class to handle an exception."
   ]
  },
  {
   "cell_type": "code",
   "execution_count": 7,
   "id": "ea9dda35-09d3-45b2-af20-0f25ce2213b7",
   "metadata": {},
   "outputs": [],
   "source": [
    "class validAge(Exception):\n",
    "    \n",
    "    def __init__(self,msg):\n",
    "        self.msg=msg\n",
    "    "
   ]
  },
  {
   "cell_type": "code",
   "execution_count": 8,
   "id": "b143a176-e76f-418a-bc29-1093dbdf428e",
   "metadata": {},
   "outputs": [],
   "source": [
    "def validateage(age):\n",
    "    if age <0:\n",
    "        raise validAge(\"Entered Age is nagitive\")\n",
    "    elif age > 150:\n",
    "        raise validAge(\"Entered Age is very high\")\n",
    "    else:\n",
    "        print(\"age is valid\")\n",
    "    "
   ]
  },
  {
   "cell_type": "code",
   "execution_count": 10,
   "id": "0c8d24fd-b61a-423f-a131-8f86c770030e",
   "metadata": {},
   "outputs": [
    {
     "name": "stdin",
     "output_type": "stream",
     "text": [
      "enter your age -10\n"
     ]
    },
    {
     "name": "stdout",
     "output_type": "stream",
     "text": [
      "Entered Age is nagitive\n"
     ]
    }
   ],
   "source": [
    "try:\n",
    "    age = int(input(\"enter your age\"))\n",
    "    validateage(age)\n",
    "except validAge as e:\n",
    "    print(e)"
   ]
  },
  {
   "cell_type": "code",
   "execution_count": null,
   "id": "ee9351a9-8205-4d41-a681-f9368288ac1a",
   "metadata": {},
   "outputs": [],
   "source": []
  }
 ],
 "metadata": {
  "kernelspec": {
   "display_name": "Python 3 (ipykernel)",
   "language": "python",
   "name": "python3"
  },
  "language_info": {
   "codemirror_mode": {
    "name": "ipython",
    "version": 3
   },
   "file_extension": ".py",
   "mimetype": "text/x-python",
   "name": "python",
   "nbconvert_exporter": "python",
   "pygments_lexer": "ipython3",
   "version": "3.10.8"
  }
 },
 "nbformat": 4,
 "nbformat_minor": 5
}
