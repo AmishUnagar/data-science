{
 "cells": [
  {
   "cell_type": "code",
   "execution_count": 3,
   "id": "6893c1e3-ef2b-4177-882a-f92ec1263bfb",
   "metadata": {},
   "outputs": [],
   "source": [
    "import pandas as pd\n",
    "course_name = ['Data Science', 'Machine Learning', 'Big Data', 'Data Engineer']\n",
    "duration = [2,3,6,4]\n",
    "df = pd.DataFrame(data = {'course_name' : course_name, 'duration' : duration})"
   ]
  },
  {
   "cell_type": "code",
   "execution_count": 4,
   "id": "5439c9af-90da-4a14-bef7-3bece09f1cdd",
   "metadata": {},
   "outputs": [
    {
     "data": {
      "text/html": [
       "<div>\n",
       "<style scoped>\n",
       "    .dataframe tbody tr th:only-of-type {\n",
       "        vertical-align: middle;\n",
       "    }\n",
       "\n",
       "    .dataframe tbody tr th {\n",
       "        vertical-align: top;\n",
       "    }\n",
       "\n",
       "    .dataframe thead th {\n",
       "        text-align: right;\n",
       "    }\n",
       "</style>\n",
       "<table border=\"1\" class=\"dataframe\">\n",
       "  <thead>\n",
       "    <tr style=\"text-align: right;\">\n",
       "      <th></th>\n",
       "      <th>course_name</th>\n",
       "      <th>duration</th>\n",
       "    </tr>\n",
       "  </thead>\n",
       "  <tbody>\n",
       "    <tr>\n",
       "      <th>0</th>\n",
       "      <td>Data Science</td>\n",
       "      <td>2</td>\n",
       "    </tr>\n",
       "    <tr>\n",
       "      <th>1</th>\n",
       "      <td>Machine Learning</td>\n",
       "      <td>3</td>\n",
       "    </tr>\n",
       "    <tr>\n",
       "      <th>2</th>\n",
       "      <td>Big Data</td>\n",
       "      <td>6</td>\n",
       "    </tr>\n",
       "    <tr>\n",
       "      <th>3</th>\n",
       "      <td>Data Engineer</td>\n",
       "      <td>4</td>\n",
       "    </tr>\n",
       "  </tbody>\n",
       "</table>\n",
       "</div>"
      ],
      "text/plain": [
       "        course_name  duration\n",
       "0      Data Science         2\n",
       "1  Machine Learning         3\n",
       "2          Big Data         6\n",
       "3     Data Engineer         4"
      ]
     },
     "execution_count": 4,
     "metadata": {},
     "output_type": "execute_result"
    }
   ],
   "source": [
    "df"
   ]
  },
  {
   "cell_type": "markdown",
   "id": "7f1d71c9-aa15-4213-8f3d-f57edb98b7e3",
   "metadata": {},
   "source": [
    "Q1. Write a code to print the data present in the second row of the dataframe, df."
   ]
  },
  {
   "cell_type": "code",
   "execution_count": 8,
   "id": "3e8d62de-076d-4542-9d60-a9327862990e",
   "metadata": {},
   "outputs": [
    {
     "data": {
      "text/plain": [
       "course_name    Machine Learning\n",
       "duration                      3\n",
       "Name: 1, dtype: object"
      ]
     },
     "execution_count": 8,
     "metadata": {},
     "output_type": "execute_result"
    }
   ],
   "source": [
    "df.iloc[1]"
   ]
  },
  {
   "cell_type": "code",
   "execution_count": null,
   "id": "fe3e1003-a9f2-493d-8f48-3e0be436b898",
   "metadata": {},
   "outputs": [],
   "source": []
  },
  {
   "cell_type": "markdown",
   "id": "49ce3dba-476d-46fe-8058-0571ebb8ba75",
   "metadata": {},
   "source": [
    "Q2. What is the difference between the functions loc and iloc in pandas.DataFrame?"
   ]
  },
  {
   "cell_type": "markdown",
   "id": "abf9b5f5-7b23-454b-86ad-638c7215fce6",
   "metadata": {},
   "source": [
    "1. loc is label-based indexing, which means that you can select data based on the row and column labels.\n",
    "\n",
    "2. iloc is integer-based indexing, which means that you can select data based on the row and column indices."
   ]
  },
  {
   "cell_type": "code",
   "execution_count": null,
   "id": "b00bc46c-93db-4d23-a17b-1b069f5e0b51",
   "metadata": {},
   "outputs": [],
   "source": []
  },
  {
   "cell_type": "markdown",
   "id": "94a68f50-3b7f-4320-8347-f2ca80f581b2",
   "metadata": {},
   "source": [
    "Q3. Reindex the given dataframe using a variable, reindex = [3,0,1,2] and store it in the variable, new_df\n",
    "then find the output for both new_df.loc[2] and new_df.iloc[2]."
   ]
  },
  {
   "cell_type": "code",
   "execution_count": 27,
   "id": "ab86e6e2-e4bf-464d-9295-777d1f1c7b53",
   "metadata": {},
   "outputs": [
    {
     "ename": "TypeError",
     "evalue": "'list' object is not callable",
     "output_type": "error",
     "traceback": [
      "\u001b[0;31m---------------------------------------------------------------------------\u001b[0m",
      "\u001b[0;31mTypeError\u001b[0m                                 Traceback (most recent call last)",
      "Cell \u001b[0;32mIn[27], line 2\u001b[0m\n\u001b[1;32m      1\u001b[0m reindex \u001b[38;5;241m=\u001b[39m [\u001b[38;5;241m3\u001b[39m, \u001b[38;5;241m0\u001b[39m, \u001b[38;5;241m1\u001b[39m, \u001b[38;5;241m2\u001b[39m]\n\u001b[0;32m----> 2\u001b[0m \u001b[43mdf\u001b[49m\u001b[38;5;241;43m.\u001b[39;49m\u001b[43mreindex\u001b[49m\u001b[43m(\u001b[49m\u001b[43mreindex\u001b[49m\u001b[43m)\u001b[49m\n",
      "\u001b[0;31mTypeError\u001b[0m: 'list' object is not callable"
     ]
    }
   ],
   "source": [
    "reindex = [3, 0, 1, 2]\n",
    "df.reindex(reindex)"
   ]
  },
  {
   "cell_type": "code",
   "execution_count": null,
   "id": "81156299-361a-430a-884d-475671819bce",
   "metadata": {},
   "outputs": [],
   "source": []
  },
  {
   "cell_type": "markdown",
   "id": "26410b7c-2b22-418b-b923-59e9ff279bda",
   "metadata": {},
   "source": [
    "Q4. Write a code to find the following statistical measurements for the above dataframe df1:\n",
    "(i) mean of each and every column present in the dataframe.\n",
    "(ii) standard deviation of column, ‘column_2’"
   ]
  },
  {
   "cell_type": "code",
   "execution_count": 28,
   "id": "d0dde84e-8a03-4a1c-bbfb-4c5ab529176d",
   "metadata": {},
   "outputs": [
    {
     "name": "stderr",
     "output_type": "stream",
     "text": [
      "/tmp/ipykernel_70/2213877099.py:2: FutureWarning: The default value of numeric_only in DataFrame.mean is deprecated. In a future version, it will default to False. In addition, specifying 'numeric_only=None' is deprecated. Select only valid columns or specify the value of numeric_only to silence this warning.\n",
      "  df.mean()\n"
     ]
    },
    {
     "data": {
      "text/plain": [
       "duration    3.75\n",
       "dtype: float64"
      ]
     },
     "execution_count": 28,
     "metadata": {},
     "output_type": "execute_result"
    }
   ],
   "source": [
    "#  mean of each and every column\n",
    "df.mean()"
   ]
  },
  {
   "cell_type": "code",
   "execution_count": 29,
   "id": "0117765d-3700-435c-8a29-20ca5c61f45d",
   "metadata": {},
   "outputs": [
    {
     "data": {
      "text/plain": [
       "1.707825127659933"
      ]
     },
     "execution_count": 29,
     "metadata": {},
     "output_type": "execute_result"
    }
   ],
   "source": [
    "# standard deviation of column, ‘column_2’\n",
    "df['duration'].std()"
   ]
  },
  {
   "cell_type": "code",
   "execution_count": null,
   "id": "cd7d36da-58ce-4dff-9246-68a859067e5f",
   "metadata": {},
   "outputs": [],
   "source": []
  },
  {
   "cell_type": "markdown",
   "id": "a85485d3-79ea-4a65-b603-71eb97d14766",
   "metadata": {},
   "source": [
    "Q5. Replace the data present in the second row of column, ‘column_2’ by a string variable then find the\n",
    "mean of column, column_2."
   ]
  },
  {
   "cell_type": "code",
   "execution_count": 38,
   "id": "8c40a272-3797-4a3b-8f68-f51ae3439d64",
   "metadata": {},
   "outputs": [
    {
     "name": "stdout",
     "output_type": "stream",
     "text": [
      "   column_1  column_2\n",
      "0         1         4\n",
      "1         2         5\n",
      "2         3         6\n",
      "   column_1   column_2\n",
      "0         1          4\n",
      "1         2  new_value\n",
      "2         3          6\n"
     ]
    }
   ],
   "source": [
    "import pandas as pd\n",
    "\n",
    "# create a sample dataframe\n",
    "df = pd.DataFrame({'column_1': [1, 2, 3], 'column_2': [4, 5, 6]})\n",
    "\n",
    "# print the original dataframe\n",
    "print(df)\n",
    "\n",
    "# replace the data in the second row of column 2 with a string variable\n",
    "df.at[1, 'column_2'] = 'new_value'\n",
    "\n",
    "# print the updated dataframe\n",
    "print(df)\n",
    "\n",
    "df['column_2'].mean()\n",
    "\n",
    " "
   ]
  },
  {
   "cell_type": "code",
   "execution_count": null,
   "id": "d8821abf-a414-47ae-9fbe-9e0a901b42da",
   "metadata": {},
   "outputs": [],
   "source": []
  },
  {
   "cell_type": "markdown",
   "id": "17c34dac-3970-44aa-a08a-6f43ec8a5152",
   "metadata": {},
   "source": [
    "Q6. What do you understand about the windows function in pandas and list the types of windows\n",
    "functions?"
   ]
  },
  {
   "cell_type": "markdown",
   "id": "9581c1a6-0bce-4255-9927-05bb78e8f99e",
   "metadata": {},
   "source": [
    "In Pandas, the windows function is used to apply a function on a sliding window of data. It is often used for time-series data analysis and allows you to compute rolling statistics over a specified time window.\n",
    "\n",
    "There are three types of window functions in Pandas:\n",
    "\n",
    "Rolling Window: The rolling window function computes a moving window of a specified size and applies a function to the data in each window. It is used to calculate rolling statistics like the rolling mean, rolling sum, rolling median, etc.\n",
    "\n",
    "Expanding Window: The expanding window function computes a statistic for all the data points available up to that point. It is used to calculate cumulative statistics like the cumulative sum, cumulative minimum, etc.\n",
    "\n",
    "Exponentially Weighted Window: The exponentially weighted window function computes the weighted average of the data points in a sliding window with the weights exponentially decreasing as you move further away from the current point. It is used to calculate exponentially weighted moving averages, which are useful for smoothing noisy time-series data."
   ]
  },
  {
   "cell_type": "code",
   "execution_count": null,
   "id": "73aaef46-bb72-4cf3-8dfb-a729edaf5810",
   "metadata": {},
   "outputs": [],
   "source": []
  },
  {
   "cell_type": "markdown",
   "id": "7e9bc0ee-1b59-4e65-a1a7-c4806c860e23",
   "metadata": {},
   "source": [
    "Q7. Write a code to print only the current month and year at the time of answering this question.\n",
    "[Hint: Use pandas.datetime function]"
   ]
  },
  {
   "cell_type": "code",
   "execution_count": 41,
   "id": "ab81bc35-9dd9-4691-8134-c4c014e55d84",
   "metadata": {},
   "outputs": [
    {
     "name": "stdout",
     "output_type": "stream",
     "text": [
      "Current month and year: May 2023\n"
     ]
    },
    {
     "name": "stderr",
     "output_type": "stream",
     "text": [
      "/tmp/ipykernel_70/2712838774.py:1: FutureWarning: The pandas.datetime class is deprecated and will be removed from pandas in a future version. Import from datetime module instead.\n",
      "  current_date = pd.datetime.now()\n"
     ]
    }
   ],
   "source": [
    "current_date = pd.datetime.now()\n",
    "\n",
    "print(\"Current month and year:\", current_date.strftime(\"%B %Y\"))"
   ]
  },
  {
   "cell_type": "code",
   "execution_count": null,
   "id": "a415d887-8d3d-48ca-b93d-e9b85a1320c7",
   "metadata": {},
   "outputs": [],
   "source": []
  },
  {
   "cell_type": "markdown",
   "id": "53be3fa3-4d8a-4179-b749-10ff4fc73c01",
   "metadata": {},
   "source": [
    "Q8. Write a Python program that takes in two dates as input (in the format YYYY-MM-DD) and\n",
    "calculates the difference between them in days, hours, and minutes using Pandas time delta. The\n",
    "program should prompt the user to enter the dates and display the result."
   ]
  },
  {
   "cell_type": "code",
   "execution_count": 44,
   "id": "a661b4c5-8ee9-406d-9b2e-5523292bdba7",
   "metadata": {},
   "outputs": [
    {
     "name": "stdin",
     "output_type": "stream",
     "text": [
      "Enter the first date (YYYY-MM-DD):  2013-01-01\n",
      "Enter the second date (YYYY-MM-DD):  2013-05-08\n"
     ]
    },
    {
     "name": "stdout",
     "output_type": "stream",
     "text": [
      "The difference between 2013-05-08 and 2013-01-01 is:\n",
      "127 days, 0 hours, 0 minutes.\n"
     ]
    }
   ],
   "source": [
    "import pandas as pd\n",
    "\n",
    "# Prompt the user to enter the first date\n",
    "date1_str = input(\"Enter the first date (YYYY-MM-DD): \")\n",
    "\n",
    "# Prompt the user to enter the second date\n",
    "date2_str = input(\"Enter the second date (YYYY-MM-DD): \")\n",
    "\n",
    "# Convert the input strings to Pandas datetime objects\n",
    "date1 = pd.to_datetime(date1_str)\n",
    "date2 = pd.to_datetime(date2_str)\n",
    "\n",
    "# Calculate the time delta between the two dates\n",
    "delta = date2 - date1\n",
    "\n",
    "# Extract the number of days, hours, and minutes from the time delta\n",
    "days = delta.days\n",
    "hours = delta.seconds // 360\n",
    "minutes = (delta.seconds // 60) % 60\n",
    "\n",
    "# Display the result to the user\n",
    "print(\"The difference between\", date2_str, \"and\", date1_str, \"is:\")\n",
    "print(days, \"days,\", hours, \"hours,\", minutes, \"minutes.\")\n"
   ]
  },
  {
   "cell_type": "code",
   "execution_count": null,
   "id": "22b753d8-10dd-4c66-8376-a9b3a32c988e",
   "metadata": {},
   "outputs": [],
   "source": []
  },
  {
   "cell_type": "markdown",
   "id": "e29c4f43-98f7-4516-96ad-f18302f3834a",
   "metadata": {},
   "source": [
    "Q9. Write a Python program that reads a CSV file containing categorical data and converts a specified\n",
    "column to a categorical data type. The program should prompt the user to enter the file path, column\n",
    "name, and category order, and then display the sorted data."
   ]
  },
  {
   "cell_type": "code",
   "execution_count": null,
   "id": "df9550ab-15fc-4f51-b59c-e667ad35996e",
   "metadata": {},
   "outputs": [],
   "source": [
    " \n",
    "import pandas as pd\n",
    "\n",
    "# Prompt user for file path\n",
    "file_path = input(\"Enter file path: \")\n",
    "\n",
    "# Prompt user for column name\n",
    "column_name = input(\"Enter column name: \")\n",
    "\n",
    "# Prompt user for category order\n",
    "category_order = input(\"Enter category order (comma-separated): \").split(\",\")\n",
    "\n",
    "# Load data from CSV file\n",
    "data = pd.read_csv(file_path)\n",
    "\n",
    "# Convert specified column to categorical data type\n",
    "data[column_name] = pd.Categorical(data[column_name], categories=category_order, ordered=True)\n",
    "\n",
    "# Sort data by specified column\n",
    "data = data.sort_values(by=column_name)\n",
    "at\n",
    "# Display sorted da\n",
    "print(data)"
   ]
  },
  {
   "cell_type": "code",
   "execution_count": 5,
   "id": "6340f1a8-fb46-4b1b-85fd-51def3342845",
   "metadata": {},
   "outputs": [],
   "source": []
  },
  {
   "cell_type": "markdown",
   "id": "e9fc0294-7d26-4ea7-a531-8660ce831f88",
   "metadata": {},
   "source": [
    "Q10. Write a Python program that reads a CSV file containing sales data for different products and\n",
    "visualizes the data using a stacked bar chart to show the sales of each product category over time. The\n",
    "program should prompt the user to enter the file path and display the chart."
   ]
  },
  {
   "cell_type": "code",
   "execution_count": 6,
   "id": "0506d016-0ad9-495a-b469-ad5b102b8230",
   "metadata": {},
   "outputs": [
    {
     "name": "stdin",
     "output_type": "stream",
     "text": [
      "Enter the file path of the CSV file:  sales.csv\n"
     ]
    },
    {
     "data": {
      "text/plain": [
       "<AxesSubplot: xlabel='Date'>"
      ]
     },
     "execution_count": 6,
     "metadata": {},
     "output_type": "execute_result"
    },
    {
     "data": {
      "image/png": "[encoded data removed]",
      "text/plain": [
       "<Figure size 640x480 with 1 Axes>"
      ]
     },
     "metadata": {},
     "output_type": "display_data"
    }
   ],
   "source": [
    "# Prompt the user to enter the file path\n",
    "file_path = input(\"Enter the file path of the CSV file: \")\n",
    "\n",
    "# Read the CSV file into a Pandas DataFrame\n",
    "df = pd.read_csv(file_path)\n",
    "\n",
    "# Set the index of the DataFrame to the 'Date' column\n",
    "df.set_index('Date', inplace=True)\n",
    "\n",
    "# Create a stacked bar chart of the sales data\n",
    "df.plot(kind='bar', stacked=True)"
   ]
  },
  {
   "cell_type": "code",
   "execution_count": null,
   "id": "b822cfb5-27c2-47d3-a2bc-0fdc68d8c811",
   "metadata": {},
   "outputs": [],
   "source": []
  },
  {
   "cell_type": "markdown",
   "id": "294ffda3-d655-4079-961e-e9c5faecf353",
   "metadata": {},
   "source": [
    "Q11. You are given a CSV file containing student data that includes the student ID and their test score. Write\n",
    "a Python program that reads the CSV file, calculates the mean, median, and mode of the test scores, and\n",
    "displays the results in a table."
   ]
  },
  {
   "cell_type": "code",
   "execution_count": 10,
   "id": "f5bbce37-8937-4e59-9f30-464b98a9dc1e",
   "metadata": {},
   "outputs": [],
   "source": [
    "df=pd.read_csv(\"std.csv\")\n",
    "df2=pd.DataFrame(df['sid'])"
   ]
  },
  {
   "cell_type": "code",
   "execution_count": 31,
   "id": "f8eeab18-027d-434a-aa36-a95f6c19fead",
   "metadata": {},
   "outputs": [],
   "source": [
    "lst=[df[\"score\"].mean(),df[\"score\"].median(),df[\"score\"].mode()]"
   ]
  },
  {
   "cell_type": "code",
   "execution_count": 36,
   "id": "1507e19d-5389-44c4-8d25-a3e8f5aa2955",
   "metadata": {},
   "outputs": [],
   "source": [
    "df2=pd.DataFrame(lst)"
   ]
  },
  {
   "cell_type": "code",
   "execution_count": 35,
   "id": "4762d128-7870-4ce3-b6c9-1f0205675880",
   "metadata": {},
   "outputs": [
    {
     "data": {
      "text/html": [
       "<div>\n",
       "<style scoped>\n",
       "    .dataframe tbody tr th:only-of-type {\n",
       "        vertical-align: middle;\n",
       "    }\n",
       "\n",
       "    .dataframe tbody tr th {\n",
       "        vertical-align: top;\n",
       "    }\n",
       "\n",
       "    .dataframe thead th {\n",
       "        text-align: right;\n",
       "    }\n",
       "</style>\n",
       "<table border=\"1\" class=\"dataframe\">\n",
       "  <thead>\n",
       "    <tr style=\"text-align: right;\">\n",
       "      <th></th>\n",
       "      <th>0</th>\n",
       "    </tr>\n",
       "  </thead>\n",
       "  <tbody>\n",
       "    <tr>\n",
       "      <th>0</th>\n",
       "      <td>86.666667</td>\n",
       "    </tr>\n",
       "    <tr>\n",
       "      <th>1</th>\n",
       "      <td>86.0</td>\n",
       "    </tr>\n",
       "    <tr>\n",
       "      <th>2</th>\n",
       "      <td>0    85\n",
       "Name: score, dtype: int64</td>\n",
       "    </tr>\n",
       "  </tbody>\n",
       "</table>\n",
       "</div>"
      ],
      "text/plain": [
       "                                   0\n",
       "0                          86.666667\n",
       "1                               86.0\n",
       "2  0    85\n",
       "Name: score, dtype: int64"
      ]
     },
     "execution_count": 35,
     "metadata": {},
     "output_type": "execute_result"
    }
   ],
   "source": [
    "df2"
   ]
  },
  {
   "cell_type": "code",
   "execution_count": null,
   "id": "c97f25ea-6d76-4c02-9138-69ecb03581e0",
   "metadata": {},
   "outputs": [],
   "source": [
    "\n"
   ]
  },
  {
   "cell_type": "code",
   "execution_count": null,
   "id": "96391d68-1ed0-434f-a143-090f09ec5c3c",
   "metadata": {},
   "outputs": [],
   "source": []
  }
 ],
 "metadata": {
  "kernelspec": {
   "display_name": "Python 3 (ipykernel)",
   "language": "python",
   "name": "python3"
  },
  "language_info": {
   "codemirror_mode": {
    "name": "ipython",
    "version": 3
   },
   "file_extension": ".py",
   "mimetype": "text/x-python",
   "name": "python",
   "nbconvert_exporter": "python",
   "pygments_lexer": "ipython3",
   "version": "3.10.8"
  }
 },
 "nbformat": 4,
 "nbformat_minor": 5
}
