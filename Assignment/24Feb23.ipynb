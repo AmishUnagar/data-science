{
 "cells": [
  {
   "cell_type": "markdown",
   "id": "cbe3641b-9026-4377-a3b0-853dc21e37ce",
   "metadata": {},
   "source": [
    "Q1.List any five functions of the pandas library with execution."
   ]
  },
  {
   "cell_type": "markdown",
   "id": "b6289e81-4d91-464d-9830-80276c865b44",
   "metadata": {},
   "source": [
    "1. read_csv(): This function is used to read a CSV file and create a DataFrame object from it. Here's an example:"
   ]
  },
  {
   "cell_type": "code",
   "execution_count": null,
   "id": "a6d58ebe-490f-4765-b0cb-e96446cdb190",
   "metadata": {},
   "outputs": [],
   "source": [
    "import pandas as pd\n",
    "data = pd.read_csv('file.csv')"
   ]
  },
  {
   "cell_type": "markdown",
   "id": "394c3c51-cee3-437d-bb89-60171380bb1b",
   "metadata": {},
   "source": [
    "2. head(): This function is used to display the first n rows of a DataFrame object. Here's an example:"
   ]
  },
  {
   "cell_type": "code",
   "execution_count": null,
   "id": "a81b38b9-2519-4322-bcdc-28e8d126c244",
   "metadata": {},
   "outputs": [],
   "source": [
    "data = pd.read_csv('file.csv')\n",
    "print(data.head(10)) # displays the first 10 rows of data\n"
   ]
  },
  {
   "cell_type": "markdown",
   "id": "104c308d-fdab-434e-bddd-6d8ce4df4d37",
   "metadata": {},
   "source": [
    "3. describe(): This function is used to generate a statistical summary of a DataFrame"
   ]
  },
  {
   "cell_type": "code",
   "execution_count": null,
   "id": "287eb07b-1ba1-4d72-b261-5e7cf4a6cd56",
   "metadata": {},
   "outputs": [],
   "source": [
    "\n",
    "print(data.describe()) # generates a statistical summary of the data\n"
   ]
  },
  {
   "cell_type": "markdown",
   "id": "c9a9eedf-9752-4e29-8007-91a21fa7275f",
   "metadata": {},
   "source": [
    "4. groupby(): This function is used to group a DataFrame object by one or more columns and perform aggregate operations on the groups."
   ]
  },
  {
   "cell_type": "code",
   "execution_count": null,
   "id": "58560fd7-c38d-4949-9c1c-e557bbff5525",
   "metadata": {},
   "outputs": [],
   "source": [
    "\n",
    "grouped_data = data.groupby('column_name')\n",
    "print(grouped_data.mean()) # calculates the mean of each group\n"
   ]
  },
  {
   "cell_type": "markdown",
   "id": "dc0ebe64-cbdf-4096-9944-4dc3fbc131a5",
   "metadata": {},
   "source": [
    "5. fillna(): This function is used to fill missing values in a DataFrame object with a specified value or method."
   ]
  },
  {
   "cell_type": "code",
   "execution_count": null,
   "id": "17fcb28b-adb2-496a-b98a-b8aece0428b9",
   "metadata": {},
   "outputs": [],
   "source": [
    "data.fillna(0, inplace=True) # fills all missing values with 0"
   ]
  },
  {
   "cell_type": "code",
   "execution_count": null,
   "id": "50e51fcd-6273-47fd-a044-731397175175",
   "metadata": {},
   "outputs": [],
   "source": []
  },
  {
   "cell_type": "markdown",
   "id": "8dbfae2e-7774-4b2d-9fc5-c19de40efc35",
   "metadata": {},
   "source": [
    "Q2. Given a Pandas DataFrame df with columns 'A', 'B', and 'C', write a Python function to re-index the\n",
    "DataFrame with a new index that starts from 1 and increments by 2 for each row."
   ]
  },
  {
   "cell_type": "code",
   "execution_count": 3,
   "id": "023b30c1-364f-4082-bbb9-9f48234a0cf8",
   "metadata": {},
   "outputs": [],
   "source": [
    "import pandas as pd\n",
    "\n",
    "def reindex_dataframe(df):\n",
    "    new_index = pd.Index(range(1, 2*len(df)+1, 2))\n",
    "    df.index = new_index\n",
    "    return df"
   ]
  },
  {
   "cell_type": "code",
   "execution_count": 4,
   "id": "74deb5fa-934e-4760-886e-2d1c0e617c3b",
   "metadata": {},
   "outputs": [
    {
     "name": "stdout",
     "output_type": "stream",
     "text": [
      "   A  B  C\n",
      "1  1  4  7\n",
      "3  2  5  8\n",
      "5  3  6  9\n"
     ]
    }
   ],
   "source": [
    "df = pd.DataFrame({'A': [1, 2, 3], 'B': [4, 5, 6], 'C': [7, 8, 9]})\n",
    "df_reindexed = reindex_dataframe(df)\n",
    "print(df_reindexed)\n"
   ]
  },
  {
   "cell_type": "code",
   "execution_count": null,
   "id": "d225c598-2191-4e5a-bd47-8b03888d5674",
   "metadata": {},
   "outputs": [],
   "source": []
  },
  {
   "cell_type": "markdown",
   "id": "fa73615d-cdfd-4153-90df-cf9b21302ad2",
   "metadata": {},
   "source": [
    "Q3. You have a Pandas DataFrame df with a column named 'Values'. Write a Python function that\n",
    "iterates over the DataFrame and calculates the sum of the first three values in the 'Values' column. The\n",
    "function should print the sum to the console."
   ]
  },
  {
   "cell_type": "code",
   "execution_count": 6,
   "id": "aa01d905-1b96-4691-929b-c11ea4c742f5",
   "metadata": {},
   "outputs": [],
   "source": [
    "def sum_first_three_values(df):\n",
    "    values_sum = 0\n",
    "    for i, value in enumerate(df['Values']):\n",
    "        if i < 3:\n",
    "            values_sum += value\n",
    "        else:\n",
    "            break\n",
    "    print(\"The sum of the first three values in the 'Values' column is:\", values_sum)\n",
    "    \n"
   ]
  },
  {
   "cell_type": "code",
   "execution_count": 14,
   "id": "24d33968-a083-45f7-a09b-ba072d5ed398",
   "metadata": {},
   "outputs": [],
   "source": [
    "df=pd.DataFrame({\"Values\":[10, 20, 30, 40, 50]})"
   ]
  },
  {
   "cell_type": "code",
   "execution_count": 15,
   "id": "4b9098f4-97c3-4ae5-aacc-b4ee73970cf3",
   "metadata": {},
   "outputs": [
    {
     "name": "stdout",
     "output_type": "stream",
     "text": [
      "The sum of the first three values in the 'Values' column is: 60\n"
     ]
    }
   ],
   "source": [
    "sum_first_three_values(df)"
   ]
  },
  {
   "cell_type": "code",
   "execution_count": null,
   "id": "348bd2a6-c1ce-4e0b-9a32-1f6fb090c139",
   "metadata": {},
   "outputs": [],
   "source": []
  },
  {
   "cell_type": "markdown",
   "id": "63c14938-a6c5-4879-a12c-0ca7ce49fefe",
   "metadata": {},
   "source": [
    "Q4. Given a Pandas DataFrame df with a column 'Text', write a Python function to create a new column\n",
    "'Word_Count' that contains the number of words in each row of the 'Text' column."
   ]
  },
  {
   "cell_type": "code",
   "execution_count": 16,
   "id": "00b00160-6249-4c7f-8369-c9c31baa2c8b",
   "metadata": {},
   "outputs": [],
   "source": [
    "df=pd.DataFrame({\"name\": [\"amish\",\"sudh\",\"jay\",\"raj\"]})"
   ]
  },
  {
   "cell_type": "code",
   "execution_count": 26,
   "id": "bf7d5d12-01fc-4300-807d-67f5a8a76eba",
   "metadata": {},
   "outputs": [],
   "source": [
    "def add_word_count(df):\n",
    "    df['Word_count'] =df[\"name\"].apply(len)"
   ]
  },
  {
   "cell_type": "code",
   "execution_count": 27,
   "id": "82fb9906-b18c-448c-b799-c94964219fa6",
   "metadata": {},
   "outputs": [],
   "source": [
    "add_word_count(df)"
   ]
  },
  {
   "cell_type": "code",
   "execution_count": 28,
   "id": "a4e44e8e-2b63-4712-b171-0250e5f4b5f4",
   "metadata": {},
   "outputs": [
    {
     "data": {
      "text/html": [
       "<div>\n",
       "<style scoped>\n",
       "    .dataframe tbody tr th:only-of-type {\n",
       "        vertical-align: middle;\n",
       "    }\n",
       "\n",
       "    .dataframe tbody tr th {\n",
       "        vertical-align: top;\n",
       "    }\n",
       "\n",
       "    .dataframe thead th {\n",
       "        text-align: right;\n",
       "    }\n",
       "</style>\n",
       "<table border=\"1\" class=\"dataframe\">\n",
       "  <thead>\n",
       "    <tr style=\"text-align: right;\">\n",
       "      <th></th>\n",
       "      <th>name</th>\n",
       "      <th>Word_count</th>\n",
       "    </tr>\n",
       "  </thead>\n",
       "  <tbody>\n",
       "    <tr>\n",
       "      <th>0</th>\n",
       "      <td>amish</td>\n",
       "      <td>5</td>\n",
       "    </tr>\n",
       "    <tr>\n",
       "      <th>1</th>\n",
       "      <td>sudh</td>\n",
       "      <td>4</td>\n",
       "    </tr>\n",
       "    <tr>\n",
       "      <th>2</th>\n",
       "      <td>jay</td>\n",
       "      <td>3</td>\n",
       "    </tr>\n",
       "    <tr>\n",
       "      <th>3</th>\n",
       "      <td>raj</td>\n",
       "      <td>3</td>\n",
       "    </tr>\n",
       "  </tbody>\n",
       "</table>\n",
       "</div>"
      ],
      "text/plain": [
       "    name  Word_count\n",
       "0  amish           5\n",
       "1   sudh           4\n",
       "2    jay           3\n",
       "3    raj           3"
      ]
     },
     "execution_count": 28,
     "metadata": {},
     "output_type": "execute_result"
    }
   ],
   "source": [
    "df"
   ]
  },
  {
   "cell_type": "code",
   "execution_count": null,
   "id": "56a54c96-6a5d-4152-bd09-4a0f4ca424e8",
   "metadata": {},
   "outputs": [],
   "source": []
  },
  {
   "cell_type": "markdown",
   "id": "1ff4b6ae-6191-4367-ae8c-6ab9f652c47c",
   "metadata": {},
   "source": [
    "Q5. How are DataFrame.size() and DataFrame.shape() different?"
   ]
  },
  {
   "cell_type": "markdown",
   "id": "3f318f9b-f982-485e-8112-c4c8e69391c9",
   "metadata": {},
   "source": [
    "Both DataFrame.size() and DataFrame.shape() are methods in the Pandas library that can be used to obtain information about the dimensions of a DataFrame, but they differ in what they return.\n",
    "\n",
    "DataFrame.size() returns the total number of elements in the DataFrame, which is the product of the number of rows and columns. In other words, it returns the size of the DataFrame as a single number, regardless of the number of dimensions.\n",
    "\n",
    "On the other hand, DataFrame.shape() returns a tuple that contains the number of rows and columns in the DataFrame, respectively. So, it returns the dimensions of the DataFrame as a tuple of two numbers."
   ]
  },
  {
   "cell_type": "code",
   "execution_count": 31,
   "id": "15187026-f2f0-4c5d-87ca-f8ec25eccd9a",
   "metadata": {},
   "outputs": [
    {
     "data": {
      "text/plain": [
       "(4, 2)"
      ]
     },
     "execution_count": 31,
     "metadata": {},
     "output_type": "execute_result"
    }
   ],
   "source": [
    "df.shape"
   ]
  },
  {
   "cell_type": "code",
   "execution_count": 32,
   "id": "2124d0c6-fbae-4166-8018-7d94dd9297aa",
   "metadata": {},
   "outputs": [
    {
     "data": {
      "text/plain": [
       "8"
      ]
     },
     "execution_count": 32,
     "metadata": {},
     "output_type": "execute_result"
    }
   ],
   "source": [
    "df.size"
   ]
  },
  {
   "cell_type": "code",
   "execution_count": null,
   "id": "aa38a4e5-b2b0-448d-a2c8-2e85e15aa26c",
   "metadata": {},
   "outputs": [],
   "source": []
  },
  {
   "cell_type": "markdown",
   "id": "a4116320-f88d-4962-9f7d-3dd331dbdd0e",
   "metadata": {},
   "source": [
    "Q6. Which function of pandas do we use to read an excel file?"
   ]
  },
  {
   "cell_type": "markdown",
   "id": "dd9242a7-6391-44bb-ae2a-3346b4327e57",
   "metadata": {},
   "source": [
    "read_excel() function is used to read excel file \n",
    "pd.read_excel('demo.excel')"
   ]
  },
  {
   "cell_type": "code",
   "execution_count": null,
   "id": "d7d9e551-e1f7-4020-9065-cdebb11258d6",
   "metadata": {},
   "outputs": [],
   "source": []
  },
  {
   "cell_type": "markdown",
   "id": "ef5ee80e-e4a9-43a4-9366-aa5b763b30bf",
   "metadata": {},
   "source": [
    "Q7. You have a Pandas DataFrame df that contains a column named 'Email' that contains email\n",
    "addresses in the format 'username@domain.com'. Write a Python function that creates a new column\n",
    "'Username' in df that contains only the username part of each email address."
   ]
  },
  {
   "cell_type": "code",
   "execution_count": 121,
   "id": "843daa7d-84f1-49f7-8de2-00ae79866f1c",
   "metadata": {},
   "outputs": [],
   "source": [
    "def userName(df):\n",
    "    user=[]\n",
    "    for ind,j in enumerate(df['email']):\n",
    "        mail=j\n",
    "        name=\"\"\n",
    "        \n",
    "        for i in mail:\n",
    "            if i=='@':\n",
    "                break\n",
    "            name+=i\n",
    "        user.append(name)\n",
    "    df['user']=user\n",
    "        \n",
    "    \n",
    "    "
   ]
  },
  {
   "cell_type": "code",
   "execution_count": 123,
   "id": "64524af1-f959-490f-99d1-d7e7ed367c09",
   "metadata": {},
   "outputs": [],
   "source": [
    "df=pd.DataFrame({\"email\":[\"amish@gmail.com\",\"sudh@gmail.com\",\"raj@gmail.com\"]})"
   ]
  },
  {
   "cell_type": "code",
   "execution_count": 124,
   "id": "00a4aeb5-9e63-483f-ac4c-3a74316d709e",
   "metadata": {},
   "outputs": [],
   "source": [
    "userName(df)"
   ]
  },
  {
   "cell_type": "code",
   "execution_count": 125,
   "id": "4868c15f-ae7b-4596-88b9-546020668e2c",
   "metadata": {},
   "outputs": [
    {
     "data": {
      "text/html": [
       "<div>\n",
       "<style scoped>\n",
       "    .dataframe tbody tr th:only-of-type {\n",
       "        vertical-align: middle;\n",
       "    }\n",
       "\n",
       "    .dataframe tbody tr th {\n",
       "        vertical-align: top;\n",
       "    }\n",
       "\n",
       "    .dataframe thead th {\n",
       "        text-align: right;\n",
       "    }\n",
       "</style>\n",
       "<table border=\"1\" class=\"dataframe\">\n",
       "  <thead>\n",
       "    <tr style=\"text-align: right;\">\n",
       "      <th></th>\n",
       "      <th>email</th>\n",
       "      <th>user</th>\n",
       "    </tr>\n",
       "  </thead>\n",
       "  <tbody>\n",
       "    <tr>\n",
       "      <th>0</th>\n",
       "      <td>amish@gmail.com</td>\n",
       "      <td>amish</td>\n",
       "    </tr>\n",
       "    <tr>\n",
       "      <th>1</th>\n",
       "      <td>sudh@gmail.com</td>\n",
       "      <td>sudh</td>\n",
       "    </tr>\n",
       "    <tr>\n",
       "      <th>2</th>\n",
       "      <td>raj@gmail.com</td>\n",
       "      <td>raj</td>\n",
       "    </tr>\n",
       "  </tbody>\n",
       "</table>\n",
       "</div>"
      ],
      "text/plain": [
       "             email   user\n",
       "0  amish@gmail.com  amish\n",
       "1   sudh@gmail.com   sudh\n",
       "2    raj@gmail.com    raj"
      ]
     },
     "execution_count": 125,
     "metadata": {},
     "output_type": "execute_result"
    }
   ],
   "source": [
    "df"
   ]
  },
  {
   "cell_type": "code",
   "execution_count": 126,
   "id": "8369e04e-37bf-4337-90e1-0e4df73cb319",
   "metadata": {},
   "outputs": [],
   "source": [
    "def extract_username(email):\n",
    "    return email.split('@')[0]\n",
    "\n",
    "df['Username'] = df['email'].apply(extract_username)"
   ]
  },
  {
   "cell_type": "code",
   "execution_count": 127,
   "id": "7e530edd-8fb2-48d0-a1ff-ed079d29681c",
   "metadata": {},
   "outputs": [
    {
     "data": {
      "text/html": [
       "<div>\n",
       "<style scoped>\n",
       "    .dataframe tbody tr th:only-of-type {\n",
       "        vertical-align: middle;\n",
       "    }\n",
       "\n",
       "    .dataframe tbody tr th {\n",
       "        vertical-align: top;\n",
       "    }\n",
       "\n",
       "    .dataframe thead th {\n",
       "        text-align: right;\n",
       "    }\n",
       "</style>\n",
       "<table border=\"1\" class=\"dataframe\">\n",
       "  <thead>\n",
       "    <tr style=\"text-align: right;\">\n",
       "      <th></th>\n",
       "      <th>email</th>\n",
       "      <th>user</th>\n",
       "      <th>Username</th>\n",
       "    </tr>\n",
       "  </thead>\n",
       "  <tbody>\n",
       "    <tr>\n",
       "      <th>0</th>\n",
       "      <td>amish@gmail.com</td>\n",
       "      <td>amish</td>\n",
       "      <td>amish</td>\n",
       "    </tr>\n",
       "    <tr>\n",
       "      <th>1</th>\n",
       "      <td>sudh@gmail.com</td>\n",
       "      <td>sudh</td>\n",
       "      <td>sudh</td>\n",
       "    </tr>\n",
       "    <tr>\n",
       "      <th>2</th>\n",
       "      <td>raj@gmail.com</td>\n",
       "      <td>raj</td>\n",
       "      <td>raj</td>\n",
       "    </tr>\n",
       "  </tbody>\n",
       "</table>\n",
       "</div>"
      ],
      "text/plain": [
       "             email   user Username\n",
       "0  amish@gmail.com  amish    amish\n",
       "1   sudh@gmail.com   sudh     sudh\n",
       "2    raj@gmail.com    raj      raj"
      ]
     },
     "execution_count": 127,
     "metadata": {},
     "output_type": "execute_result"
    }
   ],
   "source": [
    "df"
   ]
  },
  {
   "cell_type": "code",
   "execution_count": null,
   "id": "e1f2fe30-58c3-4ca7-bfc6-c00f04c84b4b",
   "metadata": {},
   "outputs": [],
   "source": []
  },
  {
   "cell_type": "markdown",
   "id": "d3a87fdc-756a-487e-8a79-42ba1bb4bdc3",
   "metadata": {},
   "source": [
    "Q8. You have a Pandas DataFrame df with columns 'A', 'B', and 'C'. Write a Python function that selects\n",
    "all rows where the value in column 'A' is greater than 5 and the value in column 'B' is less than 10. The\n",
    "function should return a new DataFrame that contains only the selected rows."
   ]
  },
  {
   "cell_type": "code",
   "execution_count": 129,
   "id": "0a404e13-6905-4ebd-88bf-12e998c1ad26",
   "metadata": {},
   "outputs": [],
   "source": [
    "data={\n",
    "   \"A\":[3,8,6,2,9],\n",
    "    \"B\" : [5,2,9,3,1],\n",
    "    \"c\" : [1,7,4,5,2]\n",
    "}"
   ]
  },
  {
   "cell_type": "code",
   "execution_count": 130,
   "id": "0b65106a-db04-4269-bb1f-1e96fccfb759",
   "metadata": {},
   "outputs": [],
   "source": [
    "df=pd.DataFrame(data)"
   ]
  },
  {
   "cell_type": "code",
   "execution_count": 146,
   "id": "8cf7c334-afa7-4b1b-905d-8e632ee19df1",
   "metadata": {},
   "outputs": [],
   "source": [
    "def select_row(df):\n",
    "    selected_rows=df[(df[\"A\"] > 5) & (df[\"B\"] < 10)]\n",
    "    return pd.DataFrame( selected_rows)"
   ]
  },
  {
   "cell_type": "code",
   "execution_count": 148,
   "id": "c2f97ba0-e9b2-44b2-a022-9ade96e2bed2",
   "metadata": {},
   "outputs": [],
   "source": [
    "df2=select_row(df)"
   ]
  },
  {
   "cell_type": "code",
   "execution_count": 149,
   "id": "571c4007-9d7b-402c-ada3-f6acb6cbb11c",
   "metadata": {},
   "outputs": [
    {
     "data": {
      "text/html": [
       "<div>\n",
       "<style scoped>\n",
       "    .dataframe tbody tr th:only-of-type {\n",
       "        vertical-align: middle;\n",
       "    }\n",
       "\n",
       "    .dataframe tbody tr th {\n",
       "        vertical-align: top;\n",
       "    }\n",
       "\n",
       "    .dataframe thead th {\n",
       "        text-align: right;\n",
       "    }\n",
       "</style>\n",
       "<table border=\"1\" class=\"dataframe\">\n",
       "  <thead>\n",
       "    <tr style=\"text-align: right;\">\n",
       "      <th></th>\n",
       "      <th>A</th>\n",
       "      <th>B</th>\n",
       "      <th>c</th>\n",
       "    </tr>\n",
       "  </thead>\n",
       "  <tbody>\n",
       "    <tr>\n",
       "      <th>1</th>\n",
       "      <td>8</td>\n",
       "      <td>2</td>\n",
       "      <td>7</td>\n",
       "    </tr>\n",
       "    <tr>\n",
       "      <th>2</th>\n",
       "      <td>6</td>\n",
       "      <td>9</td>\n",
       "      <td>4</td>\n",
       "    </tr>\n",
       "    <tr>\n",
       "      <th>4</th>\n",
       "      <td>9</td>\n",
       "      <td>1</td>\n",
       "      <td>2</td>\n",
       "    </tr>\n",
       "  </tbody>\n",
       "</table>\n",
       "</div>"
      ],
      "text/plain": [
       "   A  B  c\n",
       "1  8  2  7\n",
       "2  6  9  4\n",
       "4  9  1  2"
      ]
     },
     "execution_count": 149,
     "metadata": {},
     "output_type": "execute_result"
    }
   ],
   "source": [
    "df2"
   ]
  },
  {
   "cell_type": "code",
   "execution_count": null,
   "id": "3a185fef-5376-4621-8b12-943bf3f22864",
   "metadata": {},
   "outputs": [],
   "source": []
  },
  {
   "cell_type": "markdown",
   "id": "3a0e557e-5b09-4c27-9634-0b4ea9b0356f",
   "metadata": {},
   "source": [
    "Q9. Given a Pandas DataFrame df with a column 'Values', write a Python function to calculate the mean,\n",
    "median, and standard deviation of the values in the 'Values' column."
   ]
  },
  {
   "cell_type": "code",
   "execution_count": 151,
   "id": "0c002bad-5471-47af-9d10-7ab3286502f6",
   "metadata": {},
   "outputs": [],
   "source": [
    "df=pd.DataFrame({\"values\":[2,3,4,5,2,6,8,4]})"
   ]
  },
  {
   "cell_type": "code",
   "execution_count": 153,
   "id": "5a716499-fd19-4543-b4b5-7b08b9bddbfc",
   "metadata": {},
   "outputs": [],
   "source": [
    "def statesticle_operation(df):\n",
    "    return {\"mean\": df['values'].mean(),\n",
    "            \"median\": df['values'].median(),\n",
    "            \"sd\": df['values'].std()}"
   ]
  },
  {
   "cell_type": "code",
   "execution_count": 154,
   "id": "ada5397b-b9b7-4739-905d-9d756d8c4042",
   "metadata": {},
   "outputs": [
    {
     "data": {
      "text/plain": [
       "{'mean': 4.25, 'median': 4.0, 'sd': 2.052872551885702}"
      ]
     },
     "execution_count": 154,
     "metadata": {},
     "output_type": "execute_result"
    }
   ],
   "source": [
    "statesticle_operation(df)"
   ]
  },
  {
   "cell_type": "code",
   "execution_count": null,
   "id": "c9c750ac-ae15-4bdb-a4d1-c0b9fa26d69c",
   "metadata": {},
   "outputs": [],
   "source": []
  },
  {
   "cell_type": "markdown",
   "id": "f70e383c-024f-4823-9bff-f7593a0ac0cf",
   "metadata": {},
   "source": [
    "Q10. Given a Pandas DataFrame df with a column 'Sales' and a column 'Date', write a Python function to\n",
    "create a new column 'MovingAverage' that contains the moving average of the sales for the past 7 days\n",
    "for each row in the DataFrame. The moving average should be calculated using a window of size 7 and\n",
    "should include the current day."
   ]
  },
  {
   "cell_type": "code",
   "execution_count": 155,
   "id": "cf0276b9-1f52-4584-aa06-4b9000040bc6",
   "metadata": {},
   "outputs": [],
   "source": [
    "import pandas as pd\n",
    "\n",
    "df=pd.DataFrame({\"Sales\": [10000,45000,34000,4000,30000,23000,11000], \"date\":[\"2023-05-1\",\"2023-06-1\",\"2023-07-1\",\"2023-08-1\",\"2023-09-1\",\"2023-10-1\",\"2023-11-1\",]  })\n",
    "\n",
    "def add_moving_average(df):\n",
    "    df['MovingAverage'] = df['Sales'].rolling(window=7, min_periods=1).mean()\n",
    "    \n"
   ]
  },
  {
   "cell_type": "code",
   "execution_count": 157,
   "id": "de9dad06-cde1-472f-af08-e6498ab659b5",
   "metadata": {},
   "outputs": [
    {
     "data": {
      "text/html": [
       "<div>\n",
       "<style scoped>\n",
       "    .dataframe tbody tr th:only-of-type {\n",
       "        vertical-align: middle;\n",
       "    }\n",
       "\n",
       "    .dataframe tbody tr th {\n",
       "        vertical-align: top;\n",
       "    }\n",
       "\n",
       "    .dataframe thead th {\n",
       "        text-align: right;\n",
       "    }\n",
       "</style>\n",
       "<table border=\"1\" class=\"dataframe\">\n",
       "  <thead>\n",
       "    <tr style=\"text-align: right;\">\n",
       "      <th></th>\n",
       "      <th>Sales</th>\n",
       "      <th>date</th>\n",
       "      <th>MovingAverage</th>\n",
       "    </tr>\n",
       "  </thead>\n",
       "  <tbody>\n",
       "    <tr>\n",
       "      <th>0</th>\n",
       "      <td>10000</td>\n",
       "      <td>2023-05-1</td>\n",
       "      <td>10000.000000</td>\n",
       "    </tr>\n",
       "    <tr>\n",
       "      <th>1</th>\n",
       "      <td>45000</td>\n",
       "      <td>2023-06-1</td>\n",
       "      <td>27500.000000</td>\n",
       "    </tr>\n",
       "    <tr>\n",
       "      <th>2</th>\n",
       "      <td>34000</td>\n",
       "      <td>2023-07-1</td>\n",
       "      <td>29666.666667</td>\n",
       "    </tr>\n",
       "    <tr>\n",
       "      <th>3</th>\n",
       "      <td>4000</td>\n",
       "      <td>2023-08-1</td>\n",
       "      <td>23250.000000</td>\n",
       "    </tr>\n",
       "    <tr>\n",
       "      <th>4</th>\n",
       "      <td>30000</td>\n",
       "      <td>2023-09-1</td>\n",
       "      <td>24600.000000</td>\n",
       "    </tr>\n",
       "    <tr>\n",
       "      <th>5</th>\n",
       "      <td>23000</td>\n",
       "      <td>2023-10-1</td>\n",
       "      <td>24333.333333</td>\n",
       "    </tr>\n",
       "    <tr>\n",
       "      <th>6</th>\n",
       "      <td>11000</td>\n",
       "      <td>2023-11-1</td>\n",
       "      <td>22428.571429</td>\n",
       "    </tr>\n",
       "  </tbody>\n",
       "</table>\n",
       "</div>"
      ],
      "text/plain": [
       "   Sales       date  MovingAverage\n",
       "0  10000  2023-05-1   10000.000000\n",
       "1  45000  2023-06-1   27500.000000\n",
       "2  34000  2023-07-1   29666.666667\n",
       "3   4000  2023-08-1   23250.000000\n",
       "4  30000  2023-09-1   24600.000000\n",
       "5  23000  2023-10-1   24333.333333\n",
       "6  11000  2023-11-1   22428.571429"
      ]
     },
     "execution_count": 157,
     "metadata": {},
     "output_type": "execute_result"
    }
   ],
   "source": [
    "df"
   ]
  },
  {
   "cell_type": "code",
   "execution_count": null,
   "id": "e3a7fafd-1462-4f38-bf4f-1adea4bfcb18",
   "metadata": {},
   "outputs": [],
   "source": []
  },
  {
   "cell_type": "markdown",
   "id": "1b620bba-9481-409f-9696-a7afd47ff005",
   "metadata": {},
   "source": [
    "Q11. You have a Pandas DataFrame df with a column 'Date'. Write a Python function that creates a new\n",
    "column 'Weekday' in the DataFrame. The 'Weekday' column should contain the weekday name (e.g.\n",
    "Monday, Tuesday) corresponding to each date in the 'Date' column."
   ]
  },
  {
   "cell_type": "code",
   "execution_count": 174,
   "id": "82fd2d62-7751-4e60-b528-90482d83f1ed",
   "metadata": {},
   "outputs": [],
   "source": [
    "df=pd.DataFrame( pd.date_range(start=\"2023-01-01\",end=\"2023-01-05\"))"
   ]
  },
  {
   "cell_type": "code",
   "execution_count": 178,
   "id": "83865e4f-4715-4c2c-aba5-028886594d5e",
   "metadata": {},
   "outputs": [],
   "source": [
    "df[\"Weekday\"]=df[0].dt.day_name()"
   ]
  },
  {
   "cell_type": "code",
   "execution_count": 179,
   "id": "811abe18-d075-4904-9d78-eb281943695e",
   "metadata": {},
   "outputs": [
    {
     "data": {
      "text/html": [
       "<div>\n",
       "<style scoped>\n",
       "    .dataframe tbody tr th:only-of-type {\n",
       "        vertical-align: middle;\n",
       "    }\n",
       "\n",
       "    .dataframe tbody tr th {\n",
       "        vertical-align: top;\n",
       "    }\n",
       "\n",
       "    .dataframe thead th {\n",
       "        text-align: right;\n",
       "    }\n",
       "</style>\n",
       "<table border=\"1\" class=\"dataframe\">\n",
       "  <thead>\n",
       "    <tr style=\"text-align: right;\">\n",
       "      <th></th>\n",
       "      <th>0</th>\n",
       "      <th>Weekday</th>\n",
       "    </tr>\n",
       "  </thead>\n",
       "  <tbody>\n",
       "    <tr>\n",
       "      <th>0</th>\n",
       "      <td>2023-01-01</td>\n",
       "      <td>Sunday</td>\n",
       "    </tr>\n",
       "    <tr>\n",
       "      <th>1</th>\n",
       "      <td>2023-01-02</td>\n",
       "      <td>Monday</td>\n",
       "    </tr>\n",
       "    <tr>\n",
       "      <th>2</th>\n",
       "      <td>2023-01-03</td>\n",
       "      <td>Tuesday</td>\n",
       "    </tr>\n",
       "    <tr>\n",
       "      <th>3</th>\n",
       "      <td>2023-01-04</td>\n",
       "      <td>Wednesday</td>\n",
       "    </tr>\n",
       "    <tr>\n",
       "      <th>4</th>\n",
       "      <td>2023-01-05</td>\n",
       "      <td>Thursday</td>\n",
       "    </tr>\n",
       "  </tbody>\n",
       "</table>\n",
       "</div>"
      ],
      "text/plain": [
       "           0    Weekday\n",
       "0 2023-01-01     Sunday\n",
       "1 2023-01-02     Monday\n",
       "2 2023-01-03    Tuesday\n",
       "3 2023-01-04  Wednesday\n",
       "4 2023-01-05   Thursday"
      ]
     },
     "execution_count": 179,
     "metadata": {},
     "output_type": "execute_result"
    }
   ],
   "source": [
    "df"
   ]
  },
  {
   "cell_type": "code",
   "execution_count": null,
   "id": "adf875ef-417d-4498-8a1c-513b1f444934",
   "metadata": {},
   "outputs": [],
   "source": []
  },
  {
   "cell_type": "markdown",
   "id": "246e320c-5a9c-4913-8116-fc330c02607b",
   "metadata": {},
   "source": [
    "Q12. Given a Pandas DataFrame df with a column 'Date' that contains timestamps, write a Python\n",
    "function to select all rows where the date is between '2023-01-01' and '2023-01-31'."
   ]
  },
  {
   "cell_type": "code",
   "execution_count": 182,
   "id": "d77e5db1-c8e8-4ef7-bd3b-e069a687c6ae",
   "metadata": {},
   "outputs": [],
   "source": [
    "df=pd.DataFrame({\"Sales\": [10000,45000,34000,4000,30000,23000,11000], \"date\":[\"2023-01-1\",\"2023-06-1\",\"2023-07-1\",\"2023-01-12\",\"2023-09-1\",\"2023-10-1\",\"2023-1-30\",]  })\n"
   ]
  },
  {
   "cell_type": "code",
   "execution_count": 183,
   "id": "5b4609f2-4368-4028-a57b-540098e7d88c",
   "metadata": {},
   "outputs": [],
   "source": [
    "import pandas as pd\n",
    "\n",
    "def select_rows_between_dates(df):\n",
    "    # convert the 'Date' column to datetime\n",
    "    df['Date'] = pd.to_datetime(df['date'])\n",
    "\n",
    "    # select rows where the date is between '2023-01-01' and '2023-01-31'\n",
    "    mask = (df['Date'] >= '2023-01-01') & (df['Date'] <= '2023-01-31')\n",
    "    selected_rows = df.loc[mask]\n",
    "\n",
    "    return selected_rows"
   ]
  },
  {
   "cell_type": "code",
   "execution_count": 184,
   "id": "f3a74693-f786-422f-b175-5e130a79e14a",
   "metadata": {},
   "outputs": [
    {
     "data": {
      "text/html": [
       "<div>\n",
       "<style scoped>\n",
       "    .dataframe tbody tr th:only-of-type {\n",
       "        vertical-align: middle;\n",
       "    }\n",
       "\n",
       "    .dataframe tbody tr th {\n",
       "        vertical-align: top;\n",
       "    }\n",
       "\n",
       "    .dataframe thead th {\n",
       "        text-align: right;\n",
       "    }\n",
       "</style>\n",
       "<table border=\"1\" class=\"dataframe\">\n",
       "  <thead>\n",
       "    <tr style=\"text-align: right;\">\n",
       "      <th></th>\n",
       "      <th>Sales</th>\n",
       "      <th>date</th>\n",
       "      <th>Date</th>\n",
       "    </tr>\n",
       "  </thead>\n",
       "  <tbody>\n",
       "    <tr>\n",
       "      <th>0</th>\n",
       "      <td>10000</td>\n",
       "      <td>2023-01-1</td>\n",
       "      <td>2023-01-01</td>\n",
       "    </tr>\n",
       "    <tr>\n",
       "      <th>3</th>\n",
       "      <td>4000</td>\n",
       "      <td>2023-01-12</td>\n",
       "      <td>2023-01-12</td>\n",
       "    </tr>\n",
       "    <tr>\n",
       "      <th>6</th>\n",
       "      <td>11000</td>\n",
       "      <td>2023-1-30</td>\n",
       "      <td>2023-01-30</td>\n",
       "    </tr>\n",
       "  </tbody>\n",
       "</table>\n",
       "</div>"
      ],
      "text/plain": [
       "   Sales        date       Date\n",
       "0  10000   2023-01-1 2023-01-01\n",
       "3   4000  2023-01-12 2023-01-12\n",
       "6  11000   2023-1-30 2023-01-30"
      ]
     },
     "execution_count": 184,
     "metadata": {},
     "output_type": "execute_result"
    }
   ],
   "source": [
    "select_rows_between_dates(df)"
   ]
  },
  {
   "cell_type": "code",
   "execution_count": null,
   "id": "693528c7-c2ef-4c6a-b152-ec4cefc823d3",
   "metadata": {},
   "outputs": [],
   "source": []
  },
  {
   "cell_type": "code",
   "execution_count": null,
   "id": "94abb9e2-2b11-4f19-97cb-5e4b75827495",
   "metadata": {},
   "outputs": [],
   "source": []
  }
 ],
 "metadata": {
  "kernelspec": {
   "display_name": "Python 3 (ipykernel)",
   "language": "python",
   "name": "python3"
  },
  "language_info": {
   "codemirror_mode": {
    "name": "ipython",
    "version": 3
   },
   "file_extension": ".py",
   "mimetype": "text/x-python",
   "name": "python",
   "nbconvert_exporter": "python",
   "pygments_lexer": "ipython3",
   "version": "3.10.8"
  }
 },
 "nbformat": 4,
 "nbformat_minor": 5
}
