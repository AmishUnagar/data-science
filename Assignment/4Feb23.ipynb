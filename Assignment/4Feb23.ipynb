{
 "cells": [
  {
   "cell_type": "markdown",
   "id": "f53da9c7-695d-4adc-8aad-22fdfd6a37c5",
   "metadata": {},
   "source": [
    "Q1. Create a python program to sort the given list of tuples based on integer value using a\n",
    "lambda function."
   ]
  },
  {
   "cell_type": "code",
   "execution_count": 2,
   "id": "66f59aa5-332e-4883-aa0e-78a87064bf68",
   "metadata": {},
   "outputs": [
    {
     "name": "stdout",
     "output_type": "stream",
     "text": [
      "[('Jack Kallis', 25534), ('Ricky Ponting', 27483), ('Sachin Tendulkar', 34357), ('Virat Kohli', 24936)]\n"
     ]
    }
   ],
   "source": [
    "lst = [('Sachin Tendulkar', 34357), ('Ricky Ponting', 27483), ('Jack Kallis', 25534), ('Virat Kohli', 24936)]\n",
    "sorted_lst = sorted(lst, key=lambda x: x[0])\n",
    "print(sorted_lst)"
   ]
  },
  {
   "cell_type": "markdown",
   "id": "53b77e06-412d-45e9-b8dc-f2e205496498",
   "metadata": {},
   "source": [
    "Q2. Write a Python Program to find the squares of all the numbers in the given list of integers using\n",
    "lambda and map functions."
   ]
  },
  {
   "cell_type": "code",
   "execution_count": 11,
   "id": "39fdbc56-f2de-4bfb-b085-2671774fc521",
   "metadata": {},
   "outputs": [
    {
     "data": {
      "text/plain": [
       "[1, 4, 9, 16, 25, 36, 49, 64, 81, 100]"
      ]
     },
     "execution_count": 11,
     "metadata": {},
     "output_type": "execute_result"
    }
   ],
   "source": [
    "l=[1,2,3,4,5,6,7,8,9,10]\n",
    "sqr = lambda x: x**2\n",
    "sr = list(map(sqr,l))\n",
    "sr"
   ]
  },
  {
   "cell_type": "markdown",
   "id": "61e178e3-0407-4865-b588-943b27e0d785",
   "metadata": {},
   "source": [
    "Q3. Write a python program to convert the given list of integers into a tuple of strings. Use map and lambda functions\n"
   ]
  },
  {
   "cell_type": "code",
   "execution_count": 13,
   "id": "bf71e3fb-4a04-479b-992c-c1dbf3d41463",
   "metadata": {},
   "outputs": [
    {
     "name": "stdout",
     "output_type": "stream",
     "text": [
      "('1', '2', '3', '4', '5', '6', '7', '8', '9', '10')\n"
     ]
    }
   ],
   "source": [
    "l=[1, 2, 3, 4, 5, 6, 7, 8, 9, 10]\n",
    "st = lambda x : str(x)\n",
    "tpl=tuple(map(st,l))\n",
    "print(tpl)"
   ]
  },
  {
   "cell_type": "markdown",
   "id": "3f0cff35-40c6-4fd1-9e8d-a4390dadd60e",
   "metadata": {},
   "source": [
    "Q4. Write a python program using reduce function to compute the product of a list containing numbers\n",
    "from 1 to 25."
   ]
  },
  {
   "cell_type": "code",
   "execution_count": 17,
   "id": "03726e27-fef4-4ae8-9750-4c3a81d37bb1",
   "metadata": {},
   "outputs": [
    {
     "data": {
      "text/plain": [
       "15511210043330985984000000"
      ]
     },
     "execution_count": 17,
     "metadata": {},
     "output_type": "execute_result"
    }
   ],
   "source": [
    "from functools import reduce\n",
    "l=[ i for i in range(1,26)]\n",
    "pr = reduce(lambda x,y:x*y,l)\n",
    "pr"
   ]
  },
  {
   "cell_type": "markdown",
   "id": "4f02f4ac-f06a-4195-8834-a14828b5dddc",
   "metadata": {},
   "source": [
    "Q5. Write a python program to filter the numbers in a given list that are divisible by 2 and 3 using the filter function."
   ]
  },
  {
   "cell_type": "code",
   "execution_count": 20,
   "id": "860a39f4-023e-4b2a-ad6c-50b6f0bea1ce",
   "metadata": {},
   "outputs": [
    {
     "data": {
      "text/plain": [
       "[6, 60, 90, 120]"
      ]
     },
     "execution_count": 20,
     "metadata": {},
     "output_type": "execute_result"
    }
   ],
   "source": [
    "l=[2, 3, 6, 9, 27, 60, 90, 120, 55, 46]\n",
    "def divid(x):\n",
    "    if x%2==0 and x%3==0:\n",
    "        return x\n",
    "\n",
    "tt = list(filter(divid,l))\n",
    "tt"
   ]
  },
  {
   "cell_type": "markdown",
   "id": "0ca420be-1537-49fc-ba12-c92ba87ea34c",
   "metadata": {},
   "source": [
    "Q6. Write a python program to find palindromes in the given list of strings using lambda and filter function."
   ]
  },
  {
   "cell_type": "code",
   "execution_count": 25,
   "id": "63e40ef0-854e-4b9f-9222-bd17e70f4144",
   "metadata": {},
   "outputs": [
    {
     "data": {
      "text/plain": [
       "['php', 'aba', 'radar', 'level']"
      ]
     },
     "execution_count": 25,
     "metadata": {},
     "output_type": "execute_result"
    }
   ],
   "source": [
    "l=['python', 'php', 'aba', 'radar', 'level']\n",
    "ans = list(filter(lambda x: x==x[::-1],l))\n",
    "ans"
   ]
  },
  {
   "cell_type": "code",
   "execution_count": null,
   "id": "d41323c6-1c30-45d9-a1ca-38742f175c50",
   "metadata": {},
   "outputs": [],
   "source": []
  }
 ],
 "metadata": {
  "kernelspec": {
   "display_name": "Python 3 (ipykernel)",
   "language": "python",
   "name": "python3"
  },
  "language_info": {
   "codemirror_mode": {
    "name": "ipython",
    "version": 3
   },
   "file_extension": ".py",
   "mimetype": "text/x-python",
   "name": "python",
   "nbconvert_exporter": "python",
   "pygments_lexer": "ipython3",
   "version": "3.10.8"
  }
 },
 "nbformat": 4,
 "nbformat_minor": 5
}
