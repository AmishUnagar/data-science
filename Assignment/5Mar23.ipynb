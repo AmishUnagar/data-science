{
 "cells": [
  {
   "cell_type": "markdown",
   "id": "fb69a36b-4be7-4ae1-8cd6-c420121bd8ca",
   "metadata": {},
   "source": [
    "Q1. How can you create a Bokeh plot using Python code?"
   ]
  },
  {
   "cell_type": "markdown",
   "id": "cc27d235-3699-4637-9e4c-3945594282f1",
   "metadata": {},
   "source": [
    "To create a Bokeh plot using Python, you can follow these steps:\n",
    "\n",
    "1. Import the necessary modules:\n",
    "\n",
    "from bokeh.plotting import figure, show  \n",
    "\n",
    "from bokeh.io import output_notebook\n",
    "\n",
    "2. Prepare the data for your plot. For example:\n",
    "\n",
    "x = [1, 2, 3, 4, 5]\n",
    "y = [6, 7, 2, 4, 5]\n",
    "\n",
    "3. Initialize a figure object:\n",
    "\n",
    "p = figure(title='My Bokeh Plot', x_axis_label='X-axis', y_axis_label='Y-axis')\n",
    "\n",
    "4. Add glyphs (markers or lines) to the figure:\n",
    "\n",
    "p.circle(x, y, size=10, color='blue')\n",
    "\n",
    "5. Show the plot:\n",
    "\n",
    "output_notebook()  # If using a Jupyter notebook\n",
    "show(p)\n",
    "\n"
   ]
  },
  {
   "cell_type": "code",
   "execution_count": null,
   "id": "93c501c8-f7f6-43c7-a14c-b94a3a740429",
   "metadata": {},
   "outputs": [],
   "source": []
  },
  {
   "cell_type": "markdown",
   "id": "50275507-e2bb-46da-a2d2-d53ec6223e47",
   "metadata": {},
   "source": [
    "Q2. What are glyphs in Bokeh, and how can you add them to a Bokeh plot? Explain with an example."
   ]
  },
  {
   "cell_type": "markdown",
   "id": "f26602c7-ff1c-4178-aaeb-1688c1a2cc02",
   "metadata": {},
   "source": [
    "In Bokeh, glyphs are visual markers or shapes used to represent data points in a plot. They can be added to a Bokeh plot to display data in various forms such as circles, squares, lines, bars, etc.\n",
    "\n",
    "To add glyphs to a Bokeh plot, you need to use the appropriate glyph function provided by Bokeh's figure class. Here's an example of adding glyphs to a Bokeh plot:\n",
    "\n",
    "python\n"
   ]
  },
  {
   "cell_type": "code",
   "execution_count": null,
   "id": "1f63df3b-899d-497a-ba6f-de125ec5b28b",
   "metadata": {},
   "outputs": [],
   "source": [
    "from bokeh.plotting import figure, show\n",
    "from bokeh.io import output_notebook\n",
    "\n",
    "# Prepare the data\n",
    "x = [1, 2, 3, 4, 5]\n",
    "y = [6, 7, 2, 4, 5]\n",
    "\n",
    "# Initialize a figure object\n",
    "p = figure(title='My Bokeh Plot', x_axis_label='X-axis', y_axis_label='Y-axis')\n",
    "\n",
    "# Add glyphs to the figure\n",
    "p.circle(x, y, size=10, color='blue')\n",
    "p.line(x, y, line_width=2, color='red')\n",
    "\n",
    "# Show the plot\n",
    "output_notebook()  # If using a Jupyter notebook\n",
    "show(p)\n"
   ]
  },
  {
   "cell_type": "code",
   "execution_count": null,
   "id": "f8406c0a-c6db-4738-83dc-1381ef688f4d",
   "metadata": {},
   "outputs": [],
   "source": []
  },
  {
   "cell_type": "markdown",
   "id": "e6ab716d-14c7-4483-8255-2a8080beb71a",
   "metadata": {},
   "source": [
    "Q3. How can you customize the appearance of a Bokeh plot, including the axes, title, and legend?"
   ]
  },
  {
   "cell_type": "markdown",
   "id": "c50a4552-0a39-46b8-8f7a-0656c47fab9a",
   "metadata": {},
   "source": [
    "To customize the appearance of a Bokeh plot, including the axes, title, and legend, you can use various properties and methods provided by Bokeh. Here's how you can customize these elements:\n"
   ]
  },
  {
   "cell_type": "code",
   "execution_count": null,
   "id": "7a74d1bc-7bd0-4f0d-9513-1c3e56d88540",
   "metadata": {},
   "outputs": [],
   "source": [
    "p.title.text = \"My Bokeh Plot\"\n",
    "p.xaxis.axis_label = \"X-axis\"\n",
    "p.yaxis.axis_label = \"Y-axis\"\n",
    "p.circle(x, y, size=10, color='blue', legend_label=\"Data Points\")\n",
    "p.line(x, y, line_width=2, color='red', legend_label=\"Line\")\n",
    "p.legend.title = 'Legend'\n",
    "p.legend.location = \"top_right\""
   ]
  },
  {
   "cell_type": "code",
   "execution_count": null,
   "id": "4e3d9cf9-fd19-4ee9-8c97-9998a1d5fa36",
   "metadata": {},
   "outputs": [],
   "source": []
  },
  {
   "cell_type": "markdown",
   "id": "dd885156-3a2a-417f-be4a-fd33788efbbc",
   "metadata": {},
   "source": [
    "Q4. What is a Bokeh server, and how can you use it to create interactive plots that can be updated in\n",
    "real time?"
   ]
  },
  {
   "cell_type": "markdown",
   "id": "fca0e2a9-a7b3-49d5-8178-4bb463af9c8c",
   "metadata": {},
   "source": [
    "A Bokeh server is a Python server application that allows you to create and serve interactive Bokeh plots and applications. It enables the creation of dynamic and interactive visualizations that can be updated in real-time."
   ]
  },
  {
   "cell_type": "code",
   "execution_count": null,
   "id": "931d4f79-de0d-437b-9e90-96a195e88120",
   "metadata": {},
   "outputs": [],
   "source": [
    "from bokeh.plotting import figure, curdoc\n",
    "from bokeh.models import ColumnDataSource\n",
    "from bokeh.io import output_server\n",
    "\n",
    "x = [1, 2, 3, 4, 5]\n",
    "y = [6, 7, 2, 4, 5]\n",
    "source = ColumnDataSource(data=dict(x=x, y=y))\n",
    "\n",
    "p = figure(title='My Interactive Plot', x_axis_label='X-axis', y_axis_label='Y-axis')\n",
    "p.circle('x', 'y', source=source, size=10, color='blue')\n",
    "\n",
    "def update_data():\n",
    "    # Update or modify your data here\n",
    "    new_y = [8, 6, 4, 2, 0]\n",
    "    source.data = dict(x=x, y=new_y)\n",
    "\n",
    "    curdoc().add_periodic_callback(update_data, 1000)  # Calls the update_data function every 1000 milliseconds (1 second)\n",
    "\n",
    "    output_server('my_plot')\n",
    "show(p)\n"
   ]
  },
  {
   "cell_type": "code",
   "execution_count": null,
   "id": "d905ed6b-1337-45c8-9e69-70f7f7463269",
   "metadata": {},
   "outputs": [],
   "source": []
  },
  {
   "cell_type": "markdown",
   "id": "d8bf0edc-2893-41bf-839a-f9a935a68606",
   "metadata": {},
   "source": [
    "Q5. How can you embed a Bokeh plot into a web page or dashboard using Flask or Django?"
   ]
  },
  {
   "cell_type": "markdown",
   "id": "e165e8af-9064-452a-af0d-0eb76ddda545",
   "metadata": {},
   "source": [
    "To embed a Bokeh plot into a web page or dashboard using Flask or Django, you can follow these general steps:\n",
    "\n",
    "1. Generate the Bokeh plot using the standard Bokeh plotting functions, as explained in previous responses.\n",
    "2. Save the Bokeh plot as an HTML file using the save function instead of show\n",
    "3. In your Flask or Django application, create a route or view that renders the HTML file containing the Bokeh plot. For example, using Flask Here, the / route is defined, and the render_template function is used to render the HTML file bokeh_plot.html. Make sure to place the HTML file in the appropriate location within your Flask or Django project.\n",
    "4. Create the corresponding HTML template file (bokeh_plot.html) that will be rendered by Flask or Django. In this template file, you can include a placeholder element where the Bokeh plot will be displayed. \n",
    "5. Run your Flask or Django application, and access the route you defined (http://localhost:5000/ for Flask by default) to see the embedded Bokeh plot in the web page or dashboard.\n",
    "\n",
    "Note that the exact implementation may vary depending on the specific details of your Flask or Django application. You may need to adjust the code and file paths accordingly to match your project structure."
   ]
  },
  {
   "cell_type": "code",
   "execution_count": null,
   "id": "9e682506-5fc0-43cf-b687-b73df5d7f201",
   "metadata": {},
   "outputs": [],
   "source": []
  }
 ],
 "metadata": {
  "kernelspec": {
   "display_name": "Python 3 (ipykernel)",
   "language": "python",
   "name": "python3"
  },
  "language_info": {
   "codemirror_mode": {
    "name": "ipython",
    "version": 3
   },
   "file_extension": ".py",
   "mimetype": "text/x-python",
   "name": "python",
   "nbconvert_exporter": "python",
   "pygments_lexer": "ipython3",
   "version": "3.10.8"
  }
 },
 "nbformat": 4,
 "nbformat_minor": 5
}
