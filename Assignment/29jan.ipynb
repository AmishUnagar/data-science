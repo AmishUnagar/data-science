{
 "cells": [
  {
   "cell_type": "markdown",
   "id": "f24115ce-2864-4f84-906f-5a2b3b31bdfa",
   "metadata": {},
   "source": [
    "(1) Who Developed Python Programming Language?"
   ]
  },
  {
   "cell_type": "markdown",
   "id": "345dee13-c5f0-4853-86f8-a86a4fe27770",
   "metadata": {},
   "source": [
    "ANS: Python was created by Guido van Rossum, and first released on February 20, 1991. While you may know the python as a large snake, the name of the Python programming language comes from an old BBC television comedy sketch series called Monty Python's Flying Circus."
   ]
  },
  {
   "cell_type": "markdown",
   "id": "b3d2612f-6106-451c-a516-bf2eaa9f7384",
   "metadata": {},
   "source": [
    "(2) Which Type of Programming Does Python Support?"
   ]
  },
  {
   "cell_type": "markdown",
   "id": "c6cddaba-ad29-4466-a59e-5e0b4c82c8ad",
   "metadata": {},
   "source": [
    "Ans: Python is a multi-paradigm programming language. Object-oriented programming and structured programming are fully supported, and many of their features support functional programming and aspect-oriented programming (including metaprogramming and metaobjects)."
   ]
  },
  {
   "cell_type": "markdown",
   "id": "712bfc9f-0ff1-4dd9-a394-9b9b2a1dc5f3",
   "metadata": {},
   "source": [
    "(3) Is Python Case Sensitive When Dealing With Identifier?"
   ]
  },
  {
   "cell_type": "markdown",
   "id": "5c692314-3e79-4f2e-93c3-4afa8d57d6b2",
   "metadata": {},
   "source": [
    "Yes, Python is a case-sensitive language, i.e., it treats uppercase and lowercase characters differently. This applies to identifiers too. You must avoid using the same name with different cases while naming identifiers."
   ]
  },
  {
   "cell_type": "markdown",
   "id": "91a5916c-84d1-4a30-b185-080e8402206b",
   "metadata": {},
   "source": [
    "(4) what is the correct extension of the python files?"
   ]
  },
  {
   "cell_type": "markdown",
   "id": "1ac9f763-51d7-4247-9d62-7f08208931fb",
   "metadata": {},
   "source": [
    "Python is a widely used programming or coding language used for different purposes. The extensions for Python files are - .py, .pyi, .pyc, .pyd, .pyo, .pyw, and .pyz."
   ]
  },
  {
   "cell_type": "markdown",
   "id": "90529f42-b519-424a-9bbd-3f9469ca1c04",
   "metadata": {},
   "source": [
    "(5) is python code compiled or interpreted?"
   ]
  },
  {
   "cell_type": "markdown",
   "id": "b056d20d-b5f3-4d58-876b-61b061863c04",
   "metadata": {},
   "source": [
    "Python is an interpreted language, which means the source code of a Python program is converted into bytecode that is then executed by the Python virtual machine."
   ]
  },
  {
   "cell_type": "markdown",
   "id": "b537ebb4-3967-4898-b77f-6c0c41050915",
   "metadata": {},
   "source": [
    "(6) name a few blocks of code used to define in python language?"
   ]
  },
  {
   "cell_type": "markdown",
   "id": "0c197a36-0bad-4d1a-afa7-9cb1aa10d535",
   "metadata": {},
   "source": [
    "The following are blocks: a module, a function body, and a class definition. Each command typed interactively is a block."
   ]
  },
  {
   "cell_type": "markdown",
   "id": "6c0c87fe-ea0b-4260-821a-a04e329d3377",
   "metadata": {},
   "source": [
    "(7) state a character used to give single-line comments in python?"
   ]
  },
  {
   "cell_type": "markdown",
   "id": "5d7367a0-d366-4239-b4d0-eb071e5e73d7",
   "metadata": {},
   "source": [
    "Hash character(#) is used to comment the line in the Python program."
   ]
  },
  {
   "cell_type": "markdown",
   "id": "e7919797-7db6-4081-99f7-8839bd454abf",
   "metadata": {},
   "source": [
    "(8) mention function which can help us to find the version of python that we are currently working on?"
   ]
  },
  {
   "cell_type": "markdown",
   "id": "d8ed0c32-8477-48c6-b8ce-6bf3e3dee0b6",
   "metadata": {},
   "source": [
    "1) Using sys. version method.\n",
    "2) Using python_version() function.\n",
    "3) Using Python -V command."
   ]
  },
  {
   "cell_type": "markdown",
   "id": "8fb76200-f07e-43b8-9fd6-a8719f150a88",
   "metadata": {},
   "source": [
    "(9) python supports the creation of anonymous functions at runtime using a construct called ________."
   ]
  },
  {
   "cell_type": "markdown",
   "id": "3e68d02c-7812-4ecc-9eae-7ac5139f4b7e",
   "metadata": {},
   "source": [
    "Python supports to make anonymous functions which are not bound to a name(@ runtime). It uses a construct called \"lambda\" ."
   ]
  },
  {
   "cell_type": "markdown",
   "id": "3386f967-5618-488b-8f25-adb5d4e0df85",
   "metadata": {},
   "source": [
    "(10) what does pip stand for python?"
   ]
  },
  {
   "cell_type": "markdown",
   "id": "a24c4a98-cb55-4326-9816-cebd2960ed06",
   "metadata": {},
   "source": [
    " pip stands for \"pip Install Packages\" is today the standard tool for installing Python packages and their dependencies in a secure manner."
   ]
  },
  {
   "cell_type": "markdown",
   "id": "232b1865-c18f-460a-98c1-ea508572c725",
   "metadata": {},
   "source": [
    "(11) mention a few built-in functions in python?"
   ]
  },
  {
   "cell_type": "markdown",
   "id": "a1e1f3fb-25b7-4e2a-be9e-b9bdcd299e3a",
   "metadata": {},
   "source": [
    "print(),type(),len(),int(),str(),bool(),list(),set(),dict(),chr()"
   ]
  },
  {
   "cell_type": "markdown",
   "id": "464b3d82-7802-4250-950b-c3b69053a26f",
   "metadata": {},
   "source": [
    "(12) what is the maximum possible length of an identifier in python?"
   ]
  },
  {
   "cell_type": "markdown",
   "id": "69c55367-3313-4451-93e3-7a7cfada52b9",
   "metadata": {},
   "source": [
    "An identifier can have a maximum length of 79 characters in Python."
   ]
  },
  {
   "cell_type": "markdown",
   "id": "4a750abf-1921-4a5f-a934-5b44f7525cfe",
   "metadata": {},
   "source": [
    "(13) what are the benefits of using python?"
   ]
  },
  {
   "cell_type": "markdown",
   "id": "1db088a5-2df3-490c-ab42-7261b6168eb6",
   "metadata": {},
   "source": [
    "-> Data science.\n",
    "-> Scientific and mathematical computing.\n",
    "-> Web development.\n",
    "-> Finance and trading.\n",
    "-> System automation and administration.\n",
    "-> Computer graphics.\n",
    "-> Basic game development.\n",
    "-> Security and penetration testing."
   ]
  },
  {
   "cell_type": "markdown",
   "id": "33658d46-04e4-4e90-9721-ed3672613eb4",
   "metadata": {},
   "source": [
    "(14) how is memory managed in python?"
   ]
  },
  {
   "cell_type": "markdown",
   "id": "0dee23ae-8926-4631-9379-be3ba249cd60",
   "metadata": {},
   "source": [
    "Memory management in Python involves a private heap containing all Python objects and data structures. The management of this private heap is ensured internally by the Python memory manager."
   ]
  },
  {
   "cell_type": "markdown",
   "id": "8147f551-e736-4e4e-a800-5a7a3f32feca",
   "metadata": {},
   "source": [
    "(15) how to install python on windows and set path variable?"
   ]
  },
  {
   "cell_type": "markdown",
   "id": "b0327636-0b0b-4ffa-a194-3f346537c9d1",
   "metadata": {},
   "source": [
    "Install python from this link https://www.python.org/downloads/\n",
    "After this, install it on your PC. Look for the location where PYTHON has been installed on your PC using tge following command on your command prompt: cmd python.\n",
    "Then go to advanced system settings and add new variable and name it as PYTHON_NAME and paste the copied path.\n",
    "Then look for the path variable, select it's value and select edit\n",
    "Add a semicolon towards the end of the value if it's not present and then type %PYTHON_HOME%"
   ]
  },
  {
   "cell_type": "markdown",
   "id": "02e8d1c7-ac5c-44c5-a9d9-994f5f9f5e8d",
   "metadata": {},
   "source": [
    "(16) is indentation required in python?"
   ]
  },
  {
   "cell_type": "markdown",
   "id": "94acf110-0a8f-4aa6-a717-0ca2bd3f9e33",
   "metadata": {},
   "source": [
    "Indentation refers to the spaces at the beginning of a code line. Where in other programming languages the indentation in code is for readability only, the indentation in Python is very important. Python uses indentation to indicate a block of code."
   ]
  }
 ],
 "metadata": {
  "kernelspec": {
   "display_name": "Python 3 (ipykernel)",
   "language": "python",
   "name": "python3"
  },
  "language_info": {
   "codemirror_mode": {
    "name": "ipython",
    "version": 3
   },
   "file_extension": ".py",
   "mimetype": "text/x-python",
   "name": "python",
   "nbconvert_exporter": "python",
   "pygments_lexer": "ipython3",
   "version": "3.10.8"
  }
 },
 "nbformat": 4,
 "nbformat_minor": 5
}
