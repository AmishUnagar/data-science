{
 "cells": [
  {
   "cell_type": "markdown",
   "id": "9de2b7c2-3d2e-4ecd-9857-68850f93eb58",
   "metadata": {},
   "source": [
    "Q1. Load the \"titanic\" dataset using the load_dataset function of seaborn. Use Plotly express to plot a\n",
    "scatter plot for age and fare columns in the titanic dataset."
   ]
  },
  {
   "cell_type": "markdown",
   "id": "fd4bc045-d467-4275-9b3d-781c158dfe08",
   "metadata": {},
   "source": [
    "\n",
    "Unfortunately, as an AI text-based model, I don't have direct access to the internet or the capability to run code. However, I can provide you with the code snippet to accomplish your task. Here's an example of how you can load the \"titanic\" dataset using seaborn's load_dataset function and create a scatter plot for the \"age\" and \"fare\" columns using Plotly Express:"
   ]
  },
  {
   "cell_type": "code",
   "execution_count": null,
   "id": "c5d0821c-c2cb-4a68-bb89-9dc09a0a851d",
   "metadata": {},
   "outputs": [],
   "source": [
    "\n",
    "import seaborn as sns\n",
    "import plotly.express as px\n",
    "\n",
    "# Load the \"titanic\" dataset from seaborn\n",
    "titanic_df = sns.load_dataset(\"titanic\")\n",
    "\n",
    "# Create a scatter plot using Plotly Express\n",
    "scatter_plot = px.scatter(titanic_df, x=\"age\", y=\"fare\", title=\"Titanic Dataset Scatter Plot\")\n",
    "\n",
    "# Display the scatter plot\n",
    "scatter_plot.show()"
   ]
  },
  {
   "cell_type": "code",
   "execution_count": null,
   "id": "0a49d59e-3326-457b-82d1-7f3ee4e010cc",
   "metadata": {},
   "outputs": [],
   "source": []
  },
  {
   "cell_type": "markdown",
   "id": "e05b7ddf-4319-4e12-8020-8d4efa1275bc",
   "metadata": {},
   "source": [
    "Q2. Using the tips dataset in the Plotly library, plot a box plot using Plotly express."
   ]
  },
  {
   "cell_type": "code",
   "execution_count": null,
   "id": "77302b90-e300-4a96-8ab8-c606389ab162",
   "metadata": {},
   "outputs": [],
   "source": [
    "import plotly.express as px\n",
    "\n",
    "# Load the \"tips\" dataset from Plotly\n",
    "tips_df = px.data.tips()\n",
    "\n",
    "# Create a box plot using Plotly Express\n",
    "box_plot = px.box(tips_df, x=\"day\", y=\"total_bill\", title=\"Tips Dataset Box Plot\")\n",
    "\n",
    "# Display the box plot\n",
    "box_plot.show()\n"
   ]
  },
  {
   "cell_type": "markdown",
   "id": "8fad285f-15f4-4901-8f9a-0fcda4c5e697",
   "metadata": {},
   "source": [
    "In this example, we import the necessary library and load the \"tips\" dataset from Plotly using px.data.tips(), which returns a Pandas DataFrame (tips_df). We then create a box plot using px.box from Plotly Express. We specify the \"day\" column as the x-axis and the \"total_bill\" column as the y-axis. Finally, we display the box plot using box_plot.show()."
   ]
  },
  {
   "cell_type": "code",
   "execution_count": null,
   "id": "42d80c80-ddc5-4709-b317-0eeb0eb92db2",
   "metadata": {},
   "outputs": [],
   "source": []
  },
  {
   "cell_type": "markdown",
   "id": "7eb0be8a-1976-4d63-a2e3-4ed44c6f430e",
   "metadata": {},
   "source": [
    "Q3. Using the tips dataset in the Plotly library, Plot a histogram for x= \"sex\" and y=\"total_bill\" column in\n",
    "the tips dataset. Also, use the \"smoker\" column with the pattern_shape parameter and the \"day\"\n",
    "column with the color parameter."
   ]
  },
  {
   "cell_type": "code",
   "execution_count": null,
   "id": "a014d40b-8613-44c2-bb01-c6a70f932267",
   "metadata": {},
   "outputs": [],
   "source": [
    " import plotly.express as px\n",
    "\n",
    "# Load the \"tips\" dataset from Plotly\n",
    "tips_df = px.data.tips()\n",
    "\n",
    "# Create a histogram using Plotly Express\n",
    "histogram = px.histogram(\n",
    "    tips_df, \n",
    "    x=\"sex\", \n",
    "    y=\"total_bill\", \n",
    "    color=\"day\", \n",
    "    pattern_shape=\"smoker\",\n",
    "    title=\"Tips Dataset Histogram\"\n",
    ")\n",
    "\n",
    "# Display the histogram\n",
    "histogram.show()\n"
   ]
  },
  {
   "cell_type": "code",
   "execution_count": null,
   "id": "a44df918-99be-4579-b081-2006795702e7",
   "metadata": {},
   "outputs": [],
   "source": []
  },
  {
   "cell_type": "markdown",
   "id": "3f2cadd3-7431-4e18-a849-7fcc33e04e90",
   "metadata": {},
   "source": [
    "Q4. Using the iris dataset in the Plotly library, Plot a scatter matrix plot, using the \"species\" column for\n",
    "the color parameter."
   ]
  },
  {
   "cell_type": "code",
   "execution_count": null,
   "id": "c3f103c6-7d9a-47b7-80ff-be5ea9806e91",
   "metadata": {},
   "outputs": [],
   "source": [
    "import plotly.express as px\n",
    "\n",
    "# Load the \"iris\" dataset from Plotly\n",
    "iris_df = px.data.iris()\n",
    "\n",
    "# Create a scatter matrix plot using Plotly Express\n",
    "scatter_matrix = px.scatter_matrix(\n",
    "    iris_df,\n",
    "    dimensions=[\"sepal_width\", \"sepal_length\", \"petal_width\", \"petal_length\"],\n",
    "    color=\"species\",\n",
    "    title=\"Iris Dataset Scatter Matrix Plot\"\n",
    ")\n",
    "\n",
    "# Display the scatter matrix plot\n",
    "scatter_matrix.show()\n"
   ]
  },
  {
   "cell_type": "code",
   "execution_count": null,
   "id": "c6423d2b-9143-40ab-ad93-323acad06afb",
   "metadata": {},
   "outputs": [],
   "source": []
  },
  {
   "cell_type": "markdown",
   "id": "5ed948d7-a006-4207-be43-098da8a85a0b",
   "metadata": {},
   "source": [
    "Q5. What is Distplot? Using Plotly express, plot a distplot."
   ]
  },
  {
   "cell_type": "markdown",
   "id": "0f762292-a6cf-4b48-977d-6bbdf487a422",
   "metadata": {},
   "source": [
    "In Plotly Express, distplot is a function used to create a distribution plot, also known as a histogram with a curve representing the estimated probability density function.\n",
    "\n",
    "Here's an example of how you can use Plotly Express to create a distplot:"
   ]
  },
  {
   "cell_type": "code",
   "execution_count": null,
   "id": "4fa63e43-54d3-445a-a28b-26228f58eff4",
   "metadata": {},
   "outputs": [],
   "source": [
    "import plotly.express as px\n",
    "\n",
    "# Load the \"tips\" dataset from Plotly\n",
    "tips_df = px.data.tips()\n",
    "\n",
    "# Create a distplot using Plotly Express\n",
    "distplot = px.histogram(tips_df, x=\"total_bill\", marginal=\"rug\", title=\"Tips Dataset Distplot\")\n",
    "\n",
    "# Display the distplot\n",
    "distplot.show()\n"
   ]
  },
  {
   "cell_type": "markdown",
   "id": "29b8a896-8177-42d5-8bff-fd5dc4d531fe",
   "metadata": {},
   "source": [
    "In this example, we import the necessary library and load the \"tips\" dataset from Plotly using px.data.tips(), which returns a Pandas DataFrame (tips_df).\n",
    "\n",
    "We then create a distplot using px.histogram from Plotly Express. We specify the \"total_bill\" column as the x-axis and include the marginal=\"rug\" parameter to display a rug plot along the x-axis. This adds small vertical tick marks at each data point to visualize the distribution."
   ]
  },
  {
   "cell_type": "code",
   "execution_count": null,
   "id": "f8f31701-82b7-4816-8af1-3d7bf5339320",
   "metadata": {},
   "outputs": [],
   "source": []
  }
 ],
 "metadata": {
  "kernelspec": {
   "display_name": "Python 3 (ipykernel)",
   "language": "python",
   "name": "python3"
  },
  "language_info": {
   "codemirror_mode": {
    "name": "ipython",
    "version": 3
   },
   "file_extension": ".py",
   "mimetype": "text/x-python",
   "name": "python",
   "nbconvert_exporter": "python",
   "pygments_lexer": "ipython3",
   "version": "3.10.8"
  }
 },
 "nbformat": 4,
 "nbformat_minor": 5
}
