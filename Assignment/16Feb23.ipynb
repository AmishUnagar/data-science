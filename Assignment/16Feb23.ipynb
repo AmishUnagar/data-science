{
 "cells": [
  {
   "cell_type": "markdown",
   "id": "6605cdca-4c5c-49b5-9c1e-1b179236f495",
   "metadata": {},
   "source": [
    "Q1. What is a database? Differentiate between SQL and NoSQL databases."
   ]
  },
  {
   "cell_type": "markdown",
   "id": "78311ded-31b6-40c5-873a-d3c1ee508105",
   "metadata": {},
   "source": [
    "A database is a collection of organized and structured data that can be accessed, managed, and updated easily. It can be stored and retrieved from a computer or server. Databases are used in many fields, including business, education, healthcare, and more. They are crucial for managing and organizing data in a way that is efficient and effective.\n",
    "\n",
    "SQL and NoSQL databases are two different types of database management systems. SQL stands for Structured Query Language, while NoSQL stands for Not Only SQL. Here are some key differences between the two:\n",
    "\n",
    "Data Structure: SQL databases have a predefined data structure, which means the data is stored in tables with fixed columns and rows. NoSQL databases, on the other hand, do not have a fixed data structure, and the data is stored in a flexible and dynamic way.\n",
    "\n",
    "Querying Language: SQL databases use SQL as their querying language, which is a standardized language used to manage relational databases. NoSQL databases use different querying languages depending on the type of database.\n",
    "\n",
    "Scalability: SQL databases are vertically scalable, which means that they can only handle more data by increasing the hardware resources. NoSQL databases, on the other hand, are horizontally scalable, which means they can handle more data by adding more servers to the database cluster.\n",
    "\n",
    "Data Consistency: SQL databases have a strong consistency model, which means that data is always consistent and up-to-date. NoSQL databases have a weaker consistency model, which means that data may not always be consistent, but this is often a trade-off for increased performance and scalability.\n",
    "\n",
    "Use Cases: SQL databases are often used for transactional applications, such as banking and e-commerce. NoSQL databases are often used for non-transactional applications, such as big data and real-time data processing."
   ]
  },
  {
   "cell_type": "code",
   "execution_count": null,
   "id": "e59b70e8-8ba1-4be6-9e31-76d7a1153aba",
   "metadata": {},
   "outputs": [],
   "source": []
  },
  {
   "cell_type": "markdown",
   "id": "917eb28e-dc0c-4c8c-9c9c-514dfa219cfe",
   "metadata": {},
   "source": [
    "Q2. What is DDL? Explain why CREATE, DROP, ALTER, and TRUNCATE are used with an example."
   ]
  },
  {
   "cell_type": "markdown",
   "id": "bd62b28f-1d13-413f-b750-691b238f2b54",
   "metadata": {},
   "source": [
    "DDL stands for Data Definition Language, which is a subset of SQL (Structured Query Language) that is used to define the structure and properties of database objects such as tables, indexes, and views.\n",
    "\n",
    "The four main commands in DDL are:\n",
    "\n",
    "1. CREATE: This command is used to create new database objects such as tables, views, procedures, and indexes. For example, the following SQL statement creates a new table called \"employees\":\n",
    "\n",
    "CREATE TABLE employees (\n",
    "id INT PRIMARY KEY,\n",
    "name VARCHAR(50),\n",
    "age INT,\n",
    "salary DECIMAL(10, 2)\n",
    ");\n",
    "\n",
    "2. DROP: This command is used to delete existing database objects such as tables, views, procedures, and indexes. For example, the following SQL statement deletes the \"employees\" table:\n",
    "\n",
    "DROP TABLE employees;\n",
    "\n",
    "3. ALTER: This command is used to modify the structure of an existing database object such as a table or view. For example, the following SQL statement adds a new column called \"department\" to the \"employees\" table:\n",
    "\n",
    "ALTER TABLE employees ADD COLUMN department VARCHAR(50);\n",
    "\n",
    "4. TRUNCATE: This command is used to delete all rows from a table without deleting the table structure itself. For example, the following SQL statement removes all data from the \"employees\" table:\n",
    "\n",
    "TRUNCATE TABLE employees;"
   ]
  },
  {
   "cell_type": "code",
   "execution_count": null,
   "id": "5dd9c1e6-9e0d-4a97-9539-7d569cc80188",
   "metadata": {},
   "outputs": [],
   "source": []
  },
  {
   "cell_type": "markdown",
   "id": "3e48aa60-f87d-4961-b7cd-0f0232e5ab06",
   "metadata": {},
   "source": [
    "Q3. What is DML? Explain INSERT, UPDATE, and DELETE with an example."
   ]
  },
  {
   "cell_type": "markdown",
   "id": "015e924f-ba0e-415e-a630-4b0538a9d95e",
   "metadata": {},
   "source": [
    "DML stands for Data Manipulation Language, which is a subset of SQL that is used to manage and manipulate data stored in a database. DML commands include INSERT, UPDATE, and DELETE."
   ]
  },
  {
   "cell_type": "markdown",
   "id": "6e9c1ace-5447-4d3b-a2f5-1b296af8befd",
   "metadata": {},
   "source": [
    "1. INSERT: This command is used to insert new data into a table in the database. The syntax for the INSERT command is as follows:\n",
    "\n",
    " INSERT INTO table_name (column1, column2, ...)\n",
    "VALUES (value1, value2, ...);"
   ]
  },
  {
   "cell_type": "markdown",
   "id": "d20b5410-1197-4977-acef-b0e4293ed317",
   "metadata": {},
   "source": [
    "2. UPDATE: This command is used to modify existing data in a table in the database. The syntax for the UPDATE command is as follows:\n",
    "\n",
    "UPDATE table_name\n",
    "SET column1 = value1, column2 = value2, ...\n",
    "WHERE condition;"
   ]
  },
  {
   "cell_type": "markdown",
   "id": "09594da9-1e7f-4680-86d1-7797de0a68c4",
   "metadata": {},
   "source": [
    "3. DELETE: This command is used to remove data from a table in the database. The syntax for the DELETE command is as follows:\n",
    "\n",
    "DELETE FROM table_name\n",
    "WHERE condition;"
   ]
  },
  {
   "cell_type": "code",
   "execution_count": null,
   "id": "865a16f8-29f8-423b-8a51-ca8a0de38b7e",
   "metadata": {},
   "outputs": [],
   "source": []
  },
  {
   "cell_type": "markdown",
   "id": "74963319-f989-4c92-b81d-a054a4e7fa51",
   "metadata": {},
   "source": [
    "Q4. What is DQL? Explain SELECT with an example."
   ]
  },
  {
   "cell_type": "markdown",
   "id": "9b91ad42-f6a2-478a-b3bd-52f606e59b28",
   "metadata": {},
   "source": [
    "DQL stands for Data Query Language, which is a subset of SQL (Structured Query Language) used to retrieve data from a database. DQL commands allow you to select, filter, and sort data stored in one or more database tables.\n",
    "\n",
    "One of the most commonly used DQL commands is SELECT, which is used to retrieve data from a database table. The SELECT statement is written using SQL syntax and specifies the columns of data to retrieve and the table(s) from which to retrieve the data. Here's an example of a SELECT statement:\n",
    "\n",
    "SELECT column1, column2, ...\n",
    "FROM table_name\n",
    "WHERE condition;\n",
    "\n",
    "In this example, column1, column2, etc. are the names of the columns in the table that you want to retrieve data from. table_name is the name of the table from which you want to retrieve data. condition is an optional parameter that specifies the conditions that the retrieved data must meet.\n",
    "\n",
    "For instance, let's say you have a table named \"students\" with columns \"name\", \"age\", \"gender\", and \"class\". To retrieve the names and ages of all the students in the \"class 10\" you would use the following SELECT statement:\n",
    "\n"
   ]
  },
  {
   "cell_type": "code",
   "execution_count": null,
   "id": "63cf35cc-fa88-4d2c-842d-62b31dd37d92",
   "metadata": {},
   "outputs": [],
   "source": []
  },
  {
   "cell_type": "markdown",
   "id": "e3c5cf10-2cb7-452b-88cf-d039b2b05ceb",
   "metadata": {},
   "source": [
    "Q5. Explain Primary Key and Foreign Key."
   ]
  },
  {
   "cell_type": "markdown",
   "id": "b81a5d47-512e-4186-8a18-ee6f6e726830",
   "metadata": {},
   "source": [
    "Primary Key:\n",
    "A primary key is a unique identifier that is used to identify a specific record in a table. It is a column or set of columns that uniquely identify each row in a table. Primary keys are important because they ensure that each record in a table can be uniquely identified and that there are no duplicate records.\n",
    "\n",
    "A primary key can be a single column or a combination of columns. When a primary key consists of multiple columns, it is called a composite primary key. Primary keys are typically used to enforce data integrity and to create relationships between tables.\n",
    "\n",
    "Foreign Key:\n",
    "A foreign key is a field in a table that refers to the primary key of another table. It is used to establish a relationship between two tables. The foreign key ensures referential integrity by preventing any invalid data from being entered into the table.\n",
    "\n",
    "When a foreign key is created, it must refer to a primary key in another table. This ensures that data in the table is linked to data in another table. Foreign keys can be used to create many-to-one relationships between tables, where one record in one table can be associated with multiple records in another table.\n",
    "\n",
    "In summary, a primary key is a unique identifier for a table, while a foreign key is a field in a table that refers to the primary key of another table. Together, they can be used to create relationships between tables and ensure data integrity."
   ]
  },
  {
   "cell_type": "code",
   "execution_count": null,
   "id": "f0f2be0f-4749-4b9f-8090-e2bafe52416f",
   "metadata": {},
   "outputs": [],
   "source": []
  },
  {
   "cell_type": "markdown",
   "id": "faa74ed4-f232-4dfd-9607-f3ad6c543aa3",
   "metadata": {},
   "source": [
    "Q6. Write a python code to connect MySQL to python. Explain the cursor() and execute() method."
   ]
  },
  {
   "cell_type": "markdown",
   "id": "9e11128b-7b45-4628-b6c2-f1c42262d7d6",
   "metadata": {},
   "source": [
    "import mysql.connector\n",
    "\n",
    "# #Connect to the database\n",
    "mydb = mysql.connector.connect(\n",
    "  host=\"localhost\",\n",
    "  user=\"yourusername\",\n",
    "  password=\"yourpassword\",\n",
    "  database=\"yourdatabase\"\n",
    ")\n",
    "\n",
    "# #Create a cursor object\n",
    "mycursor = mydb.cursor()\n",
    "\n",
    "# #Execute a query\n",
    "mycursor.execute(\"SELECT * FROM yourtable\")\n",
    "\n",
    "# #Fetch the results\n",
    "myresult = mycursor.fetchall()\n",
    "\n",
    "# #Print the results\n",
    "for x in myresult:\n",
    "\n",
    "  print(x)\n"
   ]
  },
  {
   "cell_type": "markdown",
   "id": "25652278-cb66-4190-bd3e-dfbfa40a38aa",
   "metadata": {},
   "source": [
    "In this example, we first import the mysql.connector module, which provides a Python interface to MySQL. We then connect to the database using the connect() method, passing in the host, user, password, and database name.\n",
    "\n",
    "After connecting, we create a cursor object using the cursor() method of the mydb object. The cursor is a control structure that allows us to execute SQL statements and retrieve results.\n",
    "\n",
    "The execute() method of the cursor is used to execute SQL queries. In this example, we execute a simple SELECT statement to retrieve all records from a table.\n",
    "\n",
    "The fetchall() method is called on the cursor object to fetch all the results of the query, and the results are stored in the myresult variable. We then loop through the results and print each row.\n",
    "\n",
    "The commit() method can be used to commit any changes made to the database, and the close() method can be used to close the database connection."
   ]
  },
  {
   "cell_type": "code",
   "execution_count": null,
   "id": "e225c477-7dac-49bc-8990-f8a69117567f",
   "metadata": {},
   "outputs": [],
   "source": []
  },
  {
   "cell_type": "markdown",
   "id": "566540b4-6c02-4ba8-ab4f-e83eb0cd88a0",
   "metadata": {},
   "source": [
    "Q7. Give the order of execution of SQL clauses in an SQL query."
   ]
  },
  {
   "cell_type": "markdown",
   "id": "0023bdef-f674-44d0-9577-31ba8654ef13",
   "metadata": {},
   "source": [
    "The order of execution of SQL clauses in an SQL query is as follows:\n",
    "\n",
    "1. FROM clause: This clause specifies the tables from which the data will be retrieved.\n",
    "\n",
    "2. WHERE clause: This clause filters the rows based on the specified conditions.\n",
    "\n",
    "3. GROUP BY clause: This clause groups the result set by one or more columns.\n",
    "\n",
    "4. HAVING clause: This clause filters the groups based on the specified conditions.\n",
    "\n",
    "5. SELECT clause: This clause selects the columns to be included in the result set.\n",
    "\n",
    "6. DISTINCT clause: This clause removes duplicates from the result set.\n",
    "\n",
    "7. ORDER BY clause: This clause sorts the result set based on one or more columns.\n",
    "\n",
    "8. LIMIT/OFFSET clause: This clause limits the number of rows returned by the query and specifies an offset for the result set."
   ]
  },
  {
   "cell_type": "markdown",
   "id": "d0e91b5d-cfd5-470c-af35-8ed96d58956b",
   "metadata": {},
   "source": []
  }
 ],
 "metadata": {
  "kernelspec": {
   "display_name": "Python 3 (ipykernel)",
   "language": "python",
   "name": "python3"
  },
  "language_info": {
   "codemirror_mode": {
    "name": "ipython",
    "version": 3
   },
   "file_extension": ".py",
   "mimetype": "text/x-python",
   "name": "python",
   "nbconvert_exporter": "python",
   "pygments_lexer": "ipython3",
   "version": "3.10.8"
  }
 },
 "nbformat": 4,
 "nbformat_minor": 5
}
